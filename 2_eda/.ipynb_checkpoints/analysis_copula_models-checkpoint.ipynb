{
 "cells": [
  {
   "cell_type": "markdown",
   "id": "c1bcd195",
   "metadata": {},
   "source": [
    "# Analysis Copula Models"
   ]
  },
  {
   "cell_type": "code",
   "execution_count": 1,
   "id": "45c7633d",
   "metadata": {},
   "outputs": [],
   "source": [
    "from datetime import datetime\n",
    "import matplotlib.pyplot as plt\n",
    "import numpy as np\n",
    "import pathlib\n",
    "import pandas as pd\n",
    "import platform\n",
    "import pyvinecopulib as pv\n",
    "import random\n",
    "import seaborn as sns\n",
    "from sqlalchemy import create_engine\n",
    "import sys\n",
    "\n",
    "date_format = \"%Y-%m-%d\""
   ]
  },
  {
   "cell_type": "code",
   "execution_count": 2,
   "id": "70ff88d9",
   "metadata": {},
   "outputs": [
    {
     "name": "stdout",
     "output_type": "stream",
     "text": [
      "OS in my system :  Windows\n"
     ]
    }
   ],
   "source": [
    "my_os = platform.system()\n",
    "print(\"OS in my system : \",my_os)\n",
    "\n",
    "if my_os == \"Windows\":\n",
    "    path = str(pathlib.Path().absolute()) + '\\\\'\n",
    "    slash = '\\\\'\n",
    "else:\n",
    "    path = str(pathlib.Path().absolute()) + '/'\n",
    "    slash = '/'\n",
    "    \n",
    "copula_path = path.replace('2_eda', '1_data_collection') + 'data_artifacts' + slash + 'copulas'"
   ]
  },
  {
   "cell_type": "markdown",
   "id": "089d2a36",
   "metadata": {},
   "source": [
    "## Copula Target\n",
    "### SPX Eikon"
   ]
  },
  {
   "cell_type": "code",
   "execution_count": 3,
   "id": "27b21df7",
   "metadata": {},
   "outputs": [
    {
     "data": {
      "text/html": [
       "<div>\n",
       "<style scoped>\n",
       "    .dataframe tbody tr th:only-of-type {\n",
       "        vertical-align: middle;\n",
       "    }\n",
       "\n",
       "    .dataframe tbody tr th {\n",
       "        vertical-align: top;\n",
       "    }\n",
       "\n",
       "    .dataframe thead th {\n",
       "        text-align: right;\n",
       "    }\n",
       "</style>\n",
       "<table border=\"1\" class=\"dataframe\">\n",
       "  <thead>\n",
       "    <tr style=\"text-align: right;\">\n",
       "      <th></th>\n",
       "      <th>symbol</th>\n",
       "      <th>year</th>\n",
       "      <th>family</th>\n",
       "      <th>rotation</th>\n",
       "      <th>tau</th>\n",
       "      <th>parameters</th>\n",
       "    </tr>\n",
       "  </thead>\n",
       "  <tbody>\n",
       "    <tr>\n",
       "      <th>0</th>\n",
       "      <td>A</td>\n",
       "      <td>2000</td>\n",
       "      <td>clayton</td>\n",
       "      <td>0</td>\n",
       "      <td>0.232904</td>\n",
       "      <td>[[0.607237]]</td>\n",
       "    </tr>\n",
       "    <tr>\n",
       "      <th>1</th>\n",
       "      <td>A</td>\n",
       "      <td>2001</td>\n",
       "      <td>gaussian</td>\n",
       "      <td>0</td>\n",
       "      <td>0.458727</td>\n",
       "      <td>[[0.65981076]]</td>\n",
       "    </tr>\n",
       "    <tr>\n",
       "      <th>2</th>\n",
       "      <td>A</td>\n",
       "      <td>2002</td>\n",
       "      <td>frank</td>\n",
       "      <td>0</td>\n",
       "      <td>0.499681</td>\n",
       "      <td>[[5.73048141]]</td>\n",
       "    </tr>\n",
       "    <tr>\n",
       "      <th>3</th>\n",
       "      <td>A</td>\n",
       "      <td>2003</td>\n",
       "      <td>gumbel</td>\n",
       "      <td>180</td>\n",
       "      <td>0.505513</td>\n",
       "      <td>[[2.02229729]]</td>\n",
       "    </tr>\n",
       "    <tr>\n",
       "      <th>4</th>\n",
       "      <td>A</td>\n",
       "      <td>2004</td>\n",
       "      <td>frank</td>\n",
       "      <td>0</td>\n",
       "      <td>0.462612</td>\n",
       "      <td>[[5.09499262]]</td>\n",
       "    </tr>\n",
       "  </tbody>\n",
       "</table>\n",
       "</div>"
      ],
      "text/plain": [
       "  symbol  year    family  rotation       tau      parameters\n",
       "0      A  2000   clayton         0  0.232904    [[0.607237]]\n",
       "1      A  2001  gaussian         0  0.458727  [[0.65981076]]\n",
       "2      A  2002     frank         0  0.499681  [[5.73048141]]\n",
       "3      A  2003    gumbel       180  0.505513  [[2.02229729]]\n",
       "4      A  2004     frank         0  0.462612  [[5.09499262]]"
      ]
     },
     "execution_count": 3,
     "metadata": {},
     "output_type": "execute_result"
    }
   ],
   "source": [
    "e_target_spx = pd.read_excel(copula_path + slash + '1_3_18_e_target_spx.xlsx')\n",
    "e_target_spx = e_target_spx.drop(columns=['Unnamed: 0'])\n",
    "\n",
    "e_target_spx['family'] = e_target_spx['family'].replace('BicopFamily.clayton', 'clayton')\n",
    "e_target_spx['family'] = e_target_spx['family'].replace('BicopFamily.gaussian', 'gaussian')\n",
    "e_target_spx['family'] = e_target_spx['family'].replace('BicopFamily.frank', 'frank')\n",
    "e_target_spx['family'] = e_target_spx['family'].replace('BicopFamily.gumbel', 'gumbel')\n",
    "e_target_spx['family'] = e_target_spx['family'].replace('BicopFamily.student', 'student')\n",
    "e_target_spx['family'] = e_target_spx['family'].replace('BicopFamily.indep', 'indep')\n",
    "e_target_spx['family'] = e_target_spx['family'].replace('BicopFamily.joe', 'joe')\n",
    "\n",
    "e_target_spx.head()"
   ]
  },
  {
   "cell_type": "code",
   "execution_count": 4,
   "id": "22217c95",
   "metadata": {},
   "outputs": [
    {
     "name": "stdout",
     "output_type": "stream",
     "text": [
      "Proportion of zero values:\n",
      "0.12659659114703295\n"
     ]
    }
   ],
   "source": [
    "print('Proportion of zero values:')\n",
    "print((e_target_spx['tau'] == 0).sum()/(len(e_target_spx)))"
   ]
  },
  {
   "cell_type": "code",
   "execution_count": 5,
   "id": "dc75fdaa",
   "metadata": {},
   "outputs": [
    {
     "data": {
      "text/html": [
       "<div>\n",
       "<style scoped>\n",
       "    .dataframe tbody tr th:only-of-type {\n",
       "        vertical-align: middle;\n",
       "    }\n",
       "\n",
       "    .dataframe tbody tr th {\n",
       "        vertical-align: top;\n",
       "    }\n",
       "\n",
       "    .dataframe thead th {\n",
       "        text-align: right;\n",
       "    }\n",
       "</style>\n",
       "<table border=\"1\" class=\"dataframe\">\n",
       "  <thead>\n",
       "    <tr style=\"text-align: right;\">\n",
       "      <th></th>\n",
       "      <th>year</th>\n",
       "      <th>rotation</th>\n",
       "      <th>tau</th>\n",
       "    </tr>\n",
       "  </thead>\n",
       "  <tbody>\n",
       "    <tr>\n",
       "      <th>count</th>\n",
       "      <td>47758.000000</td>\n",
       "      <td>47758.000000</td>\n",
       "      <td>47758.000000</td>\n",
       "    </tr>\n",
       "    <tr>\n",
       "      <th>mean</th>\n",
       "      <td>2011.770677</td>\n",
       "      <td>51.846392</td>\n",
       "      <td>0.278962</td>\n",
       "    </tr>\n",
       "    <tr>\n",
       "      <th>std</th>\n",
       "      <td>5.896392</td>\n",
       "      <td>81.598709</td>\n",
       "      <td>0.165382</td>\n",
       "    </tr>\n",
       "    <tr>\n",
       "      <th>min</th>\n",
       "      <td>2000.000000</td>\n",
       "      <td>0.000000</td>\n",
       "      <td>-0.224582</td>\n",
       "    </tr>\n",
       "    <tr>\n",
       "      <th>25%</th>\n",
       "      <td>2007.000000</td>\n",
       "      <td>0.000000</td>\n",
       "      <td>0.156176</td>\n",
       "    </tr>\n",
       "    <tr>\n",
       "      <th>50%</th>\n",
       "      <td>2013.000000</td>\n",
       "      <td>0.000000</td>\n",
       "      <td>0.294395</td>\n",
       "    </tr>\n",
       "    <tr>\n",
       "      <th>75%</th>\n",
       "      <td>2017.000000</td>\n",
       "      <td>180.000000</td>\n",
       "      <td>0.402372</td>\n",
       "    </tr>\n",
       "    <tr>\n",
       "      <th>max</th>\n",
       "      <td>2021.000000</td>\n",
       "      <td>270.000000</td>\n",
       "      <td>0.748887</td>\n",
       "    </tr>\n",
       "  </tbody>\n",
       "</table>\n",
       "</div>"
      ],
      "text/plain": [
       "               year      rotation           tau\n",
       "count  47758.000000  47758.000000  47758.000000\n",
       "mean    2011.770677     51.846392      0.278962\n",
       "std        5.896392     81.598709      0.165382\n",
       "min     2000.000000      0.000000     -0.224582\n",
       "25%     2007.000000      0.000000      0.156176\n",
       "50%     2013.000000      0.000000      0.294395\n",
       "75%     2017.000000    180.000000      0.402372\n",
       "max     2021.000000    270.000000      0.748887"
      ]
     },
     "execution_count": 5,
     "metadata": {},
     "output_type": "execute_result"
    }
   ],
   "source": [
    "e_target_spx.describe()"
   ]
  },
  {
   "cell_type": "code",
   "execution_count": 6,
   "id": "2381d243",
   "metadata": {},
   "outputs": [
    {
     "data": {
      "text/plain": [
       "gumbel      0.322627\n",
       "gaussian    0.184137\n",
       "student     0.163638\n",
       "frank       0.132836\n",
       "indep       0.126597\n",
       "clayton     0.039386\n",
       "joe         0.030780\n",
       "Name: family, dtype: float64"
      ]
     },
     "execution_count": 6,
     "metadata": {},
     "output_type": "execute_result"
    }
   ],
   "source": [
    "e_target_spx['family'].value_counts()/len(e_target_spx)"
   ]
  },
  {
   "cell_type": "code",
   "execution_count": 7,
   "id": "8f478e0c",
   "metadata": {},
   "outputs": [
    {
     "data": {
      "text/plain": [
       "(0.0, 650.0)"
      ]
     },
     "execution_count": 7,
     "metadata": {},
     "output_type": "execute_result"
    },
    {
     "data": {
      "image/png": "[encoded data removed]",
      "text/plain": [
       "<Figure size 640x480 with 1 Axes>"
      ]
     },
     "metadata": {},
     "output_type": "display_data"
    }
   ],
   "source": [
    "fig = sns.histplot(data = e_target_spx, x = 'tau', bins = 200)\n",
    "fig.set_xlabel(None)\n",
    "fig.set_ylabel(None)\n",
    "plt.xlim(-0.25,0.8)\n",
    "plt.ylim(0,650)"
   ]
  },
  {
   "cell_type": "markdown",
   "id": "3a5e68ae",
   "metadata": {},
   "source": [
    "### SPX Kaggle"
   ]
  },
  {
   "cell_type": "code",
   "execution_count": 8,
   "id": "8b3bcf1e",
   "metadata": {},
   "outputs": [
    {
     "data": {
      "text/html": [
       "<div>\n",
       "<style scoped>\n",
       "    .dataframe tbody tr th:only-of-type {\n",
       "        vertical-align: middle;\n",
       "    }\n",
       "\n",
       "    .dataframe tbody tr th {\n",
       "        vertical-align: top;\n",
       "    }\n",
       "\n",
       "    .dataframe thead th {\n",
       "        text-align: right;\n",
       "    }\n",
       "</style>\n",
       "<table border=\"1\" class=\"dataframe\">\n",
       "  <thead>\n",
       "    <tr style=\"text-align: right;\">\n",
       "      <th></th>\n",
       "      <th>symbol</th>\n",
       "      <th>year</th>\n",
       "      <th>family</th>\n",
       "      <th>rotation</th>\n",
       "      <th>tau</th>\n",
       "      <th>parameters</th>\n",
       "    </tr>\n",
       "  </thead>\n",
       "  <tbody>\n",
       "    <tr>\n",
       "      <th>0</th>\n",
       "      <td>A</td>\n",
       "      <td>2000</td>\n",
       "      <td>clayton</td>\n",
       "      <td>0</td>\n",
       "      <td>0.226182</td>\n",
       "      <td>[[0.58458702]]</td>\n",
       "    </tr>\n",
       "    <tr>\n",
       "      <th>1</th>\n",
       "      <td>A</td>\n",
       "      <td>2001</td>\n",
       "      <td>gaussian</td>\n",
       "      <td>0</td>\n",
       "      <td>0.458499</td>\n",
       "      <td>[[0.65954144]]</td>\n",
       "    </tr>\n",
       "    <tr>\n",
       "      <th>2</th>\n",
       "      <td>A</td>\n",
       "      <td>2002</td>\n",
       "      <td>frank</td>\n",
       "      <td>0</td>\n",
       "      <td>0.496933</td>\n",
       "      <td>[[5.68081128]]</td>\n",
       "    </tr>\n",
       "    <tr>\n",
       "      <th>3</th>\n",
       "      <td>A</td>\n",
       "      <td>2003</td>\n",
       "      <td>gumbel</td>\n",
       "      <td>180</td>\n",
       "      <td>0.502051</td>\n",
       "      <td>[[2.00823808]]</td>\n",
       "    </tr>\n",
       "    <tr>\n",
       "      <th>4</th>\n",
       "      <td>A</td>\n",
       "      <td>2004</td>\n",
       "      <td>frank</td>\n",
       "      <td>0</td>\n",
       "      <td>0.462612</td>\n",
       "      <td>[[5.09499262]]</td>\n",
       "    </tr>\n",
       "  </tbody>\n",
       "</table>\n",
       "</div>"
      ],
      "text/plain": [
       "  symbol  year    family  rotation       tau      parameters\n",
       "0      A  2000   clayton         0  0.226182  [[0.58458702]]\n",
       "1      A  2001  gaussian         0  0.458499  [[0.65954144]]\n",
       "2      A  2002     frank         0  0.496933  [[5.68081128]]\n",
       "3      A  2003    gumbel       180  0.502051  [[2.00823808]]\n",
       "4      A  2004     frank         0  0.462612  [[5.09499262]]"
      ]
     },
     "execution_count": 8,
     "metadata": {},
     "output_type": "execute_result"
    }
   ],
   "source": [
    "k_target_spx = pd.read_excel(copula_path + slash + '1_4_2_k_target_spx.xlsx')\n",
    "k_target_spx = k_target_spx.drop(columns=['Unnamed: 0'])\n",
    "\n",
    "k_target_spx['family'] = k_target_spx['family'].replace('BicopFamily.clayton', 'clayton')\n",
    "k_target_spx['family'] = k_target_spx['family'].replace('BicopFamily.gaussian', 'gaussian')\n",
    "k_target_spx['family'] = k_target_spx['family'].replace('BicopFamily.frank', 'frank')\n",
    "k_target_spx['family'] = k_target_spx['family'].replace('BicopFamily.gumbel', 'gumbel')\n",
    "k_target_spx['family'] = k_target_spx['family'].replace('BicopFamily.student', 'student')\n",
    "k_target_spx['family'] = k_target_spx['family'].replace('BicopFamily.indep', 'indep')\n",
    "k_target_spx['family'] = k_target_spx['family'].replace('BicopFamily.joe', 'joe')\n",
    "\n",
    "k_target_spx.head()"
   ]
  },
  {
   "cell_type": "code",
   "execution_count": 9,
   "id": "88e7e798",
   "metadata": {},
   "outputs": [
    {
     "name": "stdout",
     "output_type": "stream",
     "text": [
      "Proportion of zero values:\n",
      "0.159207432250106\n"
     ]
    }
   ],
   "source": [
    "print('Proportion of zero values:')\n",
    "print((k_target_spx['tau'] == 0).sum()/(len(k_target_spx)))"
   ]
  },
  {
   "cell_type": "code",
   "execution_count": 10,
   "id": "214bafde",
   "metadata": {},
   "outputs": [
    {
     "data": {
      "text/html": [
       "<div>\n",
       "<style scoped>\n",
       "    .dataframe tbody tr th:only-of-type {\n",
       "        vertical-align: middle;\n",
       "    }\n",
       "\n",
       "    .dataframe tbody tr th {\n",
       "        vertical-align: top;\n",
       "    }\n",
       "\n",
       "    .dataframe thead th {\n",
       "        text-align: right;\n",
       "    }\n",
       "</style>\n",
       "<table border=\"1\" class=\"dataframe\">\n",
       "  <thead>\n",
       "    <tr style=\"text-align: right;\">\n",
       "      <th></th>\n",
       "      <th>year</th>\n",
       "      <th>rotation</th>\n",
       "      <th>tau</th>\n",
       "    </tr>\n",
       "  </thead>\n",
       "  <tbody>\n",
       "    <tr>\n",
       "      <th>count</th>\n",
       "      <td>51882.000000</td>\n",
       "      <td>51882.000000</td>\n",
       "      <td>51882.000000</td>\n",
       "    </tr>\n",
       "    <tr>\n",
       "      <th>mean</th>\n",
       "      <td>2011.597124</td>\n",
       "      <td>49.999422</td>\n",
       "      <td>0.266052</td>\n",
       "    </tr>\n",
       "    <tr>\n",
       "      <th>std</th>\n",
       "      <td>6.016610</td>\n",
       "      <td>80.685979</td>\n",
       "      <td>0.169825</td>\n",
       "    </tr>\n",
       "    <tr>\n",
       "      <th>min</th>\n",
       "      <td>2000.000000</td>\n",
       "      <td>0.000000</td>\n",
       "      <td>-0.192192</td>\n",
       "    </tr>\n",
       "    <tr>\n",
       "      <th>25%</th>\n",
       "      <td>2007.000000</td>\n",
       "      <td>0.000000</td>\n",
       "      <td>0.134940</td>\n",
       "    </tr>\n",
       "    <tr>\n",
       "      <th>50%</th>\n",
       "      <td>2012.000000</td>\n",
       "      <td>0.000000</td>\n",
       "      <td>0.281559</td>\n",
       "    </tr>\n",
       "    <tr>\n",
       "      <th>75%</th>\n",
       "      <td>2017.000000</td>\n",
       "      <td>180.000000</td>\n",
       "      <td>0.394536</td>\n",
       "    </tr>\n",
       "    <tr>\n",
       "      <th>max</th>\n",
       "      <td>2021.000000</td>\n",
       "      <td>270.000000</td>\n",
       "      <td>0.748887</td>\n",
       "    </tr>\n",
       "  </tbody>\n",
       "</table>\n",
       "</div>"
      ],
      "text/plain": [
       "               year      rotation           tau\n",
       "count  51882.000000  51882.000000  51882.000000\n",
       "mean    2011.597124     49.999422      0.266052\n",
       "std        6.016610     80.685979      0.169825\n",
       "min     2000.000000      0.000000     -0.192192\n",
       "25%     2007.000000      0.000000      0.134940\n",
       "50%     2012.000000      0.000000      0.281559\n",
       "75%     2017.000000    180.000000      0.394536\n",
       "max     2021.000000    270.000000      0.748887"
      ]
     },
     "execution_count": 10,
     "metadata": {},
     "output_type": "execute_result"
    }
   ],
   "source": [
    "k_target_spx.describe()"
   ]
  },
  {
   "cell_type": "code",
   "execution_count": 11,
   "id": "0decca60",
   "metadata": {},
   "outputs": [
    {
     "data": {
      "text/plain": [
       "gumbel      0.310801\n",
       "gaussian    0.174511\n",
       "indep       0.159207\n",
       "student     0.158783\n",
       "frank       0.128368\n",
       "clayton     0.037277\n",
       "joe         0.031051\n",
       "Name: family, dtype: float64"
      ]
     },
     "execution_count": 11,
     "metadata": {},
     "output_type": "execute_result"
    }
   ],
   "source": [
    "k_target_spx['family'].value_counts()/len(k_target_spx)"
   ]
  },
  {
   "cell_type": "code",
   "execution_count": 12,
   "id": "249a519e",
   "metadata": {
    "scrolled": true
   },
   "outputs": [
    {
     "data": {
      "text/plain": [
       "(0.0, 650.0)"
      ]
     },
     "execution_count": 12,
     "metadata": {},
     "output_type": "execute_result"
    },
    {
     "data": {
      "image/png": "[encoded data removed]",
      "text/plain": [
       "<Figure size 640x480 with 1 Axes>"
      ]
     },
     "metadata": {},
     "output_type": "display_data"
    }
   ],
   "source": [
    "fig = sns.histplot(data = k_target_spx, x = 'tau', bins = 200)\n",
    "fig.set_xlabel(None)\n",
    "fig.set_ylabel(None)\n",
    "plt.xlim(-0.25,0.8)\n",
    "plt.ylim(0,650)"
   ]
  },
  {
   "cell_type": "markdown",
   "id": "ef19176c",
   "metadata": {},
   "source": [
    "### NDX Eikon"
   ]
  },
  {
   "cell_type": "code",
   "execution_count": 13,
   "id": "76d0e27e",
   "metadata": {},
   "outputs": [
    {
     "data": {
      "text/html": [
       "<div>\n",
       "<style scoped>\n",
       "    .dataframe tbody tr th:only-of-type {\n",
       "        vertical-align: middle;\n",
       "    }\n",
       "\n",
       "    .dataframe tbody tr th {\n",
       "        vertical-align: top;\n",
       "    }\n",
       "\n",
       "    .dataframe thead th {\n",
       "        text-align: right;\n",
       "    }\n",
       "</style>\n",
       "<table border=\"1\" class=\"dataframe\">\n",
       "  <thead>\n",
       "    <tr style=\"text-align: right;\">\n",
       "      <th></th>\n",
       "      <th>symbol</th>\n",
       "      <th>year</th>\n",
       "      <th>family</th>\n",
       "      <th>rotation</th>\n",
       "      <th>tau</th>\n",
       "      <th>parameters</th>\n",
       "    </tr>\n",
       "  </thead>\n",
       "  <tbody>\n",
       "    <tr>\n",
       "      <th>0</th>\n",
       "      <td>A</td>\n",
       "      <td>2000</td>\n",
       "      <td>gaussian</td>\n",
       "      <td>0</td>\n",
       "      <td>0.308815</td>\n",
       "      <td>[[0.46628407]]</td>\n",
       "    </tr>\n",
       "    <tr>\n",
       "      <th>1</th>\n",
       "      <td>A</td>\n",
       "      <td>2001</td>\n",
       "      <td>gaussian</td>\n",
       "      <td>0</td>\n",
       "      <td>0.493758</td>\n",
       "      <td>[[0.70014014]]</td>\n",
       "    </tr>\n",
       "    <tr>\n",
       "      <th>2</th>\n",
       "      <td>A</td>\n",
       "      <td>2002</td>\n",
       "      <td>frank</td>\n",
       "      <td>0</td>\n",
       "      <td>0.504254</td>\n",
       "      <td>[[5.81412755]]</td>\n",
       "    </tr>\n",
       "    <tr>\n",
       "      <th>3</th>\n",
       "      <td>A</td>\n",
       "      <td>2003</td>\n",
       "      <td>gumbel</td>\n",
       "      <td>180</td>\n",
       "      <td>0.536304</td>\n",
       "      <td>[[2.15658535]]</td>\n",
       "    </tr>\n",
       "    <tr>\n",
       "      <th>4</th>\n",
       "      <td>A</td>\n",
       "      <td>2004</td>\n",
       "      <td>student</td>\n",
       "      <td>0</td>\n",
       "      <td>0.505551</td>\n",
       "      <td>[[0.71324581]\\n [6.37502355]]</td>\n",
       "    </tr>\n",
       "  </tbody>\n",
       "</table>\n",
       "</div>"
      ],
      "text/plain": [
       "  symbol  year    family  rotation       tau                     parameters\n",
       "0      A  2000  gaussian         0  0.308815                 [[0.46628407]]\n",
       "1      A  2001  gaussian         0  0.493758                 [[0.70014014]]\n",
       "2      A  2002     frank         0  0.504254                 [[5.81412755]]\n",
       "3      A  2003    gumbel       180  0.536304                 [[2.15658535]]\n",
       "4      A  2004   student         0  0.505551  [[0.71324581]\\n [6.37502355]]"
      ]
     },
     "execution_count": 13,
     "metadata": {},
     "output_type": "execute_result"
    }
   ],
   "source": [
    "e_target_ndx = pd.read_excel(copula_path + slash + '1_3_21_e_target_ndx.xlsx')\n",
    "e_target_ndx = e_target_ndx.drop(columns=['Unnamed: 0'])\n",
    "\n",
    "e_target_ndx['family'] = e_target_ndx['family'].replace('BicopFamily.clayton', 'clayton')\n",
    "e_target_ndx['family'] = e_target_ndx['family'].replace('BicopFamily.gaussian', 'gaussian')\n",
    "e_target_ndx['family'] = e_target_ndx['family'].replace('BicopFamily.frank', 'frank')\n",
    "e_target_ndx['family'] = e_target_ndx['family'].replace('BicopFamily.gumbel', 'gumbel')\n",
    "e_target_ndx['family'] = e_target_ndx['family'].replace('BicopFamily.student', 'student')\n",
    "e_target_ndx['family'] = e_target_ndx['family'].replace('BicopFamily.indep', 'indep')\n",
    "e_target_ndx['family'] = e_target_ndx['family'].replace('BicopFamily.joe', 'joe')\n",
    "\n",
    "e_target_ndx.head()"
   ]
  },
  {
   "cell_type": "code",
   "execution_count": 14,
   "id": "c735b3ef",
   "metadata": {},
   "outputs": [
    {
     "name": "stdout",
     "output_type": "stream",
     "text": [
      "Proportion of zero values:\n",
      "0.14956656476401858\n"
     ]
    }
   ],
   "source": [
    "print('Proportion of zero values:')\n",
    "print((e_target_ndx['tau'] == 0).sum()/(len(e_target_ndx)))"
   ]
  },
  {
   "cell_type": "code",
   "execution_count": 15,
   "id": "27451b96",
   "metadata": {},
   "outputs": [
    {
     "data": {
      "text/html": [
       "<div>\n",
       "<style scoped>\n",
       "    .dataframe tbody tr th:only-of-type {\n",
       "        vertical-align: middle;\n",
       "    }\n",
       "\n",
       "    .dataframe tbody tr th {\n",
       "        vertical-align: top;\n",
       "    }\n",
       "\n",
       "    .dataframe thead th {\n",
       "        text-align: right;\n",
       "    }\n",
       "</style>\n",
       "<table border=\"1\" class=\"dataframe\">\n",
       "  <thead>\n",
       "    <tr style=\"text-align: right;\">\n",
       "      <th></th>\n",
       "      <th>year</th>\n",
       "      <th>rotation</th>\n",
       "      <th>tau</th>\n",
       "    </tr>\n",
       "  </thead>\n",
       "  <tbody>\n",
       "    <tr>\n",
       "      <th>count</th>\n",
       "      <td>47758.000000</td>\n",
       "      <td>47758.000000</td>\n",
       "      <td>47758.000000</td>\n",
       "    </tr>\n",
       "    <tr>\n",
       "      <th>mean</th>\n",
       "      <td>2011.770677</td>\n",
       "      <td>52.884752</td>\n",
       "      <td>0.246494</td>\n",
       "    </tr>\n",
       "    <tr>\n",
       "      <th>std</th>\n",
       "      <td>5.896392</td>\n",
       "      <td>82.087592</td>\n",
       "      <td>0.154931</td>\n",
       "    </tr>\n",
       "    <tr>\n",
       "      <th>min</th>\n",
       "      <td>2000.000000</td>\n",
       "      <td>0.000000</td>\n",
       "      <td>-0.204601</td>\n",
       "    </tr>\n",
       "    <tr>\n",
       "      <th>25%</th>\n",
       "      <td>2007.000000</td>\n",
       "      <td>0.000000</td>\n",
       "      <td>0.132789</td>\n",
       "    </tr>\n",
       "    <tr>\n",
       "      <th>50%</th>\n",
       "      <td>2013.000000</td>\n",
       "      <td>0.000000</td>\n",
       "      <td>0.257002</td>\n",
       "    </tr>\n",
       "    <tr>\n",
       "      <th>75%</th>\n",
       "      <td>2017.000000</td>\n",
       "      <td>180.000000</td>\n",
       "      <td>0.360593</td>\n",
       "    </tr>\n",
       "    <tr>\n",
       "      <th>max</th>\n",
       "      <td>2021.000000</td>\n",
       "      <td>270.000000</td>\n",
       "      <td>0.765735</td>\n",
       "    </tr>\n",
       "  </tbody>\n",
       "</table>\n",
       "</div>"
      ],
      "text/plain": [
       "               year      rotation           tau\n",
       "count  47758.000000  47758.000000  47758.000000\n",
       "mean    2011.770677     52.884752      0.246494\n",
       "std        5.896392     82.087592      0.154931\n",
       "min     2000.000000      0.000000     -0.204601\n",
       "25%     2007.000000      0.000000      0.132789\n",
       "50%     2013.000000      0.000000      0.257002\n",
       "75%     2017.000000    180.000000      0.360593\n",
       "max     2021.000000    270.000000      0.765735"
      ]
     },
     "execution_count": 15,
     "metadata": {},
     "output_type": "execute_result"
    }
   ],
   "source": [
    "e_target_ndx.describe()"
   ]
  },
  {
   "cell_type": "code",
   "execution_count": 16,
   "id": "93926486",
   "metadata": {},
   "outputs": [
    {
     "data": {
      "text/plain": [
       "gumbel      0.324490\n",
       "gaussian    0.174442\n",
       "indep       0.149567\n",
       "student     0.139181\n",
       "frank       0.130407\n",
       "clayton     0.042171\n",
       "joe         0.039742\n",
       "Name: family, dtype: float64"
      ]
     },
     "execution_count": 16,
     "metadata": {},
     "output_type": "execute_result"
    }
   ],
   "source": [
    "e_target_ndx['family'].value_counts()/len(e_target_ndx)"
   ]
  },
  {
   "cell_type": "code",
   "execution_count": 17,
   "id": "3d9de189",
   "metadata": {},
   "outputs": [
    {
     "data": {
      "text/plain": [
       "(0.0, 650.0)"
      ]
     },
     "execution_count": 17,
     "metadata": {},
     "output_type": "execute_result"
    },
    {
     "data": {
      "image/png": "[encoded data removed]",
      "text/plain": [
       "<Figure size 640x480 with 1 Axes>"
      ]
     },
     "metadata": {},
     "output_type": "display_data"
    }
   ],
   "source": [
    "fig = sns.histplot(data = e_target_ndx, x = 'tau', bins = 200)\n",
    "fig.set_xlabel(None)\n",
    "fig.set_ylabel(None)\n",
    "plt.xlim(-0.25,0.8)\n",
    "plt.ylim(0,650)"
   ]
  },
  {
   "cell_type": "markdown",
   "id": "39921456",
   "metadata": {},
   "source": [
    "### NDX Kaggle"
   ]
  },
  {
   "cell_type": "code",
   "execution_count": 18,
   "id": "7805fef0",
   "metadata": {},
   "outputs": [
    {
     "data": {
      "text/html": [
       "<div>\n",
       "<style scoped>\n",
       "    .dataframe tbody tr th:only-of-type {\n",
       "        vertical-align: middle;\n",
       "    }\n",
       "\n",
       "    .dataframe tbody tr th {\n",
       "        vertical-align: top;\n",
       "    }\n",
       "\n",
       "    .dataframe thead th {\n",
       "        text-align: right;\n",
       "    }\n",
       "</style>\n",
       "<table border=\"1\" class=\"dataframe\">\n",
       "  <thead>\n",
       "    <tr style=\"text-align: right;\">\n",
       "      <th></th>\n",
       "      <th>symbol</th>\n",
       "      <th>year</th>\n",
       "      <th>family</th>\n",
       "      <th>rotation</th>\n",
       "      <th>tau</th>\n",
       "      <th>parameters</th>\n",
       "    </tr>\n",
       "  </thead>\n",
       "  <tbody>\n",
       "    <tr>\n",
       "      <th>0</th>\n",
       "      <td>A</td>\n",
       "      <td>2000</td>\n",
       "      <td>gumbel</td>\n",
       "      <td>180</td>\n",
       "      <td>0.298537</td>\n",
       "      <td>[[1.42559096]]</td>\n",
       "    </tr>\n",
       "    <tr>\n",
       "      <th>1</th>\n",
       "      <td>A</td>\n",
       "      <td>2001</td>\n",
       "      <td>gaussian</td>\n",
       "      <td>0</td>\n",
       "      <td>0.508021</td>\n",
       "      <td>[[0.7159597]]</td>\n",
       "    </tr>\n",
       "    <tr>\n",
       "      <th>2</th>\n",
       "      <td>A</td>\n",
       "      <td>2002</td>\n",
       "      <td>frank</td>\n",
       "      <td>0</td>\n",
       "      <td>0.514677</td>\n",
       "      <td>[[6.00959638]]</td>\n",
       "    </tr>\n",
       "    <tr>\n",
       "      <th>3</th>\n",
       "      <td>A</td>\n",
       "      <td>2003</td>\n",
       "      <td>gumbel</td>\n",
       "      <td>180</td>\n",
       "      <td>0.549052</td>\n",
       "      <td>[[2.21754927]]</td>\n",
       "    </tr>\n",
       "    <tr>\n",
       "      <th>4</th>\n",
       "      <td>A</td>\n",
       "      <td>2004</td>\n",
       "      <td>frank</td>\n",
       "      <td>0</td>\n",
       "      <td>0.530577</td>\n",
       "      <td>[[6.32157839]]</td>\n",
       "    </tr>\n",
       "  </tbody>\n",
       "</table>\n",
       "</div>"
      ],
      "text/plain": [
       "  symbol  year    family  rotation       tau      parameters\n",
       "0      A  2000    gumbel       180  0.298537  [[1.42559096]]\n",
       "1      A  2001  gaussian         0  0.508021   [[0.7159597]]\n",
       "2      A  2002     frank         0  0.514677  [[6.00959638]]\n",
       "3      A  2003    gumbel       180  0.549052  [[2.21754927]]\n",
       "4      A  2004     frank         0  0.530577  [[6.32157839]]"
      ]
     },
     "execution_count": 18,
     "metadata": {},
     "output_type": "execute_result"
    }
   ],
   "source": [
    "k_target_ndx = pd.read_excel(copula_path + slash + '1_4_7_k_target_ndx.xlsx')\n",
    "k_target_ndx = k_target_ndx.drop(columns=['Unnamed: 0'])\n",
    "\n",
    "k_target_ndx['family'] = k_target_ndx['family'].replace('BicopFamily.clayton', 'clayton')\n",
    "k_target_ndx['family'] = k_target_ndx['family'].replace('BicopFamily.gaussian', 'gaussian')\n",
    "k_target_ndx['family'] = k_target_ndx['family'].replace('BicopFamily.frank', 'frank')\n",
    "k_target_ndx['family'] = k_target_ndx['family'].replace('BicopFamily.gumbel', 'gumbel')\n",
    "k_target_ndx['family'] = k_target_ndx['family'].replace('BicopFamily.student', 'student')\n",
    "k_target_ndx['family'] = k_target_ndx['family'].replace('BicopFamily.indep', 'indep')\n",
    "k_target_ndx['family'] = k_target_ndx['family'].replace('BicopFamily.joe', 'joe')\n",
    "\n",
    "k_target_ndx.head()"
   ]
  },
  {
   "cell_type": "code",
   "execution_count": 19,
   "id": "f4465f04",
   "metadata": {},
   "outputs": [
    {
     "name": "stdout",
     "output_type": "stream",
     "text": [
      "Proportion of zero values:\n",
      "0.1658571373501407\n"
     ]
    }
   ],
   "source": [
    "print('Proportion of zero values:')\n",
    "print((k_target_ndx['tau'] == 0).sum()/(len(k_target_ndx)))"
   ]
  },
  {
   "cell_type": "code",
   "execution_count": 20,
   "id": "0214a1e5",
   "metadata": {},
   "outputs": [
    {
     "data": {
      "text/html": [
       "<div>\n",
       "<style scoped>\n",
       "    .dataframe tbody tr th:only-of-type {\n",
       "        vertical-align: middle;\n",
       "    }\n",
       "\n",
       "    .dataframe tbody tr th {\n",
       "        vertical-align: top;\n",
       "    }\n",
       "\n",
       "    .dataframe thead th {\n",
       "        text-align: right;\n",
       "    }\n",
       "</style>\n",
       "<table border=\"1\" class=\"dataframe\">\n",
       "  <thead>\n",
       "    <tr style=\"text-align: right;\">\n",
       "      <th></th>\n",
       "      <th>year</th>\n",
       "      <th>rotation</th>\n",
       "      <th>tau</th>\n",
       "    </tr>\n",
       "  </thead>\n",
       "  <tbody>\n",
       "    <tr>\n",
       "      <th>count</th>\n",
       "      <td>51882.000000</td>\n",
       "      <td>51882.000000</td>\n",
       "      <td>51882.000000</td>\n",
       "    </tr>\n",
       "    <tr>\n",
       "      <th>mean</th>\n",
       "      <td>2011.597124</td>\n",
       "      <td>49.945646</td>\n",
       "      <td>0.256018</td>\n",
       "    </tr>\n",
       "    <tr>\n",
       "      <th>std</th>\n",
       "      <td>6.016610</td>\n",
       "      <td>80.677683</td>\n",
       "      <td>0.165678</td>\n",
       "    </tr>\n",
       "    <tr>\n",
       "      <th>min</th>\n",
       "      <td>2000.000000</td>\n",
       "      <td>0.000000</td>\n",
       "      <td>-0.192931</td>\n",
       "    </tr>\n",
       "    <tr>\n",
       "      <th>25%</th>\n",
       "      <td>2007.000000</td>\n",
       "      <td>0.000000</td>\n",
       "      <td>0.129617</td>\n",
       "    </tr>\n",
       "    <tr>\n",
       "      <th>50%</th>\n",
       "      <td>2012.000000</td>\n",
       "      <td>0.000000</td>\n",
       "      <td>0.270907</td>\n",
       "    </tr>\n",
       "    <tr>\n",
       "      <th>75%</th>\n",
       "      <td>2017.000000</td>\n",
       "      <td>180.000000</td>\n",
       "      <td>0.380047</td>\n",
       "    </tr>\n",
       "    <tr>\n",
       "      <th>max</th>\n",
       "      <td>2021.000000</td>\n",
       "      <td>270.000000</td>\n",
       "      <td>0.735070</td>\n",
       "    </tr>\n",
       "  </tbody>\n",
       "</table>\n",
       "</div>"
      ],
      "text/plain": [
       "               year      rotation           tau\n",
       "count  51882.000000  51882.000000  51882.000000\n",
       "mean    2011.597124     49.945646      0.256018\n",
       "std        6.016610     80.677683      0.165678\n",
       "min     2000.000000      0.000000     -0.192931\n",
       "25%     2007.000000      0.000000      0.129617\n",
       "50%     2012.000000      0.000000      0.270907\n",
       "75%     2017.000000    180.000000      0.380047\n",
       "max     2021.000000    270.000000      0.735070"
      ]
     },
     "execution_count": 20,
     "metadata": {},
     "output_type": "execute_result"
    }
   ],
   "source": [
    "k_target_ndx.describe()"
   ]
  },
  {
   "cell_type": "code",
   "execution_count": 21,
   "id": "aa450e61",
   "metadata": {},
   "outputs": [
    {
     "data": {
      "text/plain": [
       "gumbel      0.310859\n",
       "indep       0.165857\n",
       "gaussian    0.153907\n",
       "student     0.153213\n",
       "frank       0.146313\n",
       "clayton     0.037296\n",
       "joe         0.032555\n",
       "Name: family, dtype: float64"
      ]
     },
     "execution_count": 21,
     "metadata": {},
     "output_type": "execute_result"
    }
   ],
   "source": [
    "k_target_ndx['family'].value_counts()/len(k_target_ndx)"
   ]
  },
  {
   "cell_type": "code",
   "execution_count": 22,
   "id": "b8a99e29",
   "metadata": {
    "scrolled": true
   },
   "outputs": [
    {
     "data": {
      "text/plain": [
       "(0.0, 650.0)"
      ]
     },
     "execution_count": 22,
     "metadata": {},
     "output_type": "execute_result"
    },
    {
     "data": {
      "image/png": "[encoded data removed]",
      "text/plain": [
       "<Figure size 640x480 with 1 Axes>"
      ]
     },
     "metadata": {},
     "output_type": "display_data"
    }
   ],
   "source": [
    "fig = sns.histplot(data = k_target_ndx, x = 'tau', bins = 200)\n",
    "fig.set_xlabel(None)\n",
    "fig.set_ylabel(None)\n",
    "plt.xlim(-0.25,0.8)\n",
    "plt.ylim(0,650)"
   ]
  },
  {
   "cell_type": "markdown",
   "id": "3e61005e",
   "metadata": {},
   "source": [
    "### Family Distribution"
   ]
  },
  {
   "cell_type": "code",
   "execution_count": 23,
   "id": "d54768fd",
   "metadata": {},
   "outputs": [],
   "source": [
    "fam_dist_target = {\n",
    "    \"spx_eikon\": e_target_spx['family'].value_counts(),\n",
    "    \"spx_kaggle\": k_target_spx['family'].value_counts(),\n",
    "    \"ndx_eikon\": e_target_ndx['family'].value_counts(),\n",
    "    \"ndx_kaggle\": k_target_ndx['family'].value_counts()\n",
    "}\n",
    "\n",
    "fam_dist_target = pd.DataFrame(fam_dist_target)"
   ]
  },
  {
   "cell_type": "code",
   "execution_count": 24,
   "id": "2b6fef16",
   "metadata": {},
   "outputs": [
    {
     "data": {
      "text/plain": [
       "<AxesSubplot:>"
      ]
     },
     "execution_count": 24,
     "metadata": {},
     "output_type": "execute_result"
    },
    {
     "data": {
      "image/png": "[encoded data removed]",
      "text/plain": [
       "<Figure size 900x800 with 1 Axes>"
      ]
     },
     "metadata": {},
     "output_type": "display_data"
    }
   ],
   "source": [
    "fam_dist_target.plot(y=[\"spx_eikon\", \"spx_kaggle\", \"ndx_eikon\", \"ndx_kaggle\"], kind=\"bar\", figsize=(9, 8))"
   ]
  },
  {
   "cell_type": "markdown",
   "id": "381e4ad1",
   "metadata": {},
   "source": [
    "## ----------------------------------------------------------------------------------------------\n",
    "## Copula Feature 3 Years Window\n",
    "### SPX Eikon"
   ]
  },
  {
   "cell_type": "code",
   "execution_count": 25,
   "id": "5bf839cc",
   "metadata": {},
   "outputs": [
    {
     "data": {
      "text/html": [
       "<div>\n",
       "<style scoped>\n",
       "    .dataframe tbody tr th:only-of-type {\n",
       "        vertical-align: middle;\n",
       "    }\n",
       "\n",
       "    .dataframe tbody tr th {\n",
       "        vertical-align: top;\n",
       "    }\n",
       "\n",
       "    .dataframe thead th {\n",
       "        text-align: right;\n",
       "    }\n",
       "</style>\n",
       "<table border=\"1\" class=\"dataframe\">\n",
       "  <thead>\n",
       "    <tr style=\"text-align: right;\">\n",
       "      <th></th>\n",
       "      <th>symbol</th>\n",
       "      <th>year</th>\n",
       "      <th>family</th>\n",
       "      <th>rotation</th>\n",
       "      <th>tau</th>\n",
       "      <th>parameters</th>\n",
       "    </tr>\n",
       "  </thead>\n",
       "  <tbody>\n",
       "    <tr>\n",
       "      <th>0</th>\n",
       "      <td>A</td>\n",
       "      <td>2000</td>\n",
       "      <td>clayton</td>\n",
       "      <td>0</td>\n",
       "      <td>0.232904</td>\n",
       "      <td>[[0.607237]]</td>\n",
       "    </tr>\n",
       "    <tr>\n",
       "      <th>1</th>\n",
       "      <td>A</td>\n",
       "      <td>2001</td>\n",
       "      <td>gaussian</td>\n",
       "      <td>0</td>\n",
       "      <td>0.344151</td>\n",
       "      <td>[[0.51464281]]</td>\n",
       "    </tr>\n",
       "    <tr>\n",
       "      <th>2</th>\n",
       "      <td>A</td>\n",
       "      <td>2002</td>\n",
       "      <td>frank</td>\n",
       "      <td>0</td>\n",
       "      <td>0.391592</td>\n",
       "      <td>[[4.04635815]]</td>\n",
       "    </tr>\n",
       "    <tr>\n",
       "      <th>3</th>\n",
       "      <td>A</td>\n",
       "      <td>2003</td>\n",
       "      <td>student</td>\n",
       "      <td>0</td>\n",
       "      <td>0.471121</td>\n",
       "      <td>[[0.67431406]\\n [8.49320555]]</td>\n",
       "    </tr>\n",
       "    <tr>\n",
       "      <th>4</th>\n",
       "      <td>A</td>\n",
       "      <td>2004</td>\n",
       "      <td>student</td>\n",
       "      <td>0</td>\n",
       "      <td>0.485946</td>\n",
       "      <td>[[0.6913253 ]\\n [6.38771666]]</td>\n",
       "    </tr>\n",
       "  </tbody>\n",
       "</table>\n",
       "</div>"
      ],
      "text/plain": [
       "  symbol  year    family  rotation       tau                     parameters\n",
       "0      A  2000   clayton         0  0.232904                   [[0.607237]]\n",
       "1      A  2001  gaussian         0  0.344151                 [[0.51464281]]\n",
       "2      A  2002     frank         0  0.391592                 [[4.04635815]]\n",
       "3      A  2003   student         0  0.471121  [[0.67431406]\\n [8.49320555]]\n",
       "4      A  2004   student         0  0.485946  [[0.6913253 ]\\n [6.38771666]]"
      ]
     },
     "execution_count": 25,
     "metadata": {},
     "output_type": "execute_result"
    }
   ],
   "source": [
    "e_cop_3y_spx = pd.read_excel(copula_path + slash + '1_5_0_e_cop_3y_spx.xlsx')\n",
    "e_cop_3y_spx = e_cop_3y_spx.drop(columns=['Unnamed: 0'])\n",
    "\n",
    "e_cop_3y_spx['family'] = e_cop_3y_spx['family'].replace('BicopFamily.clayton', 'clayton')\n",
    "e_cop_3y_spx['family'] = e_cop_3y_spx['family'].replace('BicopFamily.gaussian', 'gaussian')\n",
    "e_cop_3y_spx['family'] = e_cop_3y_spx['family'].replace('BicopFamily.frank', 'frank')\n",
    "e_cop_3y_spx['family'] = e_cop_3y_spx['family'].replace('BicopFamily.gumbel', 'gumbel')\n",
    "e_cop_3y_spx['family'] = e_cop_3y_spx['family'].replace('BicopFamily.student', 'student')\n",
    "e_cop_3y_spx['family'] = e_cop_3y_spx['family'].replace('BicopFamily.indep', 'indep')\n",
    "e_cop_3y_spx['family'] = e_cop_3y_spx['family'].replace('BicopFamily.joe', 'joe')\n",
    "\n",
    "e_cop_3y_spx.head()"
   ]
  },
  {
   "cell_type": "code",
   "execution_count": 26,
   "id": "973393f0",
   "metadata": {},
   "outputs": [
    {
     "name": "stdout",
     "output_type": "stream",
     "text": [
      "Proportion of zero values:\n",
      "0.107188630880579\n"
     ]
    }
   ],
   "source": [
    "print('Proportion of zero values:')\n",
    "print((e_cop_3y_spx['tau'] == 0).sum()/(len(e_cop_3y_spx)))"
   ]
  },
  {
   "cell_type": "code",
   "execution_count": 27,
   "id": "05ebf4ac",
   "metadata": {},
   "outputs": [
    {
     "data": {
      "text/html": [
       "<div>\n",
       "<style scoped>\n",
       "    .dataframe tbody tr th:only-of-type {\n",
       "        vertical-align: middle;\n",
       "    }\n",
       "\n",
       "    .dataframe tbody tr th {\n",
       "        vertical-align: top;\n",
       "    }\n",
       "\n",
       "    .dataframe thead th {\n",
       "        text-align: right;\n",
       "    }\n",
       "</style>\n",
       "<table border=\"1\" class=\"dataframe\">\n",
       "  <thead>\n",
       "    <tr style=\"text-align: right;\">\n",
       "      <th></th>\n",
       "      <th>year</th>\n",
       "      <th>rotation</th>\n",
       "      <th>tau</th>\n",
       "    </tr>\n",
       "  </thead>\n",
       "  <tbody>\n",
       "    <tr>\n",
       "      <th>count</th>\n",
       "      <td>53056.000000</td>\n",
       "      <td>53056.000000</td>\n",
       "      <td>53056.000000</td>\n",
       "    </tr>\n",
       "    <tr>\n",
       "      <th>mean</th>\n",
       "      <td>2012.116877</td>\n",
       "      <td>35.931469</td>\n",
       "      <td>0.257899</td>\n",
       "    </tr>\n",
       "    <tr>\n",
       "      <th>std</th>\n",
       "      <td>6.099199</td>\n",
       "      <td>72.048891</td>\n",
       "      <td>0.159994</td>\n",
       "    </tr>\n",
       "    <tr>\n",
       "      <th>min</th>\n",
       "      <td>2000.000000</td>\n",
       "      <td>0.000000</td>\n",
       "      <td>-0.144289</td>\n",
       "    </tr>\n",
       "    <tr>\n",
       "      <th>25%</th>\n",
       "      <td>2007.000000</td>\n",
       "      <td>0.000000</td>\n",
       "      <td>0.120193</td>\n",
       "    </tr>\n",
       "    <tr>\n",
       "      <th>50%</th>\n",
       "      <td>2013.000000</td>\n",
       "      <td>0.000000</td>\n",
       "      <td>0.271245</td>\n",
       "    </tr>\n",
       "    <tr>\n",
       "      <th>75%</th>\n",
       "      <td>2017.000000</td>\n",
       "      <td>0.000000</td>\n",
       "      <td>0.382383</td>\n",
       "    </tr>\n",
       "    <tr>\n",
       "      <th>max</th>\n",
       "      <td>2021.000000</td>\n",
       "      <td>270.000000</td>\n",
       "      <td>0.696102</td>\n",
       "    </tr>\n",
       "  </tbody>\n",
       "</table>\n",
       "</div>"
      ],
      "text/plain": [
       "               year      rotation           tau\n",
       "count  53056.000000  53056.000000  53056.000000\n",
       "mean    2012.116877     35.931469      0.257899\n",
       "std        6.099199     72.048891      0.159994\n",
       "min     2000.000000      0.000000     -0.144289\n",
       "25%     2007.000000      0.000000      0.120193\n",
       "50%     2013.000000      0.000000      0.271245\n",
       "75%     2017.000000      0.000000      0.382383\n",
       "max     2021.000000    270.000000      0.696102"
      ]
     },
     "execution_count": 27,
     "metadata": {},
     "output_type": "execute_result"
    }
   ],
   "source": [
    "e_cop_3y_spx.describe()"
   ]
  },
  {
   "cell_type": "code",
   "execution_count": 28,
   "id": "e8def5f9",
   "metadata": {},
   "outputs": [
    {
     "data": {
      "text/plain": [
       "student     0.430489\n",
       "gumbel      0.202315\n",
       "frank       0.108282\n",
       "indep       0.107189\n",
       "gaussian    0.103984\n",
       "clayton     0.027895\n",
       "joe         0.019847\n",
       "Name: family, dtype: float64"
      ]
     },
     "execution_count": 28,
     "metadata": {},
     "output_type": "execute_result"
    }
   ],
   "source": [
    "e_cop_3y_spx['family'].value_counts()/len(e_cop_3y_spx)"
   ]
  },
  {
   "cell_type": "code",
   "execution_count": 29,
   "id": "cb765e87",
   "metadata": {},
   "outputs": [
    {
     "data": {
      "text/plain": [
       "(0.0, 650.0)"
      ]
     },
     "execution_count": 29,
     "metadata": {},
     "output_type": "execute_result"
    },
    {
     "data": {
      "image/png": "[encoded data removed]",
      "text/plain": [
       "<Figure size 640x480 with 1 Axes>"
      ]
     },
     "metadata": {},
     "output_type": "display_data"
    }
   ],
   "source": [
    "fig = sns.histplot(data = e_cop_3y_spx, x = 'tau', bins = 200)\n",
    "fig.set_xlabel(None)\n",
    "fig.set_ylabel(None)\n",
    "plt.xlim(-0.25,0.8)\n",
    "plt.ylim(0,650)"
   ]
  },
  {
   "cell_type": "markdown",
   "id": "dc830ca5",
   "metadata": {},
   "source": [
    "### SPX Kaggle"
   ]
  },
  {
   "cell_type": "code",
   "execution_count": 30,
   "id": "035677f0",
   "metadata": {},
   "outputs": [
    {
     "data": {
      "text/html": [
       "<div>\n",
       "<style scoped>\n",
       "    .dataframe tbody tr th:only-of-type {\n",
       "        vertical-align: middle;\n",
       "    }\n",
       "\n",
       "    .dataframe tbody tr th {\n",
       "        vertical-align: top;\n",
       "    }\n",
       "\n",
       "    .dataframe thead th {\n",
       "        text-align: right;\n",
       "    }\n",
       "</style>\n",
       "<table border=\"1\" class=\"dataframe\">\n",
       "  <thead>\n",
       "    <tr style=\"text-align: right;\">\n",
       "      <th></th>\n",
       "      <th>symbol</th>\n",
       "      <th>year</th>\n",
       "      <th>family</th>\n",
       "      <th>rotation</th>\n",
       "      <th>tau</th>\n",
       "      <th>parameters</th>\n",
       "    </tr>\n",
       "  </thead>\n",
       "  <tbody>\n",
       "    <tr>\n",
       "      <th>0</th>\n",
       "      <td>A</td>\n",
       "      <td>2000</td>\n",
       "      <td>clayton</td>\n",
       "      <td>0</td>\n",
       "      <td>0.226182</td>\n",
       "      <td>[[0.58458702]]</td>\n",
       "    </tr>\n",
       "    <tr>\n",
       "      <th>1</th>\n",
       "      <td>A</td>\n",
       "      <td>2001</td>\n",
       "      <td>frank</td>\n",
       "      <td>0</td>\n",
       "      <td>0.348072</td>\n",
       "      <td>[[3.48502067]]</td>\n",
       "    </tr>\n",
       "    <tr>\n",
       "      <th>2</th>\n",
       "      <td>A</td>\n",
       "      <td>2002</td>\n",
       "      <td>frank</td>\n",
       "      <td>0</td>\n",
       "      <td>0.388767</td>\n",
       "      <td>[[4.00830203]]</td>\n",
       "    </tr>\n",
       "    <tr>\n",
       "      <th>3</th>\n",
       "      <td>A</td>\n",
       "      <td>2003</td>\n",
       "      <td>student</td>\n",
       "      <td>0</td>\n",
       "      <td>0.469600</td>\n",
       "      <td>[[0.67254744]\\n [8.7298173 ]]</td>\n",
       "    </tr>\n",
       "    <tr>\n",
       "      <th>4</th>\n",
       "      <td>A</td>\n",
       "      <td>2004</td>\n",
       "      <td>student</td>\n",
       "      <td>0</td>\n",
       "      <td>0.483837</td>\n",
       "      <td>[[0.68892877]\\n [6.55711326]]</td>\n",
       "    </tr>\n",
       "  </tbody>\n",
       "</table>\n",
       "</div>"
      ],
      "text/plain": [
       "  symbol  year   family  rotation       tau                     parameters\n",
       "0      A  2000  clayton         0  0.226182                 [[0.58458702]]\n",
       "1      A  2001    frank         0  0.348072                 [[3.48502067]]\n",
       "2      A  2002    frank         0  0.388767                 [[4.00830203]]\n",
       "3      A  2003  student         0  0.469600  [[0.67254744]\\n [8.7298173 ]]\n",
       "4      A  2004  student         0  0.483837  [[0.68892877]\\n [6.55711326]]"
      ]
     },
     "execution_count": 30,
     "metadata": {},
     "output_type": "execute_result"
    }
   ],
   "source": [
    "k_cop_3y_spx = pd.read_excel(copula_path + slash + '1_6_17_k_cop_3y_spx.xlsx')\n",
    "k_cop_3y_spx = k_cop_3y_spx.drop(columns=['Unnamed: 0'])\n",
    "\n",
    "k_cop_3y_spx['family'] = k_cop_3y_spx['family'].replace('BicopFamily.clayton', 'clayton')\n",
    "k_cop_3y_spx['family'] = k_cop_3y_spx['family'].replace('BicopFamily.gaussian', 'gaussian')\n",
    "k_cop_3y_spx['family'] = k_cop_3y_spx['family'].replace('BicopFamily.frank', 'frank')\n",
    "k_cop_3y_spx['family'] = k_cop_3y_spx['family'].replace('BicopFamily.gumbel', 'gumbel')\n",
    "k_cop_3y_spx['family'] = k_cop_3y_spx['family'].replace('BicopFamily.student', 'student')\n",
    "k_cop_3y_spx['family'] = k_cop_3y_spx['family'].replace('BicopFamily.indep', 'indep')\n",
    "k_cop_3y_spx['family'] = k_cop_3y_spx['family'].replace('BicopFamily.joe', 'joe')\n",
    "\n",
    "k_cop_3y_spx.head()"
   ]
  },
  {
   "cell_type": "code",
   "execution_count": 31,
   "id": "10128af6",
   "metadata": {},
   "outputs": [
    {
     "name": "stdout",
     "output_type": "stream",
     "text": [
      "Proportion of zero values:\n",
      "0.10191669073058042\n"
     ]
    }
   ],
   "source": [
    "print('Proportion of zero values:')\n",
    "print((k_cop_3y_spx['tau'] == 0).sum()/(len(k_cop_3y_spx)))"
   ]
  },
  {
   "cell_type": "code",
   "execution_count": 32,
   "id": "ad0a70a1",
   "metadata": {},
   "outputs": [
    {
     "data": {
      "text/html": [
       "<div>\n",
       "<style scoped>\n",
       "    .dataframe tbody tr th:only-of-type {\n",
       "        vertical-align: middle;\n",
       "    }\n",
       "\n",
       "    .dataframe tbody tr th {\n",
       "        vertical-align: top;\n",
       "    }\n",
       "\n",
       "    .dataframe thead th {\n",
       "        text-align: right;\n",
       "    }\n",
       "</style>\n",
       "<table border=\"1\" class=\"dataframe\">\n",
       "  <thead>\n",
       "    <tr style=\"text-align: right;\">\n",
       "      <th></th>\n",
       "      <th>year</th>\n",
       "      <th>rotation</th>\n",
       "      <th>tau</th>\n",
       "    </tr>\n",
       "  </thead>\n",
       "  <tbody>\n",
       "    <tr>\n",
       "      <th>count</th>\n",
       "      <td>55408.000000</td>\n",
       "      <td>55408.000000</td>\n",
       "      <td>55408.000000</td>\n",
       "    </tr>\n",
       "    <tr>\n",
       "      <th>mean</th>\n",
       "      <td>2012.183818</td>\n",
       "      <td>37.203292</td>\n",
       "      <td>0.257392</td>\n",
       "    </tr>\n",
       "    <tr>\n",
       "      <th>std</th>\n",
       "      <td>6.246951</td>\n",
       "      <td>72.937734</td>\n",
       "      <td>0.157093</td>\n",
       "    </tr>\n",
       "    <tr>\n",
       "      <th>min</th>\n",
       "      <td>2000.000000</td>\n",
       "      <td>0.000000</td>\n",
       "      <td>-0.170143</td>\n",
       "    </tr>\n",
       "    <tr>\n",
       "      <th>25%</th>\n",
       "      <td>2007.000000</td>\n",
       "      <td>0.000000</td>\n",
       "      <td>0.125316</td>\n",
       "    </tr>\n",
       "    <tr>\n",
       "      <th>50%</th>\n",
       "      <td>2013.000000</td>\n",
       "      <td>0.000000</td>\n",
       "      <td>0.268720</td>\n",
       "    </tr>\n",
       "    <tr>\n",
       "      <th>75%</th>\n",
       "      <td>2018.000000</td>\n",
       "      <td>0.000000</td>\n",
       "      <td>0.378432</td>\n",
       "    </tr>\n",
       "    <tr>\n",
       "      <th>max</th>\n",
       "      <td>2021.000000</td>\n",
       "      <td>270.000000</td>\n",
       "      <td>0.693945</td>\n",
       "    </tr>\n",
       "  </tbody>\n",
       "</table>\n",
       "</div>"
      ],
      "text/plain": [
       "               year      rotation           tau\n",
       "count  55408.000000  55408.000000  55408.000000\n",
       "mean    2012.183818     37.203292      0.257392\n",
       "std        6.246951     72.937734      0.157093\n",
       "min     2000.000000      0.000000     -0.170143\n",
       "25%     2007.000000      0.000000      0.125316\n",
       "50%     2013.000000      0.000000      0.268720\n",
       "75%     2018.000000      0.000000      0.378432\n",
       "max     2021.000000    270.000000      0.693945"
      ]
     },
     "execution_count": 32,
     "metadata": {},
     "output_type": "execute_result"
    }
   ],
   "source": [
    "k_cop_3y_spx.describe()"
   ]
  },
  {
   "cell_type": "code",
   "execution_count": 33,
   "id": "2610d13c",
   "metadata": {},
   "outputs": [
    {
     "data": {
      "text/plain": [
       "student     0.429685\n",
       "gumbel      0.207750\n",
       "frank       0.107782\n",
       "gaussian    0.105382\n",
       "indep       0.101917\n",
       "clayton     0.027343\n",
       "joe         0.020141\n",
       "Name: family, dtype: float64"
      ]
     },
     "execution_count": 33,
     "metadata": {},
     "output_type": "execute_result"
    }
   ],
   "source": [
    "k_cop_3y_spx['family'].value_counts()/len(k_cop_3y_spx)"
   ]
  },
  {
   "cell_type": "code",
   "execution_count": 34,
   "id": "8300e7b6",
   "metadata": {},
   "outputs": [
    {
     "data": {
      "text/plain": [
       "(0.0, 650.0)"
      ]
     },
     "execution_count": 34,
     "metadata": {},
     "output_type": "execute_result"
    },
    {
     "data": {
      "image/png": "[encoded data removed]",
      "text/plain": [
       "<Figure size 640x480 with 1 Axes>"
      ]
     },
     "metadata": {},
     "output_type": "display_data"
    }
   ],
   "source": [
    "fig = sns.histplot(data = k_cop_3y_spx, x = 'tau', bins = 200)\n",
    "fig.set_xlabel(None)\n",
    "fig.set_ylabel(None)\n",
    "plt.xlim(-0.25,0.8)\n",
    "plt.ylim(0,650)"
   ]
  },
  {
   "cell_type": "markdown",
   "id": "7585fa4a",
   "metadata": {},
   "source": [
    "### NDX Eikon"
   ]
  },
  {
   "cell_type": "code",
   "execution_count": 35,
   "id": "330fbadf",
   "metadata": {},
   "outputs": [
    {
     "data": {
      "text/html": [
       "<div>\n",
       "<style scoped>\n",
       "    .dataframe tbody tr th:only-of-type {\n",
       "        vertical-align: middle;\n",
       "    }\n",
       "\n",
       "    .dataframe tbody tr th {\n",
       "        vertical-align: top;\n",
       "    }\n",
       "\n",
       "    .dataframe thead th {\n",
       "        text-align: right;\n",
       "    }\n",
       "</style>\n",
       "<table border=\"1\" class=\"dataframe\">\n",
       "  <thead>\n",
       "    <tr style=\"text-align: right;\">\n",
       "      <th></th>\n",
       "      <th>symbol</th>\n",
       "      <th>year</th>\n",
       "      <th>family</th>\n",
       "      <th>rotation</th>\n",
       "      <th>tau</th>\n",
       "      <th>parameters</th>\n",
       "    </tr>\n",
       "  </thead>\n",
       "  <tbody>\n",
       "    <tr>\n",
       "      <th>0</th>\n",
       "      <td>A</td>\n",
       "      <td>2000</td>\n",
       "      <td>gaussian</td>\n",
       "      <td>0</td>\n",
       "      <td>0.308815</td>\n",
       "      <td>[[0.46628407]]</td>\n",
       "    </tr>\n",
       "    <tr>\n",
       "      <th>1</th>\n",
       "      <td>A</td>\n",
       "      <td>2001</td>\n",
       "      <td>gaussian</td>\n",
       "      <td>0</td>\n",
       "      <td>0.392712</td>\n",
       "      <td>[[0.57848526]]</td>\n",
       "    </tr>\n",
       "    <tr>\n",
       "      <th>2</th>\n",
       "      <td>A</td>\n",
       "      <td>2002</td>\n",
       "      <td>gaussian</td>\n",
       "      <td>0</td>\n",
       "      <td>0.410796</td>\n",
       "      <td>[[0.60141908]]</td>\n",
       "    </tr>\n",
       "    <tr>\n",
       "      <th>3</th>\n",
       "      <td>A</td>\n",
       "      <td>2003</td>\n",
       "      <td>student</td>\n",
       "      <td>0</td>\n",
       "      <td>0.500286</td>\n",
       "      <td>[[0.70742489]\\n [4.98073163]]</td>\n",
       "    </tr>\n",
       "    <tr>\n",
       "      <th>4</th>\n",
       "      <td>A</td>\n",
       "      <td>2004</td>\n",
       "      <td>student</td>\n",
       "      <td>0</td>\n",
       "      <td>0.512234</td>\n",
       "      <td>[[0.72056408]\\n [4.39151455]]</td>\n",
       "    </tr>\n",
       "  </tbody>\n",
       "</table>\n",
       "</div>"
      ],
      "text/plain": [
       "  symbol  year    family  rotation       tau                     parameters\n",
       "0      A  2000  gaussian         0  0.308815                 [[0.46628407]]\n",
       "1      A  2001  gaussian         0  0.392712                 [[0.57848526]]\n",
       "2      A  2002  gaussian         0  0.410796                 [[0.60141908]]\n",
       "3      A  2003   student         0  0.500286  [[0.70742489]\\n [4.98073163]]\n",
       "4      A  2004   student         0  0.512234  [[0.72056408]\\n [4.39151455]]"
      ]
     },
     "execution_count": 35,
     "metadata": {},
     "output_type": "execute_result"
    }
   ],
   "source": [
    "e_cop_3y_ndx = pd.read_excel(copula_path + slash + '1_5_4_e_cop_3y_ndx.xlsx')\n",
    "e_cop_3y_ndx = e_cop_3y_ndx.drop(columns=['Unnamed: 0'])\n",
    "\n",
    "e_cop_3y_ndx['family'] = e_cop_3y_ndx['family'].replace('BicopFamily.clayton', 'clayton')\n",
    "e_cop_3y_ndx['family'] = e_cop_3y_ndx['family'].replace('BicopFamily.gaussian', 'gaussian')\n",
    "e_cop_3y_ndx['family'] = e_cop_3y_ndx['family'].replace('BicopFamily.frank', 'frank')\n",
    "e_cop_3y_ndx['family'] = e_cop_3y_ndx['family'].replace('BicopFamily.gumbel', 'gumbel')\n",
    "e_cop_3y_ndx['family'] = e_cop_3y_ndx['family'].replace('BicopFamily.student', 'student')\n",
    "e_cop_3y_ndx['family'] = e_cop_3y_ndx['family'].replace('BicopFamily.indep', 'indep')\n",
    "e_cop_3y_ndx['family'] = e_cop_3y_ndx['family'].replace('BicopFamily.joe', 'joe')\n",
    "\n",
    "e_cop_3y_ndx.head()"
   ]
  },
  {
   "cell_type": "code",
   "execution_count": 36,
   "id": "5e3641c3",
   "metadata": {},
   "outputs": [
    {
     "name": "stdout",
     "output_type": "stream",
     "text": [
      "Proportion of zero values:\n",
      "0.1204576296743064\n"
     ]
    }
   ],
   "source": [
    "print('Proportion of zero values:')\n",
    "print((e_cop_3y_ndx['tau'] == 0).sum()/(len(e_cop_3y_ndx)))"
   ]
  },
  {
   "cell_type": "code",
   "execution_count": 37,
   "id": "1e3dd55f",
   "metadata": {},
   "outputs": [
    {
     "data": {
      "text/html": [
       "<div>\n",
       "<style scoped>\n",
       "    .dataframe tbody tr th:only-of-type {\n",
       "        vertical-align: middle;\n",
       "    }\n",
       "\n",
       "    .dataframe tbody tr th {\n",
       "        vertical-align: top;\n",
       "    }\n",
       "\n",
       "    .dataframe thead th {\n",
       "        text-align: right;\n",
       "    }\n",
       "</style>\n",
       "<table border=\"1\" class=\"dataframe\">\n",
       "  <thead>\n",
       "    <tr style=\"text-align: right;\">\n",
       "      <th></th>\n",
       "      <th>year</th>\n",
       "      <th>rotation</th>\n",
       "      <th>tau</th>\n",
       "    </tr>\n",
       "  </thead>\n",
       "  <tbody>\n",
       "    <tr>\n",
       "      <th>count</th>\n",
       "      <td>53056.000000</td>\n",
       "      <td>53056.000000</td>\n",
       "      <td>53056.000000</td>\n",
       "    </tr>\n",
       "    <tr>\n",
       "      <th>mean</th>\n",
       "      <td>2012.116877</td>\n",
       "      <td>39.802473</td>\n",
       "      <td>0.228409</td>\n",
       "    </tr>\n",
       "    <tr>\n",
       "      <th>std</th>\n",
       "      <td>6.099199</td>\n",
       "      <td>74.779118</td>\n",
       "      <td>0.146936</td>\n",
       "    </tr>\n",
       "    <tr>\n",
       "      <th>min</th>\n",
       "      <td>2000.000000</td>\n",
       "      <td>0.000000</td>\n",
       "      <td>-0.127874</td>\n",
       "    </tr>\n",
       "    <tr>\n",
       "      <th>25%</th>\n",
       "      <td>2007.000000</td>\n",
       "      <td>0.000000</td>\n",
       "      <td>0.107419</td>\n",
       "    </tr>\n",
       "    <tr>\n",
       "      <th>50%</th>\n",
       "      <td>2013.000000</td>\n",
       "      <td>0.000000</td>\n",
       "      <td>0.231175</td>\n",
       "    </tr>\n",
       "    <tr>\n",
       "      <th>75%</th>\n",
       "      <td>2017.000000</td>\n",
       "      <td>0.000000</td>\n",
       "      <td>0.341822</td>\n",
       "    </tr>\n",
       "    <tr>\n",
       "      <th>max</th>\n",
       "      <td>2021.000000</td>\n",
       "      <td>270.000000</td>\n",
       "      <td>0.691751</td>\n",
       "    </tr>\n",
       "  </tbody>\n",
       "</table>\n",
       "</div>"
      ],
      "text/plain": [
       "               year      rotation           tau\n",
       "count  53056.000000  53056.000000  53056.000000\n",
       "mean    2012.116877     39.802473      0.228409\n",
       "std        6.099199     74.779118      0.146936\n",
       "min     2000.000000      0.000000     -0.127874\n",
       "25%     2007.000000      0.000000      0.107419\n",
       "50%     2013.000000      0.000000      0.231175\n",
       "75%     2017.000000      0.000000      0.341822\n",
       "max     2021.000000    270.000000      0.691751"
      ]
     },
     "execution_count": 37,
     "metadata": {},
     "output_type": "execute_result"
    }
   ],
   "source": [
    "e_cop_3y_ndx.describe()"
   ]
  },
  {
   "cell_type": "code",
   "execution_count": 38,
   "id": "cb692bb0",
   "metadata": {},
   "outputs": [
    {
     "data": {
      "text/plain": [
       "student     0.388231\n",
       "gumbel      0.227703\n",
       "indep       0.120458\n",
       "frank       0.113710\n",
       "gaussian    0.095936\n",
       "clayton     0.029422\n",
       "joe         0.024540\n",
       "Name: family, dtype: float64"
      ]
     },
     "execution_count": 38,
     "metadata": {},
     "output_type": "execute_result"
    }
   ],
   "source": [
    "e_cop_3y_ndx['family'].value_counts()/len(e_cop_3y_ndx)"
   ]
  },
  {
   "cell_type": "code",
   "execution_count": 39,
   "id": "1415f369",
   "metadata": {},
   "outputs": [
    {
     "data": {
      "text/plain": [
       "(0.0, 650.0)"
      ]
     },
     "execution_count": 39,
     "metadata": {},
     "output_type": "execute_result"
    },
    {
     "data": {
      "image/png": "[encoded data removed]",
      "text/plain": [
       "<Figure size 640x480 with 1 Axes>"
      ]
     },
     "metadata": {},
     "output_type": "display_data"
    }
   ],
   "source": [
    "fig = sns.histplot(data = e_cop_3y_ndx, x = 'tau', bins = 200)\n",
    "fig.set_xlabel(None)\n",
    "fig.set_ylabel(None)\n",
    "plt.xlim(-0.25,0.8)\n",
    "plt.ylim(0,650)"
   ]
  },
  {
   "cell_type": "markdown",
   "id": "9503415a",
   "metadata": {},
   "source": [
    "### NDX Kaggle"
   ]
  },
  {
   "cell_type": "code",
   "execution_count": 40,
   "id": "aa8df68c",
   "metadata": {},
   "outputs": [
    {
     "data": {
      "text/html": [
       "<div>\n",
       "<style scoped>\n",
       "    .dataframe tbody tr th:only-of-type {\n",
       "        vertical-align: middle;\n",
       "    }\n",
       "\n",
       "    .dataframe tbody tr th {\n",
       "        vertical-align: top;\n",
       "    }\n",
       "\n",
       "    .dataframe thead th {\n",
       "        text-align: right;\n",
       "    }\n",
       "</style>\n",
       "<table border=\"1\" class=\"dataframe\">\n",
       "  <thead>\n",
       "    <tr style=\"text-align: right;\">\n",
       "      <th></th>\n",
       "      <th>symbol</th>\n",
       "      <th>year</th>\n",
       "      <th>family</th>\n",
       "      <th>rotation</th>\n",
       "      <th>tau</th>\n",
       "      <th>parameters</th>\n",
       "    </tr>\n",
       "  </thead>\n",
       "  <tbody>\n",
       "    <tr>\n",
       "      <th>0</th>\n",
       "      <td>A</td>\n",
       "      <td>2000</td>\n",
       "      <td>gumbel</td>\n",
       "      <td>180</td>\n",
       "      <td>0.298537</td>\n",
       "      <td>[[1.42559096]]</td>\n",
       "    </tr>\n",
       "    <tr>\n",
       "      <th>1</th>\n",
       "      <td>A</td>\n",
       "      <td>2001</td>\n",
       "      <td>frank</td>\n",
       "      <td>0</td>\n",
       "      <td>0.411939</td>\n",
       "      <td>[[4.3278801]]</td>\n",
       "    </tr>\n",
       "    <tr>\n",
       "      <th>2</th>\n",
       "      <td>A</td>\n",
       "      <td>2002</td>\n",
       "      <td>student</td>\n",
       "      <td>0</td>\n",
       "      <td>0.428672</td>\n",
       "      <td>[[0.62361315]\\n [6.76863677]]</td>\n",
       "    </tr>\n",
       "    <tr>\n",
       "      <th>3</th>\n",
       "      <td>A</td>\n",
       "      <td>2003</td>\n",
       "      <td>student</td>\n",
       "      <td>0</td>\n",
       "      <td>0.515953</td>\n",
       "      <td>[[0.72460191]\\n [5.25566984]]</td>\n",
       "    </tr>\n",
       "    <tr>\n",
       "      <th>4</th>\n",
       "      <td>A</td>\n",
       "      <td>2004</td>\n",
       "      <td>student</td>\n",
       "      <td>0</td>\n",
       "      <td>0.522954</td>\n",
       "      <td>[[0.73213759]\\n [4.87241995]]</td>\n",
       "    </tr>\n",
       "  </tbody>\n",
       "</table>\n",
       "</div>"
      ],
      "text/plain": [
       "  symbol  year   family  rotation       tau                     parameters\n",
       "0      A  2000   gumbel       180  0.298537                 [[1.42559096]]\n",
       "1      A  2001    frank         0  0.411939                  [[4.3278801]]\n",
       "2      A  2002  student         0  0.428672  [[0.62361315]\\n [6.76863677]]\n",
       "3      A  2003  student         0  0.515953  [[0.72460191]\\n [5.25566984]]\n",
       "4      A  2004  student         0  0.522954  [[0.73213759]\\n [4.87241995]]"
      ]
     },
     "execution_count": 40,
     "metadata": {},
     "output_type": "execute_result"
    }
   ],
   "source": [
    "k_cop_3y_ndx = pd.read_excel(copula_path + slash + '1_7_1_k_cop_3y_ndx.xlsx')\n",
    "k_cop_3y_ndx = k_cop_3y_ndx.drop(columns=['Unnamed: 0'])\n",
    "\n",
    "k_cop_3y_ndx['family'] = k_cop_3y_ndx['family'].replace('BicopFamily.clayton', 'clayton')\n",
    "k_cop_3y_ndx['family'] = k_cop_3y_ndx['family'].replace('BicopFamily.gaussian', 'gaussian')\n",
    "k_cop_3y_ndx['family'] = k_cop_3y_ndx['family'].replace('BicopFamily.frank', 'frank')\n",
    "k_cop_3y_ndx['family'] = k_cop_3y_ndx['family'].replace('BicopFamily.gumbel', 'gumbel')\n",
    "k_cop_3y_ndx['family'] = k_cop_3y_ndx['family'].replace('BicopFamily.student', 'student')\n",
    "k_cop_3y_ndx['family'] = k_cop_3y_ndx['family'].replace('BicopFamily.indep', 'indep')\n",
    "k_cop_3y_ndx['family'] = k_cop_3y_ndx['family'].replace('BicopFamily.joe', 'joe')\n",
    "\n",
    "k_cop_3y_ndx.head()"
   ]
  },
  {
   "cell_type": "code",
   "execution_count": 41,
   "id": "ce3aa84e",
   "metadata": {},
   "outputs": [
    {
     "name": "stdout",
     "output_type": "stream",
     "text": [
      "Proportion of zero values:\n",
      "0.103956107421311\n"
     ]
    }
   ],
   "source": [
    "print('Proportion of zero values:')\n",
    "print((k_cop_3y_ndx['tau'] == 0).sum()/(len(k_cop_3y_ndx)))"
   ]
  },
  {
   "cell_type": "code",
   "execution_count": 42,
   "id": "1946e8c6",
   "metadata": {},
   "outputs": [
    {
     "data": {
      "text/html": [
       "<div>\n",
       "<style scoped>\n",
       "    .dataframe tbody tr th:only-of-type {\n",
       "        vertical-align: middle;\n",
       "    }\n",
       "\n",
       "    .dataframe tbody tr th {\n",
       "        vertical-align: top;\n",
       "    }\n",
       "\n",
       "    .dataframe thead th {\n",
       "        text-align: right;\n",
       "    }\n",
       "</style>\n",
       "<table border=\"1\" class=\"dataframe\">\n",
       "  <thead>\n",
       "    <tr style=\"text-align: right;\">\n",
       "      <th></th>\n",
       "      <th>year</th>\n",
       "      <th>rotation</th>\n",
       "      <th>tau</th>\n",
       "    </tr>\n",
       "  </thead>\n",
       "  <tbody>\n",
       "    <tr>\n",
       "      <th>count</th>\n",
       "      <td>55408.000000</td>\n",
       "      <td>55408.000000</td>\n",
       "      <td>55408.000000</td>\n",
       "    </tr>\n",
       "    <tr>\n",
       "      <th>mean</th>\n",
       "      <td>2012.183818</td>\n",
       "      <td>37.986211</td>\n",
       "      <td>0.248212</td>\n",
       "    </tr>\n",
       "    <tr>\n",
       "      <th>std</th>\n",
       "      <td>6.246951</td>\n",
       "      <td>73.525955</td>\n",
       "      <td>0.152485</td>\n",
       "    </tr>\n",
       "    <tr>\n",
       "      <th>min</th>\n",
       "      <td>2000.000000</td>\n",
       "      <td>0.000000</td>\n",
       "      <td>-0.177880</td>\n",
       "    </tr>\n",
       "    <tr>\n",
       "      <th>25%</th>\n",
       "      <td>2007.000000</td>\n",
       "      <td>0.000000</td>\n",
       "      <td>0.122916</td>\n",
       "    </tr>\n",
       "    <tr>\n",
       "      <th>50%</th>\n",
       "      <td>2013.000000</td>\n",
       "      <td>0.000000</td>\n",
       "      <td>0.254935</td>\n",
       "    </tr>\n",
       "    <tr>\n",
       "      <th>75%</th>\n",
       "      <td>2018.000000</td>\n",
       "      <td>0.000000</td>\n",
       "      <td>0.364870</td>\n",
       "    </tr>\n",
       "    <tr>\n",
       "      <th>max</th>\n",
       "      <td>2021.000000</td>\n",
       "      <td>270.000000</td>\n",
       "      <td>0.661840</td>\n",
       "    </tr>\n",
       "  </tbody>\n",
       "</table>\n",
       "</div>"
      ],
      "text/plain": [
       "               year      rotation           tau\n",
       "count  55408.000000  55408.000000  55408.000000\n",
       "mean    2012.183818     37.986211      0.248212\n",
       "std        6.246951     73.525955      0.152485\n",
       "min     2000.000000      0.000000     -0.177880\n",
       "25%     2007.000000      0.000000      0.122916\n",
       "50%     2013.000000      0.000000      0.254935\n",
       "75%     2018.000000      0.000000      0.364870\n",
       "max     2021.000000    270.000000      0.661840"
      ]
     },
     "execution_count": 42,
     "metadata": {},
     "output_type": "execute_result"
    }
   ],
   "source": [
    "k_cop_3y_ndx.describe()"
   ]
  },
  {
   "cell_type": "code",
   "execution_count": 43,
   "id": "a5e2146e",
   "metadata": {},
   "outputs": [
    {
     "data": {
      "text/plain": [
       "student     0.412431\n",
       "gumbel      0.216178\n",
       "frank       0.138500\n",
       "indep       0.103956\n",
       "gaussian    0.083075\n",
       "clayton     0.025592\n",
       "joe         0.020268\n",
       "Name: family, dtype: float64"
      ]
     },
     "execution_count": 43,
     "metadata": {},
     "output_type": "execute_result"
    }
   ],
   "source": [
    "k_cop_3y_ndx['family'].value_counts()/len(k_cop_3y_ndx)"
   ]
  },
  {
   "cell_type": "code",
   "execution_count": 44,
   "id": "f0bdffb4",
   "metadata": {},
   "outputs": [
    {
     "data": {
      "text/plain": [
       "(0.0, 650.0)"
      ]
     },
     "execution_count": 44,
     "metadata": {},
     "output_type": "execute_result"
    },
    {
     "data": {
      "image/png": "[encoded data removed]",
      "text/plain": [
       "<Figure size 640x480 with 1 Axes>"
      ]
     },
     "metadata": {},
     "output_type": "display_data"
    }
   ],
   "source": [
    "fig = sns.histplot(data = k_cop_3y_ndx, x = 'tau', bins = 200)\n",
    "fig.set_xlabel(None)\n",
    "fig.set_ylabel(None)\n",
    "plt.xlim(-0.25,0.8)\n",
    "plt.ylim(0,650)"
   ]
  },
  {
   "cell_type": "markdown",
   "id": "4fab2a21",
   "metadata": {},
   "source": [
    "### Family Distribution"
   ]
  },
  {
   "cell_type": "code",
   "execution_count": 45,
   "id": "7f6486cc",
   "metadata": {},
   "outputs": [],
   "source": [
    "fam_dist_cop_3y = {\n",
    "    \"spx_eikon\": e_cop_3y_spx['family'].value_counts(),\n",
    "    \"spx_kaggle\": k_cop_3y_spx['family'].value_counts(),\n",
    "    \"ndx_eikon\": e_cop_3y_ndx['family'].value_counts(),\n",
    "    \"ndx_kaggle\": k_cop_3y_ndx['family'].value_counts()\n",
    "}\n",
    "\n",
    "fam_dist_cop_3y = pd.DataFrame(fam_dist_cop_3y)"
   ]
  },
  {
   "cell_type": "code",
   "execution_count": 46,
   "id": "bdc7d329",
   "metadata": {},
   "outputs": [
    {
     "data": {
      "text/plain": [
       "<AxesSubplot:>"
      ]
     },
     "execution_count": 46,
     "metadata": {},
     "output_type": "execute_result"
    },
    {
     "data": {
      "image/png": "[encoded data removed]",
      "text/plain": [
       "<Figure size 900x800 with 1 Axes>"
      ]
     },
     "metadata": {},
     "output_type": "display_data"
    }
   ],
   "source": [
    "fam_dist_cop_3y.plot(y=[\"spx_eikon\", \"spx_kaggle\", \"ndx_eikon\", \"ndx_kaggle\"], kind=\"bar\", figsize=(9, 8))"
   ]
  },
  {
   "cell_type": "markdown",
   "id": "7eac436e",
   "metadata": {},
   "source": [
    "## ----------------------------------------------------------------------------------------------\n",
    "## Copula Feature 5 Years Window\n",
    "### SPX Eikon"
   ]
  },
  {
   "cell_type": "code",
   "execution_count": 47,
   "id": "395a24f3",
   "metadata": {},
   "outputs": [
    {
     "data": {
      "text/html": [
       "<div>\n",
       "<style scoped>\n",
       "    .dataframe tbody tr th:only-of-type {\n",
       "        vertical-align: middle;\n",
       "    }\n",
       "\n",
       "    .dataframe tbody tr th {\n",
       "        vertical-align: top;\n",
       "    }\n",
       "\n",
       "    .dataframe thead th {\n",
       "        text-align: right;\n",
       "    }\n",
       "</style>\n",
       "<table border=\"1\" class=\"dataframe\">\n",
       "  <thead>\n",
       "    <tr style=\"text-align: right;\">\n",
       "      <th></th>\n",
       "      <th>symbol</th>\n",
       "      <th>year</th>\n",
       "      <th>family</th>\n",
       "      <th>rotation</th>\n",
       "      <th>tau</th>\n",
       "      <th>parameters</th>\n",
       "    </tr>\n",
       "  </thead>\n",
       "  <tbody>\n",
       "    <tr>\n",
       "      <th>0</th>\n",
       "      <td>A</td>\n",
       "      <td>2000</td>\n",
       "      <td>clayton</td>\n",
       "      <td>0</td>\n",
       "      <td>0.232904</td>\n",
       "      <td>[[0.607237]]</td>\n",
       "    </tr>\n",
       "    <tr>\n",
       "      <th>1</th>\n",
       "      <td>A</td>\n",
       "      <td>2001</td>\n",
       "      <td>gaussian</td>\n",
       "      <td>0</td>\n",
       "      <td>0.344151</td>\n",
       "      <td>[[0.51464281]]</td>\n",
       "    </tr>\n",
       "    <tr>\n",
       "      <th>2</th>\n",
       "      <td>A</td>\n",
       "      <td>2002</td>\n",
       "      <td>frank</td>\n",
       "      <td>0</td>\n",
       "      <td>0.391592</td>\n",
       "      <td>[[4.04635815]]</td>\n",
       "    </tr>\n",
       "    <tr>\n",
       "      <th>3</th>\n",
       "      <td>A</td>\n",
       "      <td>2003</td>\n",
       "      <td>frank</td>\n",
       "      <td>0</td>\n",
       "      <td>0.417179</td>\n",
       "      <td>[[4.40261248]]</td>\n",
       "    </tr>\n",
       "    <tr>\n",
       "      <th>4</th>\n",
       "      <td>A</td>\n",
       "      <td>2004</td>\n",
       "      <td>frank</td>\n",
       "      <td>0</td>\n",
       "      <td>0.425203</td>\n",
       "      <td>[[4.51897345]]</td>\n",
       "    </tr>\n",
       "  </tbody>\n",
       "</table>\n",
       "</div>"
      ],
      "text/plain": [
       "  symbol  year    family  rotation       tau      parameters\n",
       "0      A  2000   clayton         0  0.232904    [[0.607237]]\n",
       "1      A  2001  gaussian         0  0.344151  [[0.51464281]]\n",
       "2      A  2002     frank         0  0.391592  [[4.04635815]]\n",
       "3      A  2003     frank         0  0.417179  [[4.40261248]]\n",
       "4      A  2004     frank         0  0.425203  [[4.51897345]]"
      ]
     },
     "execution_count": 47,
     "metadata": {},
     "output_type": "execute_result"
    }
   ],
   "source": [
    "e_cop_5y_spx = pd.read_excel(copula_path + slash + '1_5_10_e_cop_5y_spx.xlsx')\n",
    "e_cop_5y_spx = e_cop_5y_spx.drop(columns=['Unnamed: 0'])\n",
    "\n",
    "e_cop_5y_spx['family'] = e_cop_5y_spx['family'].replace('BicopFamily.clayton', 'clayton')\n",
    "e_cop_5y_spx['family'] = e_cop_5y_spx['family'].replace('BicopFamily.gaussian', 'gaussian')\n",
    "e_cop_5y_spx['family'] = e_cop_5y_spx['family'].replace('BicopFamily.frank', 'frank')\n",
    "e_cop_5y_spx['family'] = e_cop_5y_spx['family'].replace('BicopFamily.gumbel', 'gumbel')\n",
    "e_cop_5y_spx['family'] = e_cop_5y_spx['family'].replace('BicopFamily.student', 'student')\n",
    "e_cop_5y_spx['family'] = e_cop_5y_spx['family'].replace('BicopFamily.indep', 'indep')\n",
    "e_cop_5y_spx['family'] = e_cop_5y_spx['family'].replace('BicopFamily.joe', 'joe')\n",
    "\n",
    "e_cop_5y_spx.head()"
   ]
  },
  {
   "cell_type": "code",
   "execution_count": 48,
   "id": "e8e82549",
   "metadata": {},
   "outputs": [
    {
     "name": "stdout",
     "output_type": "stream",
     "text": [
      "Proportion of zero values:\n",
      "0.09018547720958174\n"
     ]
    }
   ],
   "source": [
    "print('Proportion of zero values:')\n",
    "print((e_cop_5y_spx['tau'] == 0).sum()/(len(e_cop_5y_spx)))"
   ]
  },
  {
   "cell_type": "code",
   "execution_count": 49,
   "id": "390bc124",
   "metadata": {},
   "outputs": [
    {
     "data": {
      "text/html": [
       "<div>\n",
       "<style scoped>\n",
       "    .dataframe tbody tr th:only-of-type {\n",
       "        vertical-align: middle;\n",
       "    }\n",
       "\n",
       "    .dataframe tbody tr th {\n",
       "        vertical-align: top;\n",
       "    }\n",
       "\n",
       "    .dataframe thead th {\n",
       "        text-align: right;\n",
       "    }\n",
       "</style>\n",
       "<table border=\"1\" class=\"dataframe\">\n",
       "  <thead>\n",
       "    <tr style=\"text-align: right;\">\n",
       "      <th></th>\n",
       "      <th>year</th>\n",
       "      <th>rotation</th>\n",
       "      <th>tau</th>\n",
       "    </tr>\n",
       "  </thead>\n",
       "  <tbody>\n",
       "    <tr>\n",
       "      <th>count</th>\n",
       "      <td>53268.000000</td>\n",
       "      <td>53268.000000</td>\n",
       "      <td>53268.000000</td>\n",
       "    </tr>\n",
       "    <tr>\n",
       "      <th>mean</th>\n",
       "      <td>2012.121367</td>\n",
       "      <td>27.986033</td>\n",
       "      <td>0.252283</td>\n",
       "    </tr>\n",
       "    <tr>\n",
       "      <th>std</th>\n",
       "      <td>6.096526</td>\n",
       "      <td>65.316221</td>\n",
       "      <td>0.156976</td>\n",
       "    </tr>\n",
       "    <tr>\n",
       "      <th>min</th>\n",
       "      <td>2000.000000</td>\n",
       "      <td>0.000000</td>\n",
       "      <td>-0.119207</td>\n",
       "    </tr>\n",
       "    <tr>\n",
       "      <th>25%</th>\n",
       "      <td>2007.000000</td>\n",
       "      <td>0.000000</td>\n",
       "      <td>0.113962</td>\n",
       "    </tr>\n",
       "    <tr>\n",
       "      <th>50%</th>\n",
       "      <td>2013.000000</td>\n",
       "      <td>0.000000</td>\n",
       "      <td>0.262205</td>\n",
       "    </tr>\n",
       "    <tr>\n",
       "      <th>75%</th>\n",
       "      <td>2017.000000</td>\n",
       "      <td>0.000000</td>\n",
       "      <td>0.378014</td>\n",
       "    </tr>\n",
       "    <tr>\n",
       "      <th>max</th>\n",
       "      <td>2021.000000</td>\n",
       "      <td>270.000000</td>\n",
       "      <td>0.674719</td>\n",
       "    </tr>\n",
       "  </tbody>\n",
       "</table>\n",
       "</div>"
      ],
      "text/plain": [
       "               year      rotation           tau\n",
       "count  53268.000000  53268.000000  53268.000000\n",
       "mean    2012.121367     27.986033      0.252283\n",
       "std        6.096526     65.316221      0.156976\n",
       "min     2000.000000      0.000000     -0.119207\n",
       "25%     2007.000000      0.000000      0.113962\n",
       "50%     2013.000000      0.000000      0.262205\n",
       "75%     2017.000000      0.000000      0.378014\n",
       "max     2021.000000    270.000000      0.674719"
      ]
     },
     "execution_count": 49,
     "metadata": {},
     "output_type": "execute_result"
    }
   ],
   "source": [
    "e_cop_5y_spx.describe()"
   ]
  },
  {
   "cell_type": "code",
   "execution_count": 50,
   "id": "ea48814d",
   "metadata": {},
   "outputs": [
    {
     "data": {
      "text/plain": [
       "student     0.551588\n",
       "gumbel      0.155741\n",
       "indep       0.090185\n",
       "frank       0.089059\n",
       "gaussian    0.069854\n",
       "clayton     0.026583\n",
       "joe         0.016990\n",
       "Name: family, dtype: float64"
      ]
     },
     "execution_count": 50,
     "metadata": {},
     "output_type": "execute_result"
    }
   ],
   "source": [
    "e_cop_5y_spx['family'].value_counts()/len(e_cop_5y_spx)"
   ]
  },
  {
   "cell_type": "code",
   "execution_count": 51,
   "id": "6053bfd6",
   "metadata": {},
   "outputs": [
    {
     "data": {
      "text/plain": [
       "(0.0, 650.0)"
      ]
     },
     "execution_count": 51,
     "metadata": {},
     "output_type": "execute_result"
    },
    {
     "data": {
      "image/png": "[encoded data removed]",
      "text/plain": [
       "<Figure size 640x480 with 1 Axes>"
      ]
     },
     "metadata": {},
     "output_type": "display_data"
    }
   ],
   "source": [
    "fig = sns.histplot(data = e_cop_5y_spx, x = 'tau', bins = 200)\n",
    "fig.set_xlabel(None)\n",
    "fig.set_ylabel(None)\n",
    "plt.xlim(-0.25,0.8)\n",
    "plt.ylim(0,650)"
   ]
  },
  {
   "cell_type": "markdown",
   "id": "1d71e550",
   "metadata": {},
   "source": [
    "### SPX Kaggle"
   ]
  },
  {
   "cell_type": "code",
   "execution_count": 52,
   "id": "48472925",
   "metadata": {},
   "outputs": [
    {
     "data": {
      "text/html": [
       "<div>\n",
       "<style scoped>\n",
       "    .dataframe tbody tr th:only-of-type {\n",
       "        vertical-align: middle;\n",
       "    }\n",
       "\n",
       "    .dataframe tbody tr th {\n",
       "        vertical-align: top;\n",
       "    }\n",
       "\n",
       "    .dataframe thead th {\n",
       "        text-align: right;\n",
       "    }\n",
       "</style>\n",
       "<table border=\"1\" class=\"dataframe\">\n",
       "  <thead>\n",
       "    <tr style=\"text-align: right;\">\n",
       "      <th></th>\n",
       "      <th>symbol</th>\n",
       "      <th>year</th>\n",
       "      <th>family</th>\n",
       "      <th>rotation</th>\n",
       "      <th>tau</th>\n",
       "      <th>parameters</th>\n",
       "    </tr>\n",
       "  </thead>\n",
       "  <tbody>\n",
       "    <tr>\n",
       "      <th>0</th>\n",
       "      <td>A</td>\n",
       "      <td>2000</td>\n",
       "      <td>clayton</td>\n",
       "      <td>0</td>\n",
       "      <td>0.226182</td>\n",
       "      <td>[[0.58458702]]</td>\n",
       "    </tr>\n",
       "    <tr>\n",
       "      <th>1</th>\n",
       "      <td>A</td>\n",
       "      <td>2001</td>\n",
       "      <td>frank</td>\n",
       "      <td>0</td>\n",
       "      <td>0.348072</td>\n",
       "      <td>[[3.48502067]]</td>\n",
       "    </tr>\n",
       "    <tr>\n",
       "      <th>2</th>\n",
       "      <td>A</td>\n",
       "      <td>2002</td>\n",
       "      <td>frank</td>\n",
       "      <td>0</td>\n",
       "      <td>0.388767</td>\n",
       "      <td>[[4.00830203]]</td>\n",
       "    </tr>\n",
       "    <tr>\n",
       "      <th>3</th>\n",
       "      <td>A</td>\n",
       "      <td>2003</td>\n",
       "      <td>frank</td>\n",
       "      <td>0</td>\n",
       "      <td>0.414763</td>\n",
       "      <td>[[4.36803208]]</td>\n",
       "    </tr>\n",
       "    <tr>\n",
       "      <th>4</th>\n",
       "      <td>A</td>\n",
       "      <td>2004</td>\n",
       "      <td>frank</td>\n",
       "      <td>0</td>\n",
       "      <td>0.423255</td>\n",
       "      <td>[[4.49049845]]</td>\n",
       "    </tr>\n",
       "  </tbody>\n",
       "</table>\n",
       "</div>"
      ],
      "text/plain": [
       "  symbol  year   family  rotation       tau      parameters\n",
       "0      A  2000  clayton         0  0.226182  [[0.58458702]]\n",
       "1      A  2001    frank         0  0.348072  [[3.48502067]]\n",
       "2      A  2002    frank         0  0.388767  [[4.00830203]]\n",
       "3      A  2003    frank         0  0.414763  [[4.36803208]]\n",
       "4      A  2004    frank         0  0.423255  [[4.49049845]]"
      ]
     },
     "execution_count": 52,
     "metadata": {},
     "output_type": "execute_result"
    }
   ],
   "source": [
    "k_cop_5y_spx = pd.read_excel(copula_path + slash + '1_7_12_k_cop_5y_spx.xlsx')\n",
    "k_cop_5y_spx = k_cop_5y_spx.drop(columns=['Unnamed: 0'])\n",
    "\n",
    "k_cop_5y_spx['family'] = k_cop_5y_spx['family'].replace('BicopFamily.clayton', 'clayton')\n",
    "k_cop_5y_spx['family'] = k_cop_5y_spx['family'].replace('BicopFamily.gaussian', 'gaussian')\n",
    "k_cop_5y_spx['family'] = k_cop_5y_spx['family'].replace('BicopFamily.frank', 'frank')\n",
    "k_cop_5y_spx['family'] = k_cop_5y_spx['family'].replace('BicopFamily.gumbel', 'gumbel')\n",
    "k_cop_5y_spx['family'] = k_cop_5y_spx['family'].replace('BicopFamily.student', 'student')\n",
    "k_cop_5y_spx['family'] = k_cop_5y_spx['family'].replace('BicopFamily.indep', 'indep')\n",
    "k_cop_5y_spx['family'] = k_cop_5y_spx['family'].replace('BicopFamily.joe', 'joe')\n",
    "\n",
    "k_cop_5y_spx.head()"
   ]
  },
  {
   "cell_type": "code",
   "execution_count": 53,
   "id": "3bbb1678",
   "metadata": {},
   "outputs": [
    {
     "name": "stdout",
     "output_type": "stream",
     "text": [
      "Proportion of zero values:\n",
      "0.08389177114858049\n"
     ]
    }
   ],
   "source": [
    "print('Proportion of zero values:')\n",
    "print((k_cop_5y_spx['tau'] == 0).sum()/(len(k_cop_5y_spx)))"
   ]
  },
  {
   "cell_type": "code",
   "execution_count": 54,
   "id": "84b31e34",
   "metadata": {},
   "outputs": [
    {
     "data": {
      "text/html": [
       "<div>\n",
       "<style scoped>\n",
       "    .dataframe tbody tr th:only-of-type {\n",
       "        vertical-align: middle;\n",
       "    }\n",
       "\n",
       "    .dataframe tbody tr th {\n",
       "        vertical-align: top;\n",
       "    }\n",
       "\n",
       "    .dataframe thead th {\n",
       "        text-align: right;\n",
       "    }\n",
       "</style>\n",
       "<table border=\"1\" class=\"dataframe\">\n",
       "  <thead>\n",
       "    <tr style=\"text-align: right;\">\n",
       "      <th></th>\n",
       "      <th>year</th>\n",
       "      <th>rotation</th>\n",
       "      <th>tau</th>\n",
       "    </tr>\n",
       "  </thead>\n",
       "  <tbody>\n",
       "    <tr>\n",
       "      <th>count</th>\n",
       "      <td>55512.000000</td>\n",
       "      <td>55512.000000</td>\n",
       "      <td>55512.000000</td>\n",
       "    </tr>\n",
       "    <tr>\n",
       "      <th>mean</th>\n",
       "      <td>2012.197075</td>\n",
       "      <td>29.883268</td>\n",
       "      <td>0.251260</td>\n",
       "    </tr>\n",
       "    <tr>\n",
       "      <th>std</th>\n",
       "      <td>6.250645</td>\n",
       "      <td>67.006367</td>\n",
       "      <td>0.153145</td>\n",
       "    </tr>\n",
       "    <tr>\n",
       "      <th>min</th>\n",
       "      <td>2000.000000</td>\n",
       "      <td>0.000000</td>\n",
       "      <td>-0.170143</td>\n",
       "    </tr>\n",
       "    <tr>\n",
       "      <th>25%</th>\n",
       "      <td>2007.000000</td>\n",
       "      <td>0.000000</td>\n",
       "      <td>0.120207</td>\n",
       "    </tr>\n",
       "    <tr>\n",
       "      <th>50%</th>\n",
       "      <td>2013.000000</td>\n",
       "      <td>0.000000</td>\n",
       "      <td>0.258732</td>\n",
       "    </tr>\n",
       "    <tr>\n",
       "      <th>75%</th>\n",
       "      <td>2018.000000</td>\n",
       "      <td>0.000000</td>\n",
       "      <td>0.372359</td>\n",
       "    </tr>\n",
       "    <tr>\n",
       "      <th>max</th>\n",
       "      <td>2021.000000</td>\n",
       "      <td>270.000000</td>\n",
       "      <td>0.671576</td>\n",
       "    </tr>\n",
       "  </tbody>\n",
       "</table>\n",
       "</div>"
      ],
      "text/plain": [
       "               year      rotation           tau\n",
       "count  55512.000000  55512.000000  55512.000000\n",
       "mean    2012.197075     29.883268      0.251260\n",
       "std        6.250645     67.006367      0.153145\n",
       "min     2000.000000      0.000000     -0.170143\n",
       "25%     2007.000000      0.000000      0.120207\n",
       "50%     2013.000000      0.000000      0.258732\n",
       "75%     2018.000000      0.000000      0.372359\n",
       "max     2021.000000    270.000000      0.671576"
      ]
     },
     "execution_count": 54,
     "metadata": {},
     "output_type": "execute_result"
    }
   ],
   "source": [
    "k_cop_5y_spx.describe()"
   ]
  },
  {
   "cell_type": "code",
   "execution_count": 55,
   "id": "e2e6b966",
   "metadata": {},
   "outputs": [
    {
     "data": {
      "text/plain": [
       "student     0.551196\n",
       "gumbel      0.163298\n",
       "frank       0.086702\n",
       "indep       0.083892\n",
       "gaussian    0.072741\n",
       "clayton     0.024499\n",
       "joe         0.017672\n",
       "Name: family, dtype: float64"
      ]
     },
     "execution_count": 55,
     "metadata": {},
     "output_type": "execute_result"
    }
   ],
   "source": [
    "k_cop_5y_spx['family'].value_counts()/len(k_cop_5y_spx)"
   ]
  },
  {
   "cell_type": "code",
   "execution_count": 56,
   "id": "5ac4e2c5",
   "metadata": {},
   "outputs": [
    {
     "data": {
      "text/plain": [
       "(0.0, 650.0)"
      ]
     },
     "execution_count": 56,
     "metadata": {},
     "output_type": "execute_result"
    },
    {
     "data": {
      "image/png": "[encoded data removed]",
      "text/plain": [
       "<Figure size 640x480 with 1 Axes>"
      ]
     },
     "metadata": {},
     "output_type": "display_data"
    }
   ],
   "source": [
    "fig = sns.histplot(data = k_cop_5y_spx, x = 'tau', bins = 200)\n",
    "fig.set_xlabel(None)\n",
    "fig.set_ylabel(None)\n",
    "plt.xlim(-0.25,0.8)\n",
    "plt.ylim(0,650)"
   ]
  },
  {
   "cell_type": "markdown",
   "id": "ddeebd45",
   "metadata": {},
   "source": [
    "### NDX Eikon"
   ]
  },
  {
   "cell_type": "code",
   "execution_count": 57,
   "id": "af147a38",
   "metadata": {},
   "outputs": [
    {
     "data": {
      "text/html": [
       "<div>\n",
       "<style scoped>\n",
       "    .dataframe tbody tr th:only-of-type {\n",
       "        vertical-align: middle;\n",
       "    }\n",
       "\n",
       "    .dataframe tbody tr th {\n",
       "        vertical-align: top;\n",
       "    }\n",
       "\n",
       "    .dataframe thead th {\n",
       "        text-align: right;\n",
       "    }\n",
       "</style>\n",
       "<table border=\"1\" class=\"dataframe\">\n",
       "  <thead>\n",
       "    <tr style=\"text-align: right;\">\n",
       "      <th></th>\n",
       "      <th>symbol</th>\n",
       "      <th>year</th>\n",
       "      <th>family</th>\n",
       "      <th>rotation</th>\n",
       "      <th>tau</th>\n",
       "      <th>parameters</th>\n",
       "    </tr>\n",
       "  </thead>\n",
       "  <tbody>\n",
       "    <tr>\n",
       "      <th>0</th>\n",
       "      <td>A</td>\n",
       "      <td>2000</td>\n",
       "      <td>gaussian</td>\n",
       "      <td>0</td>\n",
       "      <td>0.308815</td>\n",
       "      <td>[[0.46628407]]</td>\n",
       "    </tr>\n",
       "    <tr>\n",
       "      <th>1</th>\n",
       "      <td>A</td>\n",
       "      <td>2001</td>\n",
       "      <td>gaussian</td>\n",
       "      <td>0</td>\n",
       "      <td>0.392712</td>\n",
       "      <td>[[0.57848526]]</td>\n",
       "    </tr>\n",
       "    <tr>\n",
       "      <th>2</th>\n",
       "      <td>A</td>\n",
       "      <td>2002</td>\n",
       "      <td>gaussian</td>\n",
       "      <td>0</td>\n",
       "      <td>0.410796</td>\n",
       "      <td>[[0.60141908]]</td>\n",
       "    </tr>\n",
       "    <tr>\n",
       "      <th>3</th>\n",
       "      <td>A</td>\n",
       "      <td>2003</td>\n",
       "      <td>student</td>\n",
       "      <td>0</td>\n",
       "      <td>0.435484</td>\n",
       "      <td>[[0.63194212]\\n [6.01687797]]</td>\n",
       "    </tr>\n",
       "    <tr>\n",
       "      <th>4</th>\n",
       "      <td>A</td>\n",
       "      <td>2004</td>\n",
       "      <td>student</td>\n",
       "      <td>0</td>\n",
       "      <td>0.446790</td>\n",
       "      <td>[[0.64560518]\\n [4.50773278]]</td>\n",
       "    </tr>\n",
       "  </tbody>\n",
       "</table>\n",
       "</div>"
      ],
      "text/plain": [
       "  symbol  year    family  rotation       tau                     parameters\n",
       "0      A  2000  gaussian         0  0.308815                 [[0.46628407]]\n",
       "1      A  2001  gaussian         0  0.392712                 [[0.57848526]]\n",
       "2      A  2002  gaussian         0  0.410796                 [[0.60141908]]\n",
       "3      A  2003   student         0  0.435484  [[0.63194212]\\n [6.01687797]]\n",
       "4      A  2004   student         0  0.446790  [[0.64560518]\\n [4.50773278]]"
      ]
     },
     "execution_count": 57,
     "metadata": {},
     "output_type": "execute_result"
    }
   ],
   "source": [
    "e_cop_5y_ndx = pd.read_excel(copula_path + slash + '1_5_17_e_cop_5y_ndx.xlsx')\n",
    "e_cop_5y_ndx = e_cop_5y_ndx.drop(columns=['Unnamed: 0'])\n",
    "\n",
    "e_cop_5y_ndx['family'] = e_cop_5y_ndx['family'].replace('BicopFamily.clayton', 'clayton')\n",
    "e_cop_5y_ndx['family'] = e_cop_5y_ndx['family'].replace('BicopFamily.gaussian', 'gaussian')\n",
    "e_cop_5y_ndx['family'] = e_cop_5y_ndx['family'].replace('BicopFamily.frank', 'frank')\n",
    "e_cop_5y_ndx['family'] = e_cop_5y_ndx['family'].replace('BicopFamily.gumbel', 'gumbel')\n",
    "e_cop_5y_ndx['family'] = e_cop_5y_ndx['family'].replace('BicopFamily.student', 'student')\n",
    "e_cop_5y_ndx['family'] = e_cop_5y_ndx['family'].replace('BicopFamily.indep', 'indep')\n",
    "e_cop_5y_ndx['family'] = e_cop_5y_ndx['family'].replace('BicopFamily.joe', 'joe')\n",
    "\n",
    "e_cop_5y_ndx.head()"
   ]
  },
  {
   "cell_type": "code",
   "execution_count": 58,
   "id": "edda4f87",
   "metadata": {},
   "outputs": [
    {
     "name": "stdout",
     "output_type": "stream",
     "text": [
      "Proportion of zero values:\n",
      "0.10250056318990763\n"
     ]
    }
   ],
   "source": [
    "print('Proportion of zero values:')\n",
    "print((e_cop_5y_ndx['tau'] == 0).sum()/(len(e_cop_5y_ndx)))"
   ]
  },
  {
   "cell_type": "code",
   "execution_count": 59,
   "id": "d7111e2f",
   "metadata": {},
   "outputs": [
    {
     "data": {
      "text/html": [
       "<div>\n",
       "<style scoped>\n",
       "    .dataframe tbody tr th:only-of-type {\n",
       "        vertical-align: middle;\n",
       "    }\n",
       "\n",
       "    .dataframe tbody tr th {\n",
       "        vertical-align: top;\n",
       "    }\n",
       "\n",
       "    .dataframe thead th {\n",
       "        text-align: right;\n",
       "    }\n",
       "</style>\n",
       "<table border=\"1\" class=\"dataframe\">\n",
       "  <thead>\n",
       "    <tr style=\"text-align: right;\">\n",
       "      <th></th>\n",
       "      <th>year</th>\n",
       "      <th>rotation</th>\n",
       "      <th>tau</th>\n",
       "    </tr>\n",
       "  </thead>\n",
       "  <tbody>\n",
       "    <tr>\n",
       "      <th>count</th>\n",
       "      <td>53268.000000</td>\n",
       "      <td>53268.000000</td>\n",
       "      <td>53268.000000</td>\n",
       "    </tr>\n",
       "    <tr>\n",
       "      <th>mean</th>\n",
       "      <td>2012.121367</td>\n",
       "      <td>30.824510</td>\n",
       "      <td>0.224415</td>\n",
       "    </tr>\n",
       "    <tr>\n",
       "      <th>std</th>\n",
       "      <td>6.096526</td>\n",
       "      <td>67.871637</td>\n",
       "      <td>0.144473</td>\n",
       "    </tr>\n",
       "    <tr>\n",
       "      <th>min</th>\n",
       "      <td>2000.000000</td>\n",
       "      <td>0.000000</td>\n",
       "      <td>-0.122992</td>\n",
       "    </tr>\n",
       "    <tr>\n",
       "      <th>25%</th>\n",
       "      <td>2007.000000</td>\n",
       "      <td>0.000000</td>\n",
       "      <td>0.101593</td>\n",
       "    </tr>\n",
       "    <tr>\n",
       "      <th>50%</th>\n",
       "      <td>2013.000000</td>\n",
       "      <td>0.000000</td>\n",
       "      <td>0.225888</td>\n",
       "    </tr>\n",
       "    <tr>\n",
       "      <th>75%</th>\n",
       "      <td>2017.000000</td>\n",
       "      <td>0.000000</td>\n",
       "      <td>0.339517</td>\n",
       "    </tr>\n",
       "    <tr>\n",
       "      <th>max</th>\n",
       "      <td>2021.000000</td>\n",
       "      <td>270.000000</td>\n",
       "      <td>0.655846</td>\n",
       "    </tr>\n",
       "  </tbody>\n",
       "</table>\n",
       "</div>"
      ],
      "text/plain": [
       "               year      rotation           tau\n",
       "count  53268.000000  53268.000000  53268.000000\n",
       "mean    2012.121367     30.824510      0.224415\n",
       "std        6.096526     67.871637      0.144473\n",
       "min     2000.000000      0.000000     -0.122992\n",
       "25%     2007.000000      0.000000      0.101593\n",
       "50%     2013.000000      0.000000      0.225888\n",
       "75%     2017.000000      0.000000      0.339517\n",
       "max     2021.000000    270.000000      0.655846"
      ]
     },
     "execution_count": 59,
     "metadata": {},
     "output_type": "execute_result"
    }
   ],
   "source": [
    "e_cop_5y_ndx.describe()"
   ]
  },
  {
   "cell_type": "code",
   "execution_count": 60,
   "id": "8fe1c978",
   "metadata": {},
   "outputs": [
    {
     "data": {
      "text/plain": [
       "student     0.519993\n",
       "gumbel      0.175152\n",
       "indep       0.102501\n",
       "frank       0.095386\n",
       "gaussian    0.060524\n",
       "clayton     0.027728\n",
       "joe         0.018717\n",
       "Name: family, dtype: float64"
      ]
     },
     "execution_count": 60,
     "metadata": {},
     "output_type": "execute_result"
    }
   ],
   "source": [
    "e_cop_5y_ndx['family'].value_counts()/len(e_cop_5y_ndx)"
   ]
  },
  {
   "cell_type": "code",
   "execution_count": 61,
   "id": "34017b95",
   "metadata": {},
   "outputs": [
    {
     "data": {
      "text/plain": [
       "(0.0, 650.0)"
      ]
     },
     "execution_count": 61,
     "metadata": {},
     "output_type": "execute_result"
    },
    {
     "data": {
      "image/png": "[encoded data removed]",
      "text/plain": [
       "<Figure size 640x480 with 1 Axes>"
      ]
     },
     "metadata": {},
     "output_type": "display_data"
    }
   ],
   "source": [
    "fig = sns.histplot(data = e_cop_5y_ndx, x = 'tau', bins = 200)\n",
    "fig.set_xlabel(None)\n",
    "fig.set_ylabel(None)\n",
    "plt.xlim(-0.25,0.8)\n",
    "plt.ylim(0,650)"
   ]
  },
  {
   "cell_type": "markdown",
   "id": "7b753907",
   "metadata": {},
   "source": [
    "### NDX Kaggle"
   ]
  },
  {
   "cell_type": "code",
   "execution_count": 62,
   "id": "6a6d3045",
   "metadata": {},
   "outputs": [
    {
     "data": {
      "text/html": [
       "<div>\n",
       "<style scoped>\n",
       "    .dataframe tbody tr th:only-of-type {\n",
       "        vertical-align: middle;\n",
       "    }\n",
       "\n",
       "    .dataframe tbody tr th {\n",
       "        vertical-align: top;\n",
       "    }\n",
       "\n",
       "    .dataframe thead th {\n",
       "        text-align: right;\n",
       "    }\n",
       "</style>\n",
       "<table border=\"1\" class=\"dataframe\">\n",
       "  <thead>\n",
       "    <tr style=\"text-align: right;\">\n",
       "      <th></th>\n",
       "      <th>symbol</th>\n",
       "      <th>year</th>\n",
       "      <th>family</th>\n",
       "      <th>rotation</th>\n",
       "      <th>tau</th>\n",
       "      <th>parameters</th>\n",
       "    </tr>\n",
       "  </thead>\n",
       "  <tbody>\n",
       "    <tr>\n",
       "      <th>0</th>\n",
       "      <td>A</td>\n",
       "      <td>2000</td>\n",
       "      <td>gumbel</td>\n",
       "      <td>180</td>\n",
       "      <td>0.298537</td>\n",
       "      <td>[[1.42559096]]</td>\n",
       "    </tr>\n",
       "    <tr>\n",
       "      <th>1</th>\n",
       "      <td>A</td>\n",
       "      <td>2001</td>\n",
       "      <td>frank</td>\n",
       "      <td>0</td>\n",
       "      <td>0.411939</td>\n",
       "      <td>[[4.3278801]]</td>\n",
       "    </tr>\n",
       "    <tr>\n",
       "      <th>2</th>\n",
       "      <td>A</td>\n",
       "      <td>2002</td>\n",
       "      <td>student</td>\n",
       "      <td>0</td>\n",
       "      <td>0.428672</td>\n",
       "      <td>[[0.62361315]\\n [6.76863677]]</td>\n",
       "    </tr>\n",
       "    <tr>\n",
       "      <th>3</th>\n",
       "      <td>A</td>\n",
       "      <td>2003</td>\n",
       "      <td>student</td>\n",
       "      <td>0</td>\n",
       "      <td>0.451740</td>\n",
       "      <td>[[0.65152345]\\n [4.76572482]]</td>\n",
       "    </tr>\n",
       "    <tr>\n",
       "      <th>4</th>\n",
       "      <td>A</td>\n",
       "      <td>2004</td>\n",
       "      <td>student</td>\n",
       "      <td>0</td>\n",
       "      <td>0.463937</td>\n",
       "      <td>[[0.66593775]\\n [3.98047731]]</td>\n",
       "    </tr>\n",
       "  </tbody>\n",
       "</table>\n",
       "</div>"
      ],
      "text/plain": [
       "  symbol  year   family  rotation       tau                     parameters\n",
       "0      A  2000   gumbel       180  0.298537                 [[1.42559096]]\n",
       "1      A  2001    frank         0  0.411939                  [[4.3278801]]\n",
       "2      A  2002  student         0  0.428672  [[0.62361315]\\n [6.76863677]]\n",
       "3      A  2003  student         0  0.451740  [[0.65152345]\\n [4.76572482]]\n",
       "4      A  2004  student         0  0.463937  [[0.66593775]\\n [3.98047731]]"
      ]
     },
     "execution_count": 62,
     "metadata": {},
     "output_type": "execute_result"
    }
   ],
   "source": [
    "k_cop_5y_ndx = pd.read_excel(copula_path + slash + '1_7_22_k_cop_5y_ndx.xlsx')\n",
    "k_cop_5y_ndx = k_cop_5y_ndx.drop(columns=['Unnamed: 0'])\n",
    "\n",
    "k_cop_5y_ndx['family'] = k_cop_5y_ndx['family'].replace('BicopFamily.clayton', 'clayton')\n",
    "k_cop_5y_ndx['family'] = k_cop_5y_ndx['family'].replace('BicopFamily.gaussian', 'gaussian')\n",
    "k_cop_5y_ndx['family'] = k_cop_5y_ndx['family'].replace('BicopFamily.frank', 'frank')\n",
    "k_cop_5y_ndx['family'] = k_cop_5y_ndx['family'].replace('BicopFamily.gumbel', 'gumbel')\n",
    "k_cop_5y_ndx['family'] = k_cop_5y_ndx['family'].replace('BicopFamily.student', 'student')\n",
    "k_cop_5y_ndx['family'] = k_cop_5y_ndx['family'].replace('BicopFamily.indep', 'indep')\n",
    "k_cop_5y_ndx['family'] = k_cop_5y_ndx['family'].replace('BicopFamily.joe', 'joe')\n",
    "\n",
    "k_cop_5y_ndx.head()"
   ]
  },
  {
   "cell_type": "code",
   "execution_count": 63,
   "id": "67ebd203",
   "metadata": {},
   "outputs": [
    {
     "name": "stdout",
     "output_type": "stream",
     "text": [
      "Proportion of zero values:\n",
      "0.0848465196714224\n"
     ]
    }
   ],
   "source": [
    "print('Proportion of zero values:')\n",
    "print((k_cop_5y_ndx['tau'] == 0).sum()/(len(k_cop_5y_ndx)))"
   ]
  },
  {
   "cell_type": "code",
   "execution_count": 64,
   "id": "703059e9",
   "metadata": {},
   "outputs": [
    {
     "data": {
      "text/html": [
       "<div>\n",
       "<style scoped>\n",
       "    .dataframe tbody tr th:only-of-type {\n",
       "        vertical-align: middle;\n",
       "    }\n",
       "\n",
       "    .dataframe tbody tr th {\n",
       "        vertical-align: top;\n",
       "    }\n",
       "\n",
       "    .dataframe thead th {\n",
       "        text-align: right;\n",
       "    }\n",
       "</style>\n",
       "<table border=\"1\" class=\"dataframe\">\n",
       "  <thead>\n",
       "    <tr style=\"text-align: right;\">\n",
       "      <th></th>\n",
       "      <th>year</th>\n",
       "      <th>rotation</th>\n",
       "      <th>tau</th>\n",
       "    </tr>\n",
       "  </thead>\n",
       "  <tbody>\n",
       "    <tr>\n",
       "      <th>count</th>\n",
       "      <td>55512.000000</td>\n",
       "      <td>55512.000000</td>\n",
       "      <td>55512.000000</td>\n",
       "    </tr>\n",
       "    <tr>\n",
       "      <th>mean</th>\n",
       "      <td>2012.197075</td>\n",
       "      <td>29.855707</td>\n",
       "      <td>0.243121</td>\n",
       "    </tr>\n",
       "    <tr>\n",
       "      <th>std</th>\n",
       "      <td>6.250645</td>\n",
       "      <td>66.997965</td>\n",
       "      <td>0.148803</td>\n",
       "    </tr>\n",
       "    <tr>\n",
       "      <th>min</th>\n",
       "      <td>2000.000000</td>\n",
       "      <td>0.000000</td>\n",
       "      <td>-0.177880</td>\n",
       "    </tr>\n",
       "    <tr>\n",
       "      <th>25%</th>\n",
       "      <td>2007.000000</td>\n",
       "      <td>0.000000</td>\n",
       "      <td>0.117750</td>\n",
       "    </tr>\n",
       "    <tr>\n",
       "      <th>50%</th>\n",
       "      <td>2013.000000</td>\n",
       "      <td>0.000000</td>\n",
       "      <td>0.247353</td>\n",
       "    </tr>\n",
       "    <tr>\n",
       "      <th>75%</th>\n",
       "      <td>2018.000000</td>\n",
       "      <td>0.000000</td>\n",
       "      <td>0.360323</td>\n",
       "    </tr>\n",
       "    <tr>\n",
       "      <th>max</th>\n",
       "      <td>2021.000000</td>\n",
       "      <td>270.000000</td>\n",
       "      <td>0.627053</td>\n",
       "    </tr>\n",
       "  </tbody>\n",
       "</table>\n",
       "</div>"
      ],
      "text/plain": [
       "               year      rotation           tau\n",
       "count  55512.000000  55512.000000  55512.000000\n",
       "mean    2012.197075     29.855707      0.243121\n",
       "std        6.250645     66.997965      0.148803\n",
       "min     2000.000000      0.000000     -0.177880\n",
       "25%     2007.000000      0.000000      0.117750\n",
       "50%     2013.000000      0.000000      0.247353\n",
       "75%     2018.000000      0.000000      0.360323\n",
       "max     2021.000000    270.000000      0.627053"
      ]
     },
     "execution_count": 64,
     "metadata": {},
     "output_type": "execute_result"
    }
   ],
   "source": [
    "k_cop_5y_ndx.describe()"
   ]
  },
  {
   "cell_type": "code",
   "execution_count": 65,
   "id": "6d275f5d",
   "metadata": {},
   "outputs": [
    {
     "data": {
      "text/plain": [
       "student     0.541072\n",
       "gumbel      0.165892\n",
       "frank       0.109598\n",
       "indep       0.084847\n",
       "gaussian    0.059194\n",
       "clayton     0.022193\n",
       "joe         0.017203\n",
       "Name: family, dtype: float64"
      ]
     },
     "execution_count": 65,
     "metadata": {},
     "output_type": "execute_result"
    }
   ],
   "source": [
    "k_cop_5y_ndx['family'].value_counts()/len(k_cop_5y_ndx)"
   ]
  },
  {
   "cell_type": "code",
   "execution_count": 66,
   "id": "5d408f8f",
   "metadata": {},
   "outputs": [
    {
     "data": {
      "text/plain": [
       "(0.0, 650.0)"
      ]
     },
     "execution_count": 66,
     "metadata": {},
     "output_type": "execute_result"
    },
    {
     "data": {
      "image/png": "[encoded data removed]",
      "text/plain": [
       "<Figure size 640x480 with 1 Axes>"
      ]
     },
     "metadata": {},
     "output_type": "display_data"
    }
   ],
   "source": [
    "fig = sns.histplot(data = k_cop_5y_ndx, x = 'tau', bins = 200)\n",
    "fig.set_xlabel(None)\n",
    "fig.set_ylabel(None)\n",
    "plt.xlim(-0.25,0.8)\n",
    "plt.ylim(0,650)"
   ]
  },
  {
   "cell_type": "markdown",
   "id": "ece16688",
   "metadata": {},
   "source": [
    "### Family Distribution"
   ]
  },
  {
   "cell_type": "code",
   "execution_count": 67,
   "id": "4eaad6c1",
   "metadata": {},
   "outputs": [],
   "source": [
    "fam_dist_cop_5y = {\n",
    "    \"spx_eikon\": e_cop_5y_spx['family'].value_counts(),\n",
    "    \"spx_kaggle\": k_cop_5y_spx['family'].value_counts(),\n",
    "    \"ndx_eikon\": e_cop_5y_ndx['family'].value_counts(),\n",
    "    \"ndx_kaggle\": k_cop_5y_ndx['family'].value_counts()\n",
    "}\n",
    "\n",
    "fam_dist_cop_5y = pd.DataFrame(fam_dist_cop_5y)"
   ]
  },
  {
   "cell_type": "code",
   "execution_count": 68,
   "id": "2734725b",
   "metadata": {},
   "outputs": [
    {
     "data": {
      "text/plain": [
       "<AxesSubplot:>"
      ]
     },
     "execution_count": 68,
     "metadata": {},
     "output_type": "execute_result"
    },
    {
     "data": {
      "image/png": "[encoded data removed]",
      "text/plain": [
       "<Figure size 900x800 with 1 Axes>"
      ]
     },
     "metadata": {},
     "output_type": "display_data"
    }
   ],
   "source": [
    "fam_dist_cop_5y.plot(y=[\"spx_eikon\", \"spx_kaggle\", \"ndx_eikon\", \"ndx_kaggle\"], kind=\"bar\", figsize=(9, 8))"
   ]
  },
  {
   "cell_type": "markdown",
   "id": "e5300349",
   "metadata": {},
   "source": [
    "## Time Series Means"
   ]
  },
  {
   "cell_type": "code",
   "execution_count": 69,
   "id": "5860e161",
   "metadata": {},
   "outputs": [
    {
     "data": {
      "text/plain": [
       "<matplotlib.legend.Legend at 0x25f0c6787f0>"
      ]
     },
     "execution_count": 69,
     "metadata": {},
     "output_type": "execute_result"
    },
    {
     "data": {
      "image/png": "[encoded data removed]",
      "text/plain": [
       "<Figure size 640x480 with 1 Axes>"
      ]
     },
     "metadata": {},
     "output_type": "display_data"
    }
   ],
   "source": [
    "e_spx_tau_ts_means = {}\n",
    "for year in e_target_spx['year'].unique():\n",
    "    e_spx_tau_ts_means[year]= e_target_spx[e_target_spx['year'] == year]['tau'].mean()\n",
    "\n",
    "e_ndx_tau_ts_means = {}\n",
    "for year in e_target_ndx['year'].unique():\n",
    "    e_ndx_tau_ts_means[year]= e_target_ndx[e_target_ndx['year'] == year]['tau'].mean()\n",
    "\n",
    "k_spx_tau_ts_means = {}\n",
    "for year in k_target_spx['year'].unique():\n",
    "    k_spx_tau_ts_means[year]= k_target_spx[k_target_spx['year'] == year]['tau'].mean()\n",
    "    \n",
    "k_ndx_tau_ts_means = {}\n",
    "for year in k_target_ndx['year'].unique():\n",
    "    k_ndx_tau_ts_means[year]= k_target_ndx[k_target_ndx['year'] == year]['tau'].mean()\n",
    "\n",
    "sns.lineplot(data= e_spx_tau_ts_means)\n",
    "sns.lineplot(data= e_ndx_tau_ts_means)\n",
    "sns.lineplot(data= k_spx_tau_ts_means)\n",
    "sns.lineplot(data= k_ndx_tau_ts_means)\n",
    "plt.legend(labels=['spx_eikon', 'spx_kaggle', 'ndx_eikon', 'ndx_kaggle'])\n",
    "\n"
   ]
  }
 ],
 "metadata": {
  "kernelspec": {
   "display_name": "Python 3 (ipykernel)",
   "language": "python",
   "name": "python3"
  },
  "language_info": {
   "codemirror_mode": {
    "name": "ipython",
    "version": 3
   },
   "file_extension": ".py",
   "mimetype": "text/x-python",
   "name": "python",
   "nbconvert_exporter": "python",
   "pygments_lexer": "ipython3",
   "version": "3.9.13"
  }
 },
 "nbformat": 4,
 "nbformat_minor": 5
}
