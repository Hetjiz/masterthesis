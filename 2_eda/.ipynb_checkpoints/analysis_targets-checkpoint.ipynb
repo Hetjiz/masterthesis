{
 "cells": [
  {
   "cell_type": "markdown",
   "id": "c1bcd195",
   "metadata": {},
   "source": [
    "# Analysis Selected Target (Copula)"
   ]
  },
  {
   "cell_type": "code",
   "execution_count": 1,
   "id": "45c7633d",
   "metadata": {},
   "outputs": [],
   "source": [
    "from datetime import datetime\n",
    "import matplotlib.pyplot as plt\n",
    "import numpy as np\n",
    "import pathlib\n",
    "import pandas as pd\n",
    "import platform\n",
    "import pyvinecopulib as pv\n",
    "import random\n",
    "import seaborn as sns\n",
    "from sqlalchemy import create_engine\n",
    "import sys\n",
    "\n",
    "date_format = \"%Y-%m-%d\""
   ]
  },
  {
   "cell_type": "code",
   "execution_count": 3,
   "id": "99875d8a",
   "metadata": {},
   "outputs": [
    {
     "name": "stdout",
     "output_type": "stream",
     "text": [
      "OS in my system:  Windows\n"
     ]
    }
   ],
   "source": [
    "my_os = platform.system()\n",
    "print('OS in my system: ',my_os)\n",
    "\n",
    "if my_os == 'Windows':\n",
    "    path = str(pathlib.Path().absolute()) + '\\\\'\n",
    "    path = path.replace('2_eda', '3_data_pre-processing')\n",
    "    slash = '\\\\'\n",
    "else:\n",
    "    path = str(pathlib.Path().absolute()) + '/'\n",
    "    path = path.replace('2_eda', '3_data_pre-processing')\n",
    "    slash = '/'\n",
    "\n",
    "artif_path = path + 'data_artifacts' + slash"
   ]
  },
  {
   "cell_type": "markdown",
   "id": "089d2a36",
   "metadata": {},
   "source": [
    "## Copula Target\n",
    "### SPX Eikon"
   ]
  },
  {
   "cell_type": "code",
   "execution_count": 10,
   "id": "6dc51501",
   "metadata": {},
   "outputs": [
    {
     "data": {
      "text/html": [
       "<div>\n",
       "<style scoped>\n",
       "    .dataframe tbody tr th:only-of-type {\n",
       "        vertical-align: middle;\n",
       "    }\n",
       "\n",
       "    .dataframe tbody tr th {\n",
       "        vertical-align: top;\n",
       "    }\n",
       "\n",
       "    .dataframe thead th {\n",
       "        text-align: right;\n",
       "    }\n",
       "</style>\n",
       "<table border=\"1\" class=\"dataframe\">\n",
       "  <thead>\n",
       "    <tr style=\"text-align: right;\">\n",
       "      <th></th>\n",
       "      <th>ric</th>\n",
       "      <th>year</th>\n",
       "      <th>symbol</th>\n",
       "      <th>tau_cop_3y</th>\n",
       "      <th>tau_cop_5y</th>\n",
       "      <th>fam_target_ori</th>\n",
       "      <th>rot_target_ori</th>\n",
       "      <th>tau_target_ori</th>\n",
       "      <th>par_target_ori</th>\n",
       "      <th>year_hor</th>\n",
       "      <th>...</th>\n",
       "      <th>naics_18</th>\n",
       "      <th>naics_19</th>\n",
       "      <th>fam_target_hor_clayton</th>\n",
       "      <th>fam_target_hor_frank</th>\n",
       "      <th>fam_target_hor_gaussian</th>\n",
       "      <th>fam_target_hor_gumbel</th>\n",
       "      <th>fam_target_hor_indep</th>\n",
       "      <th>fam_target_hor_joe</th>\n",
       "      <th>fam_target_hor_student</th>\n",
       "      <th>fam_target_hor</th>\n",
       "    </tr>\n",
       "  </thead>\n",
       "  <tbody>\n",
       "    <tr>\n",
       "      <th>3</th>\n",
       "      <td>A.ITC</td>\n",
       "      <td>2004</td>\n",
       "      <td>A</td>\n",
       "      <td>1.277581</td>\n",
       "      <td>0.930362</td>\n",
       "      <td>frank</td>\n",
       "      <td>0</td>\n",
       "      <td>0.462612</td>\n",
       "      <td>[[5.09499262]]</td>\n",
       "      <td>2006</td>\n",
       "      <td>...</td>\n",
       "      <td>0</td>\n",
       "      <td>0</td>\n",
       "      <td>0</td>\n",
       "      <td>0</td>\n",
       "      <td>1</td>\n",
       "      <td>0</td>\n",
       "      <td>0</td>\n",
       "      <td>0</td>\n",
       "      <td>0</td>\n",
       "      <td>gaussian</td>\n",
       "    </tr>\n",
       "    <tr>\n",
       "      <th>4</th>\n",
       "      <td>A.ITC</td>\n",
       "      <td>2005</td>\n",
       "      <td>A</td>\n",
       "      <td>1.051058</td>\n",
       "      <td>1.144760</td>\n",
       "      <td>frank</td>\n",
       "      <td>0</td>\n",
       "      <td>0.371968</td>\n",
       "      <td>[[3.78686423]]</td>\n",
       "      <td>2007</td>\n",
       "      <td>...</td>\n",
       "      <td>0</td>\n",
       "      <td>0</td>\n",
       "      <td>0</td>\n",
       "      <td>0</td>\n",
       "      <td>0</td>\n",
       "      <td>1</td>\n",
       "      <td>0</td>\n",
       "      <td>0</td>\n",
       "      <td>0</td>\n",
       "      <td>gumbel</td>\n",
       "    </tr>\n",
       "    <tr>\n",
       "      <th>5</th>\n",
       "      <td>A.ITC</td>\n",
       "      <td>2006</td>\n",
       "      <td>A</td>\n",
       "      <td>0.692150</td>\n",
       "      <td>1.145776</td>\n",
       "      <td>gaussian</td>\n",
       "      <td>0</td>\n",
       "      <td>0.384465</td>\n",
       "      <td>[[0.56787014]]</td>\n",
       "      <td>2008</td>\n",
       "      <td>...</td>\n",
       "      <td>0</td>\n",
       "      <td>0</td>\n",
       "      <td>0</td>\n",
       "      <td>0</td>\n",
       "      <td>0</td>\n",
       "      <td>1</td>\n",
       "      <td>0</td>\n",
       "      <td>0</td>\n",
       "      <td>0</td>\n",
       "      <td>gumbel</td>\n",
       "    </tr>\n",
       "    <tr>\n",
       "      <th>6</th>\n",
       "      <td>A.ITC</td>\n",
       "      <td>2007</td>\n",
       "      <td>A</td>\n",
       "      <td>0.511193</td>\n",
       "      <td>0.931767</td>\n",
       "      <td>gumbel</td>\n",
       "      <td>180</td>\n",
       "      <td>0.379842</td>\n",
       "      <td>[[1.61249331]]</td>\n",
       "      <td>2009</td>\n",
       "      <td>...</td>\n",
       "      <td>0</td>\n",
       "      <td>0</td>\n",
       "      <td>0</td>\n",
       "      <td>0</td>\n",
       "      <td>0</td>\n",
       "      <td>0</td>\n",
       "      <td>0</td>\n",
       "      <td>0</td>\n",
       "      <td>1</td>\n",
       "      <td>student</td>\n",
       "    </tr>\n",
       "    <tr>\n",
       "      <th>7</th>\n",
       "      <td>A.ITC</td>\n",
       "      <td>2008</td>\n",
       "      <td>A</td>\n",
       "      <td>1.041794</td>\n",
       "      <td>0.961339</td>\n",
       "      <td>gumbel</td>\n",
       "      <td>180</td>\n",
       "      <td>0.573060</td>\n",
       "      <td>[[2.34224801]]</td>\n",
       "      <td>2010</td>\n",
       "      <td>...</td>\n",
       "      <td>0</td>\n",
       "      <td>0</td>\n",
       "      <td>0</td>\n",
       "      <td>0</td>\n",
       "      <td>0</td>\n",
       "      <td>1</td>\n",
       "      <td>0</td>\n",
       "      <td>0</td>\n",
       "      <td>0</td>\n",
       "      <td>gumbel</td>\n",
       "    </tr>\n",
       "  </tbody>\n",
       "</table>\n",
       "<p>5 rows × 71 columns</p>\n",
       "</div>"
      ],
      "text/plain": [
       "     ric  year symbol  tau_cop_3y  tau_cop_5y fam_target_ori  rot_target_ori  \\\n",
       "3  A.ITC  2004      A    1.277581    0.930362          frank               0   \n",
       "4  A.ITC  2005      A    1.051058    1.144760          frank               0   \n",
       "5  A.ITC  2006      A    0.692150    1.145776       gaussian               0   \n",
       "6  A.ITC  2007      A    0.511193    0.931767         gumbel             180   \n",
       "7  A.ITC  2008      A    1.041794    0.961339         gumbel             180   \n",
       "\n",
       "   tau_target_ori  par_target_ori  year_hor  ...  naics_18  naics_19  \\\n",
       "3        0.462612  [[5.09499262]]      2006  ...         0         0   \n",
       "4        0.371968  [[3.78686423]]      2007  ...         0         0   \n",
       "5        0.384465  [[0.56787014]]      2008  ...         0         0   \n",
       "6        0.379842  [[1.61249331]]      2009  ...         0         0   \n",
       "7        0.573060  [[2.34224801]]      2010  ...         0         0   \n",
       "\n",
       "  fam_target_hor_clayton  fam_target_hor_frank  fam_target_hor_gaussian  \\\n",
       "3                      0                     0                        1   \n",
       "4                      0                     0                        0   \n",
       "5                      0                     0                        0   \n",
       "6                      0                     0                        0   \n",
       "7                      0                     0                        0   \n",
       "\n",
       "   fam_target_hor_gumbel  fam_target_hor_indep  fam_target_hor_joe  \\\n",
       "3                      0                     0                   0   \n",
       "4                      1                     0                   0   \n",
       "5                      1                     0                   0   \n",
       "6                      0                     0                   0   \n",
       "7                      1                     0                   0   \n",
       "\n",
       "   fam_target_hor_student  fam_target_hor  \n",
       "3                       0        gaussian  \n",
       "4                       0          gumbel  \n",
       "5                       0          gumbel  \n",
       "6                       1         student  \n",
       "7                       0          gumbel  \n",
       "\n",
       "[5 rows x 71 columns]"
      ]
     },
     "execution_count": 10,
     "metadata": {},
     "output_type": "execute_result"
    }
   ],
   "source": [
    "e_target_spx.head()"
   ]
  },
  {
   "cell_type": "code",
   "execution_count": 6,
   "id": "27b21df7",
   "metadata": {},
   "outputs": [
    {
     "ename": "ValueError",
     "evalue": "Excel file format cannot be determined, you must specify an engine manually.",
     "output_type": "error",
     "traceback": [
      "\u001b[1;31m---------------------------------------------------------------------------\u001b[0m",
      "\u001b[1;31mValueError\u001b[0m                                Traceback (most recent call last)",
      "\u001b[1;32m~\\AppData\\Local\\Temp\\ipykernel_25240\\2318841770.py\u001b[0m in \u001b[0;36m<module>\u001b[1;34m\u001b[0m\n\u001b[1;32m----> 1\u001b[1;33m \u001b[0me_target_spx\u001b[0m \u001b[1;33m=\u001b[0m \u001b[0mpd\u001b[0m\u001b[1;33m.\u001b[0m\u001b[0mread_excel\u001b[0m\u001b[1;33m(\u001b[0m\u001b[0martif_path\u001b[0m \u001b[1;33m+\u001b[0m \u001b[1;34m'data_set_e_spx_3-all.csv'\u001b[0m\u001b[1;33m)\u001b[0m\u001b[1;33m\u001b[0m\u001b[1;33m\u001b[0m\u001b[0m\n\u001b[0m\u001b[0;32m      2\u001b[0m \u001b[0me_target_spx\u001b[0m \u001b[1;33m=\u001b[0m \u001b[0me_target_spx\u001b[0m\u001b[1;33m.\u001b[0m\u001b[0mdrop\u001b[0m\u001b[1;33m(\u001b[0m\u001b[0mcolumns\u001b[0m\u001b[1;33m=\u001b[0m\u001b[1;33m[\u001b[0m\u001b[1;34m'Unnamed: 0'\u001b[0m\u001b[1;33m]\u001b[0m\u001b[1;33m)\u001b[0m\u001b[1;33m\u001b[0m\u001b[1;33m\u001b[0m\u001b[0m\n\u001b[0;32m      3\u001b[0m \u001b[1;33m\u001b[0m\u001b[0m\n\u001b[0;32m      4\u001b[0m \u001b[0me_target_spx\u001b[0m\u001b[1;33m[\u001b[0m\u001b[1;34m'family'\u001b[0m\u001b[1;33m]\u001b[0m \u001b[1;33m=\u001b[0m \u001b[0me_target_spx\u001b[0m\u001b[1;33m[\u001b[0m\u001b[1;34m'family'\u001b[0m\u001b[1;33m]\u001b[0m\u001b[1;33m.\u001b[0m\u001b[0mreplace\u001b[0m\u001b[1;33m(\u001b[0m\u001b[1;34m'BicopFamily.clayton'\u001b[0m\u001b[1;33m,\u001b[0m \u001b[1;34m'clayton'\u001b[0m\u001b[1;33m)\u001b[0m\u001b[1;33m\u001b[0m\u001b[1;33m\u001b[0m\u001b[0m\n\u001b[0;32m      5\u001b[0m \u001b[0me_target_spx\u001b[0m\u001b[1;33m[\u001b[0m\u001b[1;34m'family'\u001b[0m\u001b[1;33m]\u001b[0m \u001b[1;33m=\u001b[0m \u001b[0me_target_spx\u001b[0m\u001b[1;33m[\u001b[0m\u001b[1;34m'family'\u001b[0m\u001b[1;33m]\u001b[0m\u001b[1;33m.\u001b[0m\u001b[0mreplace\u001b[0m\u001b[1;33m(\u001b[0m\u001b[1;34m'BicopFamily.gaussian'\u001b[0m\u001b[1;33m,\u001b[0m \u001b[1;34m'gaussian'\u001b[0m\u001b[1;33m)\u001b[0m\u001b[1;33m\u001b[0m\u001b[1;33m\u001b[0m\u001b[0m\n",
      "\u001b[1;32m~\\Anaconda3\\lib\\site-packages\\pandas\\util\\_decorators.py\u001b[0m in \u001b[0;36mwrapper\u001b[1;34m(*args, **kwargs)\u001b[0m\n\u001b[0;32m    309\u001b[0m                     \u001b[0mstacklevel\u001b[0m\u001b[1;33m=\u001b[0m\u001b[0mstacklevel\u001b[0m\u001b[1;33m,\u001b[0m\u001b[1;33m\u001b[0m\u001b[1;33m\u001b[0m\u001b[0m\n\u001b[0;32m    310\u001b[0m                 )\n\u001b[1;32m--> 311\u001b[1;33m             \u001b[1;32mreturn\u001b[0m \u001b[0mfunc\u001b[0m\u001b[1;33m(\u001b[0m\u001b[1;33m*\u001b[0m\u001b[0margs\u001b[0m\u001b[1;33m,\u001b[0m \u001b[1;33m**\u001b[0m\u001b[0mkwargs\u001b[0m\u001b[1;33m)\u001b[0m\u001b[1;33m\u001b[0m\u001b[1;33m\u001b[0m\u001b[0m\n\u001b[0m\u001b[0;32m    312\u001b[0m \u001b[1;33m\u001b[0m\u001b[0m\n\u001b[0;32m    313\u001b[0m         \u001b[1;32mreturn\u001b[0m \u001b[0mwrapper\u001b[0m\u001b[1;33m\u001b[0m\u001b[1;33m\u001b[0m\u001b[0m\n",
      "\u001b[1;32m~\\Anaconda3\\lib\\site-packages\\pandas\\io\\excel\\_base.py\u001b[0m in \u001b[0;36mread_excel\u001b[1;34m(io, sheet_name, header, names, index_col, usecols, squeeze, dtype, engine, converters, true_values, false_values, skiprows, nrows, na_values, keep_default_na, na_filter, verbose, parse_dates, date_parser, thousands, decimal, comment, skipfooter, convert_float, mangle_dupe_cols, storage_options)\u001b[0m\n\u001b[0;32m    455\u001b[0m     \u001b[1;32mif\u001b[0m \u001b[1;32mnot\u001b[0m \u001b[0misinstance\u001b[0m\u001b[1;33m(\u001b[0m\u001b[0mio\u001b[0m\u001b[1;33m,\u001b[0m \u001b[0mExcelFile\u001b[0m\u001b[1;33m)\u001b[0m\u001b[1;33m:\u001b[0m\u001b[1;33m\u001b[0m\u001b[1;33m\u001b[0m\u001b[0m\n\u001b[0;32m    456\u001b[0m         \u001b[0mshould_close\u001b[0m \u001b[1;33m=\u001b[0m \u001b[1;32mTrue\u001b[0m\u001b[1;33m\u001b[0m\u001b[1;33m\u001b[0m\u001b[0m\n\u001b[1;32m--> 457\u001b[1;33m         \u001b[0mio\u001b[0m \u001b[1;33m=\u001b[0m \u001b[0mExcelFile\u001b[0m\u001b[1;33m(\u001b[0m\u001b[0mio\u001b[0m\u001b[1;33m,\u001b[0m \u001b[0mstorage_options\u001b[0m\u001b[1;33m=\u001b[0m\u001b[0mstorage_options\u001b[0m\u001b[1;33m,\u001b[0m \u001b[0mengine\u001b[0m\u001b[1;33m=\u001b[0m\u001b[0mengine\u001b[0m\u001b[1;33m)\u001b[0m\u001b[1;33m\u001b[0m\u001b[1;33m\u001b[0m\u001b[0m\n\u001b[0m\u001b[0;32m    458\u001b[0m     \u001b[1;32melif\u001b[0m \u001b[0mengine\u001b[0m \u001b[1;32mand\u001b[0m \u001b[0mengine\u001b[0m \u001b[1;33m!=\u001b[0m \u001b[0mio\u001b[0m\u001b[1;33m.\u001b[0m\u001b[0mengine\u001b[0m\u001b[1;33m:\u001b[0m\u001b[1;33m\u001b[0m\u001b[1;33m\u001b[0m\u001b[0m\n\u001b[0;32m    459\u001b[0m         raise ValueError(\n",
      "\u001b[1;32m~\\Anaconda3\\lib\\site-packages\\pandas\\io\\excel\\_base.py\u001b[0m in \u001b[0;36m__init__\u001b[1;34m(self, path_or_buffer, engine, storage_options)\u001b[0m\n\u001b[0;32m   1378\u001b[0m                 )\n\u001b[0;32m   1379\u001b[0m                 \u001b[1;32mif\u001b[0m \u001b[0mext\u001b[0m \u001b[1;32mis\u001b[0m \u001b[1;32mNone\u001b[0m\u001b[1;33m:\u001b[0m\u001b[1;33m\u001b[0m\u001b[1;33m\u001b[0m\u001b[0m\n\u001b[1;32m-> 1380\u001b[1;33m                     raise ValueError(\n\u001b[0m\u001b[0;32m   1381\u001b[0m                         \u001b[1;34m\"Excel file format cannot be determined, you must specify \"\u001b[0m\u001b[1;33m\u001b[0m\u001b[1;33m\u001b[0m\u001b[0m\n\u001b[0;32m   1382\u001b[0m                         \u001b[1;34m\"an engine manually.\"\u001b[0m\u001b[1;33m\u001b[0m\u001b[1;33m\u001b[0m\u001b[0m\n",
      "\u001b[1;31mValueError\u001b[0m: Excel file format cannot be determined, you must specify an engine manually."
     ]
    }
   ],
   "source": [
    "e_target_spx = pd.read_csv(artif_path + 'data_set_e_spx_3-all.csv', index_col=0)\n",
    "e_target_spx = e_target_spx.drop(columns=['Unnamed: 0'])\n",
    "\n",
    "e_target_spx['family'] = e_target_spx['family'].replace('BicopFamily.clayton', 'clayton')\n",
    "e_target_spx['family'] = e_target_spx['family'].replace('BicopFamily.gaussian', 'gaussian')\n",
    "e_target_spx['family'] = e_target_spx['family'].replace('BicopFamily.frank', 'frank')\n",
    "e_target_spx['family'] = e_target_spx['family'].replace('BicopFamily.gumbel', 'gumbel')\n",
    "e_target_spx['family'] = e_target_spx['family'].replace('BicopFamily.student', 'student')\n",
    "e_target_spx['family'] = e_target_spx['family'].replace('BicopFamily.indep', 'indep')\n",
    "e_target_spx['family'] = e_target_spx['family'].replace('BicopFamily.joe', 'joe')\n",
    "\n",
    "e_target_spx.head()"
   ]
  },
  {
   "cell_type": "code",
   "execution_count": null,
   "id": "22217c95",
   "metadata": {},
   "outputs": [],
   "source": [
    "print('Proportion of zero values:')\n",
    "print((e_target_spx['tau'] == 0).sum()/(len(e_target_spx)))"
   ]
  },
  {
   "cell_type": "code",
   "execution_count": null,
   "id": "dc75fdaa",
   "metadata": {},
   "outputs": [],
   "source": [
    "e_target_spx.describe()"
   ]
  },
  {
   "cell_type": "code",
   "execution_count": null,
   "id": "2381d243",
   "metadata": {},
   "outputs": [],
   "source": [
    "e_target_spx['family'].value_counts()/len(e_target_spx)"
   ]
  },
  {
   "cell_type": "code",
   "execution_count": 12,
   "id": "8f478e0c",
   "metadata": {},
   "outputs": [
    {
     "data": {
      "text/plain": [
       "(0.0, 650.0)"
      ]
     },
     "execution_count": 12,
     "metadata": {},
     "output_type": "execute_result"
    },
    {
     "data": {
      "image/png": "[encoded data removed]",
      "text/plain": [
       "<Figure size 640x480 with 1 Axes>"
      ]
     },
     "metadata": {},
     "output_type": "display_data"
    }
   ],
   "source": [
    "fig = sns.histplot(data = e_target_spx, x = 'tau_target_ori', bins = 200)\n",
    "fig.set_xlabel(None)\n",
    "fig.set_ylabel(None)\n",
    "plt.xlim(-0.25,0.8)\n",
    "plt.ylim(0,650)"
   ]
  },
  {
   "cell_type": "markdown",
   "id": "3e61005e",
   "metadata": {},
   "source": [
    "### Family Distribution"
   ]
  },
  {
   "cell_type": "code",
   "execution_count": 20,
   "id": "21d2c455",
   "metadata": {},
   "outputs": [
    {
     "data": {
      "text/plain": [
       "20          frank\n",
       "66          frank\n",
       "83         gumbel\n",
       "169        gumbel\n",
       "188      gaussian\n",
       "           ...   \n",
       "37730     student\n",
       "37860     student\n",
       "37878       frank\n",
       "37925       indep\n",
       "38040      gumbel\n",
       "Name: fam_target_ori, Length: 1116, dtype: object"
      ]
     },
     "execution_count": 20,
     "metadata": {},
     "output_type": "execute_result"
    }
   ],
   "source": []
  },
  {
   "cell_type": "code",
   "execution_count": null,
   "id": "d54768fd",
   "metadata": {},
   "outputs": [],
   "source": [
    "fam_dist_target = {\n",
    "    \"spx_eikon\": e_target_spx['family'].value_counts(),\n",
    "    \"spx_kaggle\": k_target_spx['family'].value_counts(),\n",
    "    \"ndx_eikon\": e_target_ndx['family'].value_counts(),\n",
    "    \"ndx_kaggle\": k_target_ndx['family'].value_counts()\n",
    "}\n",
    "\n",
    "fam_dist_target = pd.DataFrame(fam_dist_target)"
   ]
  },
  {
   "cell_type": "code",
   "execution_count": null,
   "id": "2b6fef16",
   "metadata": {},
   "outputs": [],
   "source": [
    "fam_dist_target.plot(y=[\"spx_eikon\", \"spx_kaggle\", \"ndx_eikon\", \"ndx_kaggle\"], kind=\"bar\", figsize=(9, 8))"
   ]
  },
  {
   "cell_type": "markdown",
   "id": "ece16688",
   "metadata": {},
   "source": [
    "### Family Distribution"
   ]
  },
  {
   "cell_type": "code",
   "execution_count": null,
   "id": "4eaad6c1",
   "metadata": {},
   "outputs": [],
   "source": [
    "fam_dist_cop_5y = {\n",
    "    \"spx_eikon\": e_cop_5y_spx['family'].value_counts(),\n",
    "    \"spx_kaggle\": k_cop_5y_spx['family'].value_counts(),\n",
    "    \"ndx_eikon\": e_cop_5y_ndx['family'].value_counts(),\n",
    "    \"ndx_kaggle\": k_cop_5y_ndx['family'].value_counts()\n",
    "}\n",
    "\n",
    "fam_dist_cop_5y = pd.DataFrame(fam_dist_cop_5y)"
   ]
  },
  {
   "cell_type": "code",
   "execution_count": null,
   "id": "2734725b",
   "metadata": {},
   "outputs": [],
   "source": [
    "fam_dist_cop_5y.plot(y=[\"spx_eikon\", \"spx_kaggle\", \"ndx_eikon\", \"ndx_kaggle\"], kind=\"bar\", figsize=(9, 8))"
   ]
  },
  {
   "cell_type": "code",
   "execution_count": null,
   "id": "819d1278",
   "metadata": {},
   "outputs": [],
   "source": []
  },
  {
   "cell_type": "code",
   "execution_count": null,
   "id": "36c5243a",
   "metadata": {},
   "outputs": [],
   "source": [
    "fam_dist_cop_5y = {\n",
    "    \"2000\": e_cop_5y_spx['family'].value_counts(),\n",
    "    \"spx_kaggle\": k_cop_5y_spx['family'].value_counts(),\n",
    "    \"ndx_eikon\": e_cop_5y_ndx['family'].value_counts(),\n",
    "    \"ndx_kaggle\": k_cop_5y_ndx['family'].value_counts()\n",
    "}\n",
    "\n",
    "fam_dist_cop_5y = pd.DataFrame(fam_dist_cop_5y)"
   ]
  },
  {
   "cell_type": "code",
   "execution_count": 24,
   "id": "4d37d75c",
   "metadata": {},
   "outputs": [
    {
     "data": {
      "text/plain": [
       "{2004: 3           frank\n",
       " 48          indep\n",
       " 68          frank\n",
       " 126        gumbel\n",
       " 171      gaussian\n",
       "            ...   \n",
       " 37880       frank\n",
       " 37927      gumbel\n",
       " 37989      gumbel\n",
       " 38024    gaussian\n",
       " 38042       frank\n",
       " Name: fam_target_ori, Length: 1268, dtype: object,\n",
       " 2005: 4         frank\n",
       " 69        frank\n",
       " 85        frank\n",
       " 86        frank\n",
       " 127       indep\n",
       "           ...  \n",
       " 37881    gumbel\n",
       " 37928     indep\n",
       " 37990     frank\n",
       " 38025     frank\n",
       " 38043     frank\n",
       " Name: fam_target_ori, Length: 1372, dtype: object,\n",
       " 2006: 5        gaussian\n",
       " 50          indep\n",
       " 70        student\n",
       " 128      gaussian\n",
       " 149         frank\n",
       "            ...   \n",
       " 37864      gumbel\n",
       " 37882    gaussian\n",
       " 37991    gaussian\n",
       " 38026    gaussian\n",
       " 38044    gaussian\n",
       " Name: fam_target_ori, Length: 1319, dtype: object,\n",
       " 2007: 6          gumbel\n",
       " 25        student\n",
       " 71          frank\n",
       " 87         gumbel\n",
       " 129           joe\n",
       "            ...   \n",
       " 37865      gumbel\n",
       " 37883      gumbel\n",
       " 37992      gumbel\n",
       " 38027    gaussian\n",
       " 38045      gumbel\n",
       " Name: fam_target_ori, Length: 1321, dtype: object,\n",
       " 2008: 7          gumbel\n",
       " 51        student\n",
       " 72         gumbel\n",
       " 130      gaussian\n",
       " 151       student\n",
       "            ...   \n",
       " 37848         joe\n",
       " 37866     student\n",
       " 37884     student\n",
       " 38028     student\n",
       " 38046     student\n",
       " Name: fam_target_ori, Length: 1273, dtype: object,\n",
       " 2009: 8         student\n",
       " 73         gumbel\n",
       " 131      gaussian\n",
       " 152       student\n",
       " 176       student\n",
       "            ...   \n",
       " 37885      gumbel\n",
       " 37966      gumbel\n",
       " 38029      gumbel\n",
       " 38047      gumbel\n",
       " 38146       indep\n",
       " Name: fam_target_ori, Length: 1598, dtype: object,\n",
       " 2010: 9          gumbel\n",
       " 28        student\n",
       " 52          frank\n",
       " 74         gumbel\n",
       " 90        student\n",
       "            ...   \n",
       " 37995      gumbel\n",
       " 38030    gaussian\n",
       " 38048     student\n",
       " 38082    gaussian\n",
       " 38121     student\n",
       " Name: fam_target_ori, Length: 1739, dtype: object,\n",
       " 2011: 10         gumbel\n",
       " 29         gumbel\n",
       " 53          frank\n",
       " 75       gaussian\n",
       " 91         gumbel\n",
       "            ...   \n",
       " 38049     student\n",
       " 38067    gaussian\n",
       " 38083    gaussian\n",
       " 38122      gumbel\n",
       " 38147       indep\n",
       " Name: fam_target_ori, Length: 1873, dtype: object,\n",
       " 2012: 11        student\n",
       " 30       gaussian\n",
       " 54          indep\n",
       " 76       gaussian\n",
       " 118      gaussian\n",
       "            ...   \n",
       " 38050     student\n",
       " 38068       frank\n",
       " 38084    gaussian\n",
       " 38091    gaussian\n",
       " 38123      gumbel\n",
       " Name: fam_target_ori, Length: 1877, dtype: object,\n",
       " 2013: 12         gumbel\n",
       " 31         gumbel\n",
       " 55          indep\n",
       " 77          frank\n",
       " 93         gumbel\n",
       "            ...   \n",
       " 38092     clayton\n",
       " 38108     clayton\n",
       " 38115    gaussian\n",
       " 38124      gumbel\n",
       " 38134    gaussian\n",
       " Name: fam_target_ori, Length: 1982, dtype: object,\n",
       " 2014: 13         gumbel\n",
       " 32       gaussian\n",
       " 56          indep\n",
       " 60        clayton\n",
       " 78          frank\n",
       "            ...   \n",
       " 38093     clayton\n",
       " 38109       indep\n",
       " 38116      gumbel\n",
       " 38125       frank\n",
       " 38135       frank\n",
       " Name: fam_target_ori, Length: 2077, dtype: object,\n",
       " 2015: 14        student\n",
       " 57          indep\n",
       " 61       gaussian\n",
       " 79          frank\n",
       " 94         gumbel\n",
       "            ...   \n",
       " 38094       frank\n",
       " 38110      gumbel\n",
       " 38117      gumbel\n",
       " 38126       frank\n",
       " 38136       frank\n",
       " Name: fam_target_ori, Length: 2233, dtype: object,\n",
       " 2016: 15        student\n",
       " 34        student\n",
       " 58          indep\n",
       " 62         gumbel\n",
       " 80       gaussian\n",
       "            ...   \n",
       " 38088       frank\n",
       " 38095     student\n",
       " 38111       indep\n",
       " 38118     student\n",
       " 38127      gumbel\n",
       " Name: fam_target_ori, Length: 2301, dtype: object,\n",
       " 2017: 16       gaussian\n",
       " 35          frank\n",
       " 45          indep\n",
       " 63         gumbel\n",
       " 81         gumbel\n",
       "            ...   \n",
       " 38089    gaussian\n",
       " 38096      gumbel\n",
       " 38112       indep\n",
       " 38119    gaussian\n",
       " 38128       frank\n",
       " Name: fam_target_ori, Length: 2335, dtype: object,\n",
       " 2018: 17        gumbel\n",
       " 59         indep\n",
       " 64         frank\n",
       " 82        gumbel\n",
       " 124       gumbel\n",
       "           ...   \n",
       " 38097     gumbel\n",
       " 38113      indep\n",
       " 38120     gumbel\n",
       " 38129      frank\n",
       " 38139    clayton\n",
       " Name: fam_target_ori, Length: 2318, dtype: object,\n",
       " 2019: 18        student\n",
       " 268       student\n",
       " 286       student\n",
       " 481       student\n",
       " 655        gumbel\n",
       "            ...   \n",
       " 37377    gaussian\n",
       " 37454       indep\n",
       " 37631      gumbel\n",
       " 38114       indep\n",
       " 38130      gumbel\n",
       " Name: fam_target_ori, Length: 528, dtype: object,\n",
       " 2001: 19         gumbel\n",
       " 65       gaussian\n",
       " 168         frank\n",
       " 187       clayton\n",
       " 250        gumbel\n",
       "            ...   \n",
       " 37679    gaussian\n",
       " 37729      gumbel\n",
       " 37859       frank\n",
       " 37877       frank\n",
       " 38039      gumbel\n",
       " Name: fam_target_ori, Length: 896, dtype: object,\n",
       " 2002: 20          frank\n",
       " 66          frank\n",
       " 83         gumbel\n",
       " 169        gumbel\n",
       " 188      gaussian\n",
       "            ...   \n",
       " 37730     student\n",
       " 37860     student\n",
       " 37878       frank\n",
       " 37925       indep\n",
       " 38040      gumbel\n",
       " Name: fam_target_ori, Length: 1116, dtype: object,\n",
       " 2003: 47          indep\n",
       " 67         gumbel\n",
       " 125         indep\n",
       " 170         frank\n",
       " 189         frank\n",
       "            ...   \n",
       " 37879    gaussian\n",
       " 37926       frank\n",
       " 37988     student\n",
       " 38023       frank\n",
       " 38041       frank\n",
       " Name: fam_target_ori, Length: 1172, dtype: object,\n",
       " 2000: 8003     gumbel\n",
       " 8104      indep\n",
       " 17288     indep\n",
       " 17863     indep\n",
       " 21846     indep\n",
       " 21956     indep\n",
       " 33423     indep\n",
       " Name: fam_target_ori, dtype: object}"
      ]
     },
     "execution_count": 24,
     "metadata": {},
     "output_type": "execute_result"
    }
   ],
   "source": [
    "e_spx_fam_ts_means"
   ]
  },
  {
   "cell_type": "code",
   "execution_count": 30,
   "id": "44613ccc",
   "metadata": {},
   "outputs": [
    {
     "ename": "TypeError",
     "evalue": "no numeric data to plot",
     "output_type": "error",
     "traceback": [
      "\u001b[1;31m---------------------------------------------------------------------------\u001b[0m",
      "\u001b[1;31mTypeError\u001b[0m                                 Traceback (most recent call last)",
      "\u001b[1;32m~\\AppData\\Local\\Temp\\ipykernel_25240\\589221918.py\u001b[0m in \u001b[0;36m<module>\u001b[1;34m\u001b[0m\n\u001b[0;32m      4\u001b[0m \u001b[1;33m\u001b[0m\u001b[0m\n\u001b[0;32m      5\u001b[0m \u001b[0me_spx_fam_ts_means\u001b[0m \u001b[1;33m=\u001b[0m \u001b[0mpd\u001b[0m\u001b[1;33m.\u001b[0m\u001b[0mDataFrame\u001b[0m\u001b[1;33m(\u001b[0m\u001b[0me_spx_fam_ts_means\u001b[0m\u001b[1;33m)\u001b[0m\u001b[1;33m\u001b[0m\u001b[1;33m\u001b[0m\u001b[0m\n\u001b[1;32m----> 6\u001b[1;33m \u001b[0me_spx_fam_ts_means\u001b[0m\u001b[1;33m.\u001b[0m\u001b[0mplot\u001b[0m\u001b[1;33m(\u001b[0m\u001b[0mkind\u001b[0m\u001b[1;33m=\u001b[0m\u001b[1;34m\"bar\"\u001b[0m\u001b[1;33m,\u001b[0m \u001b[0mfigsize\u001b[0m\u001b[1;33m=\u001b[0m\u001b[1;33m(\u001b[0m\u001b[1;36m9\u001b[0m\u001b[1;33m,\u001b[0m \u001b[1;36m8\u001b[0m\u001b[1;33m)\u001b[0m\u001b[1;33m)\u001b[0m\u001b[1;33m\u001b[0m\u001b[1;33m\u001b[0m\u001b[0m\n\u001b[0m",
      "\u001b[1;32m~\\Anaconda3\\lib\\site-packages\\pandas\\plotting\\_core.py\u001b[0m in \u001b[0;36m__call__\u001b[1;34m(self, *args, **kwargs)\u001b[0m\n\u001b[0;32m    970\u001b[0m                     \u001b[0mdata\u001b[0m\u001b[1;33m.\u001b[0m\u001b[0mcolumns\u001b[0m \u001b[1;33m=\u001b[0m \u001b[0mlabel_name\u001b[0m\u001b[1;33m\u001b[0m\u001b[1;33m\u001b[0m\u001b[0m\n\u001b[0;32m    971\u001b[0m \u001b[1;33m\u001b[0m\u001b[0m\n\u001b[1;32m--> 972\u001b[1;33m         \u001b[1;32mreturn\u001b[0m \u001b[0mplot_backend\u001b[0m\u001b[1;33m.\u001b[0m\u001b[0mplot\u001b[0m\u001b[1;33m(\u001b[0m\u001b[0mdata\u001b[0m\u001b[1;33m,\u001b[0m \u001b[0mkind\u001b[0m\u001b[1;33m=\u001b[0m\u001b[0mkind\u001b[0m\u001b[1;33m,\u001b[0m \u001b[1;33m**\u001b[0m\u001b[0mkwargs\u001b[0m\u001b[1;33m)\u001b[0m\u001b[1;33m\u001b[0m\u001b[1;33m\u001b[0m\u001b[0m\n\u001b[0m\u001b[0;32m    973\u001b[0m \u001b[1;33m\u001b[0m\u001b[0m\n\u001b[0;32m    974\u001b[0m     \u001b[0m__call__\u001b[0m\u001b[1;33m.\u001b[0m\u001b[0m__doc__\u001b[0m \u001b[1;33m=\u001b[0m \u001b[0m__doc__\u001b[0m\u001b[1;33m\u001b[0m\u001b[1;33m\u001b[0m\u001b[0m\n",
      "\u001b[1;32m~\\Anaconda3\\lib\\site-packages\\pandas\\plotting\\_matplotlib\\__init__.py\u001b[0m in \u001b[0;36mplot\u001b[1;34m(data, kind, **kwargs)\u001b[0m\n\u001b[0;32m     69\u001b[0m             \u001b[0mkwargs\u001b[0m\u001b[1;33m[\u001b[0m\u001b[1;34m\"ax\"\u001b[0m\u001b[1;33m]\u001b[0m \u001b[1;33m=\u001b[0m \u001b[0mgetattr\u001b[0m\u001b[1;33m(\u001b[0m\u001b[0max\u001b[0m\u001b[1;33m,\u001b[0m \u001b[1;34m\"left_ax\"\u001b[0m\u001b[1;33m,\u001b[0m \u001b[0max\u001b[0m\u001b[1;33m)\u001b[0m\u001b[1;33m\u001b[0m\u001b[1;33m\u001b[0m\u001b[0m\n\u001b[0;32m     70\u001b[0m     \u001b[0mplot_obj\u001b[0m \u001b[1;33m=\u001b[0m \u001b[0mPLOT_CLASSES\u001b[0m\u001b[1;33m[\u001b[0m\u001b[0mkind\u001b[0m\u001b[1;33m]\u001b[0m\u001b[1;33m(\u001b[0m\u001b[0mdata\u001b[0m\u001b[1;33m,\u001b[0m \u001b[1;33m**\u001b[0m\u001b[0mkwargs\u001b[0m\u001b[1;33m)\u001b[0m\u001b[1;33m\u001b[0m\u001b[1;33m\u001b[0m\u001b[0m\n\u001b[1;32m---> 71\u001b[1;33m     \u001b[0mplot_obj\u001b[0m\u001b[1;33m.\u001b[0m\u001b[0mgenerate\u001b[0m\u001b[1;33m(\u001b[0m\u001b[1;33m)\u001b[0m\u001b[1;33m\u001b[0m\u001b[1;33m\u001b[0m\u001b[0m\n\u001b[0m\u001b[0;32m     72\u001b[0m     \u001b[0mplot_obj\u001b[0m\u001b[1;33m.\u001b[0m\u001b[0mdraw\u001b[0m\u001b[1;33m(\u001b[0m\u001b[1;33m)\u001b[0m\u001b[1;33m\u001b[0m\u001b[1;33m\u001b[0m\u001b[0m\n\u001b[0;32m     73\u001b[0m     \u001b[1;32mreturn\u001b[0m \u001b[0mplot_obj\u001b[0m\u001b[1;33m.\u001b[0m\u001b[0mresult\u001b[0m\u001b[1;33m\u001b[0m\u001b[1;33m\u001b[0m\u001b[0m\n",
      "\u001b[1;32m~\\Anaconda3\\lib\\site-packages\\pandas\\plotting\\_matplotlib\\core.py\u001b[0m in \u001b[0;36mgenerate\u001b[1;34m(self)\u001b[0m\n\u001b[0;32m    325\u001b[0m     \u001b[1;32mdef\u001b[0m \u001b[0mgenerate\u001b[0m\u001b[1;33m(\u001b[0m\u001b[0mself\u001b[0m\u001b[1;33m)\u001b[0m\u001b[1;33m:\u001b[0m\u001b[1;33m\u001b[0m\u001b[1;33m\u001b[0m\u001b[0m\n\u001b[0;32m    326\u001b[0m         \u001b[0mself\u001b[0m\u001b[1;33m.\u001b[0m\u001b[0m_args_adjust\u001b[0m\u001b[1;33m(\u001b[0m\u001b[1;33m)\u001b[0m\u001b[1;33m\u001b[0m\u001b[1;33m\u001b[0m\u001b[0m\n\u001b[1;32m--> 327\u001b[1;33m         \u001b[0mself\u001b[0m\u001b[1;33m.\u001b[0m\u001b[0m_compute_plot_data\u001b[0m\u001b[1;33m(\u001b[0m\u001b[1;33m)\u001b[0m\u001b[1;33m\u001b[0m\u001b[1;33m\u001b[0m\u001b[0m\n\u001b[0m\u001b[0;32m    328\u001b[0m         \u001b[0mself\u001b[0m\u001b[1;33m.\u001b[0m\u001b[0m_setup_subplots\u001b[0m\u001b[1;33m(\u001b[0m\u001b[1;33m)\u001b[0m\u001b[1;33m\u001b[0m\u001b[1;33m\u001b[0m\u001b[0m\n\u001b[0;32m    329\u001b[0m         \u001b[0mself\u001b[0m\u001b[1;33m.\u001b[0m\u001b[0m_make_plot\u001b[0m\u001b[1;33m(\u001b[0m\u001b[1;33m)\u001b[0m\u001b[1;33m\u001b[0m\u001b[1;33m\u001b[0m\u001b[0m\n",
      "\u001b[1;32m~\\Anaconda3\\lib\\site-packages\\pandas\\plotting\\_matplotlib\\core.py\u001b[0m in \u001b[0;36m_compute_plot_data\u001b[1;34m(self)\u001b[0m\n\u001b[0;32m    504\u001b[0m         \u001b[1;31m# no non-numeric frames or series allowed\u001b[0m\u001b[1;33m\u001b[0m\u001b[1;33m\u001b[0m\u001b[0m\n\u001b[0;32m    505\u001b[0m         \u001b[1;32mif\u001b[0m \u001b[0mis_empty\u001b[0m\u001b[1;33m:\u001b[0m\u001b[1;33m\u001b[0m\u001b[1;33m\u001b[0m\u001b[0m\n\u001b[1;32m--> 506\u001b[1;33m             \u001b[1;32mraise\u001b[0m \u001b[0mTypeError\u001b[0m\u001b[1;33m(\u001b[0m\u001b[1;34m\"no numeric data to plot\"\u001b[0m\u001b[1;33m)\u001b[0m\u001b[1;33m\u001b[0m\u001b[1;33m\u001b[0m\u001b[0m\n\u001b[0m\u001b[0;32m    507\u001b[0m \u001b[1;33m\u001b[0m\u001b[0m\n\u001b[0;32m    508\u001b[0m         \u001b[0mself\u001b[0m\u001b[1;33m.\u001b[0m\u001b[0mdata\u001b[0m \u001b[1;33m=\u001b[0m \u001b[0mnumeric_data\u001b[0m\u001b[1;33m.\u001b[0m\u001b[0mapply\u001b[0m\u001b[1;33m(\u001b[0m\u001b[0mself\u001b[0m\u001b[1;33m.\u001b[0m\u001b[0m_convert_to_ndarray\u001b[0m\u001b[1;33m)\u001b[0m\u001b[1;33m\u001b[0m\u001b[1;33m\u001b[0m\u001b[0m\n",
      "\u001b[1;31mTypeError\u001b[0m: no numeric data to plot"
     ]
    }
   ],
   "source": [
    "e_spx_fam_ts_means = {}\n",
    "for year in e_target_spx['year'].unique():\n",
    "    e_spx_fam_ts_means[year] = e_target_spx[e_target_spx['year'] == year]['fam_target_ori']\n",
    "\n",
    "e_spx_fam_ts_means = pd.DataFrame()\n",
    "#e_spx_fam_ts_means.plot(y=[\"spx_eikon\", \"spx_kaggle\", \"ndx_eikon\", \"ndx_kaggle\"], kind=\"bar\", figsize=(9, 8))"
   ]
  },
  {
   "cell_type": "code",
   "execution_count": null,
   "id": "b3aa1849",
   "metadata": {},
   "outputs": [],
   "source": []
  },
  {
   "cell_type": "code",
   "execution_count": null,
   "id": "b1268cd8",
   "metadata": {},
   "outputs": [],
   "source": [
    "e_target_spx[e_target_spx['year'] == 2002]['fam_target_ori']"
   ]
  },
  {
   "cell_type": "markdown",
   "id": "e5300349",
   "metadata": {},
   "source": [
    "## Time Series Means"
   ]
  },
  {
   "cell_type": "code",
   "execution_count": 14,
   "id": "5860e161",
   "metadata": {},
   "outputs": [
    {
     "data": {
      "text/plain": [
       "<AxesSubplot:>"
      ]
     },
     "execution_count": 14,
     "metadata": {},
     "output_type": "execute_result"
    },
    {
     "data": {
      "image/png": "[encoded data removed]",
      "text/plain": [
       "<Figure size 640x480 with 1 Axes>"
      ]
     },
     "metadata": {},
     "output_type": "display_data"
    }
   ],
   "source": [
    "e_spx_tau_ts_means = {}\n",
    "for year in e_target_spx['year'].unique():\n",
    "    e_spx_tau_ts_means[year] = e_target_spx[e_target_spx['year'] == year]['tau_target_ori'].mean()\n",
    "\n",
    "sns.lineplot(data= e_spx_tau_ts_means)\n"
   ]
  },
  {
   "cell_type": "code",
   "execution_count": null,
   "id": "3e7676d3",
   "metadata": {},
   "outputs": [],
   "source": []
  }
 ],
 "metadata": {
  "kernelspec": {
   "display_name": "Python 3 (ipykernel)",
   "language": "python",
   "name": "python3"
  },
  "language_info": {
   "codemirror_mode": {
    "name": "ipython",
    "version": 3
   },
   "file_extension": ".py",
   "mimetype": "text/x-python",
   "name": "python",
   "nbconvert_exporter": "python",
   "pygments_lexer": "ipython3",
   "version": "3.9.13"
  }
 },
 "nbformat": 4,
 "nbformat_minor": 5
}
