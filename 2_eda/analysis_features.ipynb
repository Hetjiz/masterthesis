{
 "cells": [
  {
   "cell_type": "markdown",
   "id": "4638149c",
   "metadata": {},
   "source": [
    "# Analysis Features"
   ]
  },
  {
   "cell_type": "code",
   "execution_count": 1,
   "id": "45c7633d",
   "metadata": {},
   "outputs": [],
   "source": [
    "from datetime import datetime\n",
    "import matplotlib.pyplot as plt\n",
    "import numpy as np\n",
    "import pathlib\n",
    "import pandas as pd\n",
    "import platform\n",
    "import pyvinecopulib as pv\n",
    "import random\n",
    "import seaborn as sns\n",
    "from sqlalchemy import create_engine\n",
    "import sys\n",
    "\n",
    "date_format = \"%Y-%m-%d\"\n",
    "\n",
    "np.set_printoptions(suppress=True)\n",
    "\n",
    "pd.options.display.max_columns = None\n",
    "pd.options.display.max_rows = None\n",
    "pd.options.display.max_colwidth = None"
   ]
  },
  {
   "cell_type": "code",
   "execution_count": 2,
   "id": "70ff88d9",
   "metadata": {},
   "outputs": [
    {
     "name": "stdout",
     "output_type": "stream",
     "text": [
      "OS in my system :  Windows\n"
     ]
    }
   ],
   "source": [
    "my_os = platform.system()\n",
    "print(\"OS in my system : \",my_os)\n",
    "\n",
    "if my_os == \"Windows\":\n",
    "    path = str(pathlib.Path().absolute()) + '\\\\'\n",
    "    path = path.replace('2_eda', '3_data_pre-processing')\n",
    "    slash = '\\\\'\n",
    "else:\n",
    "    path = str(pathlib.Path().absolute()) + '/'\n",
    "    path = path.replace('2_eda', '3_data_pre-processing')\n",
    "    slash = '/'"
   ]
  },
  {
   "cell_type": "markdown",
   "id": "32d401e2",
   "metadata": {},
   "source": [
    "## Features"
   ]
  },
  {
   "cell_type": "code",
   "execution_count": null,
   "id": "e91cc886",
   "metadata": {},
   "outputs": [],
   "source": [
    "feature_set = pd.read_excel(path + 'data_artifacts' + slash + 'eikon_features_2001-2021.xlsx')\n",
    "mapping = pd.read_excel(path + 'possible_features.xlsx', sheet_name = 'mapping')\n",
    "\n",
    "feature_set.head()"
   ]
  },
  {
   "cell_type": "code",
   "execution_count": null,
   "id": "69b36448",
   "metadata": {},
   "outputs": [],
   "source": [
    "# numerical and categorical variables\n",
    "var_num = ['debt', 'tass', 'rtass', 'tlia', 'tsheq', 'comeq', 'comsi', 'noa', 'wc', 'ndebt',\n",
    "           'capex', 'ncfo', 'levfcf', 'nincam', 'gp', 'trev', 'ebit', 'roe', 'roce', 'rnoa', 'ebitmarg', 'shouts', 'mc',\n",
    "           'ptbvps', 'oips', 'cfps', 'ros_c', 'prof_c', 'finlev_c']"
   ]
  },
  {
   "cell_type": "code",
   "execution_count": null,
   "id": "b8e0cc31",
   "metadata": {},
   "outputs": [],
   "source": [
    "feature_set[var_num].hist(figsize=(16, 20), bins=50, xlabelsize=8, ylabelsize=8);"
   ]
  },
  {
   "cell_type": "code",
   "execution_count": null,
   "id": "fce3b113",
   "metadata": {},
   "outputs": [],
   "source": [
    "feature_set[var_num].hist(figsize=(16, 20), log=True, bins=50, xlabelsize=8, ylabelsize=8);"
   ]
  }
 ],
 "metadata": {
  "kernelspec": {
   "display_name": "Python 3 (ipykernel)",
   "language": "python",
   "name": "python3"
  },
  "language_info": {
   "codemirror_mode": {
    "name": "ipython",
    "version": 3
   },
   "file_extension": ".py",
   "mimetype": "text/x-python",
   "name": "python",
   "nbconvert_exporter": "python",
   "pygments_lexer": "ipython3",
   "version": "3.9.13"
  }
 },
 "nbformat": 4,
 "nbformat_minor": 5
}
