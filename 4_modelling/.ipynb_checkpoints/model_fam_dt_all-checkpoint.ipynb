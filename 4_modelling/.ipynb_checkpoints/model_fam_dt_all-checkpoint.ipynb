{
 "cells": [
  {
   "cell_type": "markdown",
   "id": "73085038",
   "metadata": {},
   "source": [
    "# Decision Tree\n",
    "This is a simple, yet powerful algorithm that can be used for both regression and classification problems. It works well with categorical data, as well as data with non-linear relationships.\n",
    "\n",
    "https://scikit-learn.org/stable/modules/tree.html#regression\n",
    "\n",
    "tree.DecisionTreeRegressor()\n",
    "\n",
    "{'ccp_alpha': 0.0,\n",
    " 'criterion': 'squared_error',\n",
    " 'max_depth': None,\n",
    " 'max_features': None,\n",
    " 'max_leaf_nodes': None,\n",
    " 'min_impurity_decrease': 0.0,\n",
    " 'min_samples_leaf': 1,\n",
    " 'min_samples_split': 2,\n",
    " 'min_weight_fraction_leaf': 0.0,\n",
    " 'random_state': None,\n",
    " 'splitter': 'best'}\n",
    " \n",
    "**_bayesian hyperparameter tuning_**"
   ]
  },
  {
   "cell_type": "code",
   "execution_count": 1,
   "id": "eda41918",
   "metadata": {},
   "outputs": [],
   "source": [
    "# config 'all', 'vif_5' or 'vif_10'\n",
    "vif = 'all'"
   ]
  },
  {
   "cell_type": "code",
   "execution_count": 3,
   "id": "1630d5ac",
   "metadata": {},
   "outputs": [],
   "source": [
    "from datetime import datetime\n",
    "import matplotlib.pyplot as plt\n",
    "import numpy as np\n",
    "import pandas as pd\n",
    "import pathlib\n",
    "import platform\n",
    "import seaborn as sns\n",
    "from sklearn import linear_model\n",
    "from sklearn import tree\n",
    "from sklearn.linear_model import MultiTaskElasticNet\n",
    "from sklearn.metrics import mean_squared_error\n",
    "from sklearn.metrics import mean_absolute_error\n",
    "from sklearn.preprocessing import StandardScaler\n",
    "from skopt import gp_minimize, space\n",
    "import sys\n",
    "\n",
    "from validation import cross_validation\n",
    "from validation import performance_test_fixed\n",
    "from validation import performance_test_shifted\n",
    "\n",
    "date_format = \"%Y-%m-%d\"\n",
    "\n",
    "pd.options.display.max_columns = None\n",
    "pd.options.display.max_rows = None\n",
    "pd.options.display.max_colwidth = None"
   ]
  },
  {
   "cell_type": "code",
   "execution_count": 4,
   "id": "15964d92",
   "metadata": {},
   "outputs": [
    {
     "name": "stdout",
     "output_type": "stream",
     "text": [
      "OS in my system:  Windows\n"
     ]
    }
   ],
   "source": [
    "my_os = platform.system()\n",
    "print(\"OS in my system: \",my_os)\n",
    "\n",
    "if my_os == \"Windows\":\n",
    "    path = str(pathlib.Path().absolute()) + '\\\\'\n",
    "    slash = '\\\\'\n",
    "else:\n",
    "    path = str(pathlib.Path().absolute()) + '/'\n",
    "    slash = '/'\n",
    "\n",
    "path_3 = path.replace('4_modelling', '3_data_pre-processing')"
   ]
  },
  {
   "cell_type": "markdown",
   "id": "910f8ca5",
   "metadata": {},
   "source": [
    "## Load Data"
   ]
  },
  {
   "cell_type": "code",
   "execution_count": 5,
   "id": "c329743f",
   "metadata": {},
   "outputs": [
    {
     "ename": "FileNotFoundError",
     "evalue": "[Errno 2] No such file or directory: 'C:\\\\Users\\\\woltersa\\\\Repos\\\\masterthesis_wolters\\\\3_data_pre-processing\\\\models_single_task\\\\data_artifacts\\\\data_set_e_spx_3-all.csv'",
     "output_type": "error",
     "traceback": [
      "\u001b[1;31m---------------------------------------------------------------------------\u001b[0m",
      "\u001b[1;31mFileNotFoundError\u001b[0m                         Traceback (most recent call last)",
      "\u001b[1;32m~\\AppData\\Local\\Temp\\ipykernel_14512\\2609083038.py\u001b[0m in \u001b[0;36m<module>\u001b[1;34m\u001b[0m\n\u001b[1;32m----> 1\u001b[1;33m \u001b[0mdata_set\u001b[0m \u001b[1;33m=\u001b[0m \u001b[0mpd\u001b[0m\u001b[1;33m.\u001b[0m\u001b[0mread_csv\u001b[0m\u001b[1;33m(\u001b[0m\u001b[0mpath_3\u001b[0m \u001b[1;33m+\u001b[0m \u001b[1;34m'data_artifacts'\u001b[0m \u001b[1;33m+\u001b[0m \u001b[0mslash\u001b[0m \u001b[1;33m+\u001b[0m \u001b[1;34m'data_set_e_spx_3-'\u001b[0m \u001b[1;33m+\u001b[0m \u001b[0mvif\u001b[0m \u001b[1;33m+\u001b[0m \u001b[1;34m'.csv'\u001b[0m\u001b[1;33m,\u001b[0m \u001b[0mindex_col\u001b[0m\u001b[1;33m=\u001b[0m\u001b[1;36m0\u001b[0m\u001b[1;33m)\u001b[0m\u001b[1;33m\u001b[0m\u001b[1;33m\u001b[0m\u001b[0m\n\u001b[0m\u001b[0;32m      2\u001b[0m \u001b[0mdata_set\u001b[0m \u001b[1;33m=\u001b[0m \u001b[0mdata_set\u001b[0m\u001b[1;33m.\u001b[0m\u001b[0mdrop\u001b[0m\u001b[1;33m(\u001b[0m\u001b[0mcolumns\u001b[0m\u001b[1;33m=\u001b[0m\u001b[1;34m'fam_target'\u001b[0m\u001b[1;33m)\u001b[0m\u001b[1;33m\u001b[0m\u001b[1;33m\u001b[0m\u001b[0m\n",
      "\u001b[1;32m~\\Anaconda3\\lib\\site-packages\\pandas\\util\\_decorators.py\u001b[0m in \u001b[0;36mwrapper\u001b[1;34m(*args, **kwargs)\u001b[0m\n\u001b[0;32m    309\u001b[0m                     \u001b[0mstacklevel\u001b[0m\u001b[1;33m=\u001b[0m\u001b[0mstacklevel\u001b[0m\u001b[1;33m,\u001b[0m\u001b[1;33m\u001b[0m\u001b[1;33m\u001b[0m\u001b[0m\n\u001b[0;32m    310\u001b[0m                 )\n\u001b[1;32m--> 311\u001b[1;33m             \u001b[1;32mreturn\u001b[0m \u001b[0mfunc\u001b[0m\u001b[1;33m(\u001b[0m\u001b[1;33m*\u001b[0m\u001b[0margs\u001b[0m\u001b[1;33m,\u001b[0m \u001b[1;33m**\u001b[0m\u001b[0mkwargs\u001b[0m\u001b[1;33m)\u001b[0m\u001b[1;33m\u001b[0m\u001b[1;33m\u001b[0m\u001b[0m\n\u001b[0m\u001b[0;32m    312\u001b[0m \u001b[1;33m\u001b[0m\u001b[0m\n\u001b[0;32m    313\u001b[0m         \u001b[1;32mreturn\u001b[0m \u001b[0mwrapper\u001b[0m\u001b[1;33m\u001b[0m\u001b[1;33m\u001b[0m\u001b[0m\n",
      "\u001b[1;32m~\\Anaconda3\\lib\\site-packages\\pandas\\io\\parsers\\readers.py\u001b[0m in \u001b[0;36mread_csv\u001b[1;34m(filepath_or_buffer, sep, delimiter, header, names, index_col, usecols, squeeze, prefix, mangle_dupe_cols, dtype, engine, converters, true_values, false_values, skipinitialspace, skiprows, skipfooter, nrows, na_values, keep_default_na, na_filter, verbose, skip_blank_lines, parse_dates, infer_datetime_format, keep_date_col, date_parser, dayfirst, cache_dates, iterator, chunksize, compression, thousands, decimal, lineterminator, quotechar, quoting, doublequote, escapechar, comment, encoding, encoding_errors, dialect, error_bad_lines, warn_bad_lines, on_bad_lines, delim_whitespace, low_memory, memory_map, float_precision, storage_options)\u001b[0m\n\u001b[0;32m    676\u001b[0m     \u001b[0mkwds\u001b[0m\u001b[1;33m.\u001b[0m\u001b[0mupdate\u001b[0m\u001b[1;33m(\u001b[0m\u001b[0mkwds_defaults\u001b[0m\u001b[1;33m)\u001b[0m\u001b[1;33m\u001b[0m\u001b[1;33m\u001b[0m\u001b[0m\n\u001b[0;32m    677\u001b[0m \u001b[1;33m\u001b[0m\u001b[0m\n\u001b[1;32m--> 678\u001b[1;33m     \u001b[1;32mreturn\u001b[0m \u001b[0m_read\u001b[0m\u001b[1;33m(\u001b[0m\u001b[0mfilepath_or_buffer\u001b[0m\u001b[1;33m,\u001b[0m \u001b[0mkwds\u001b[0m\u001b[1;33m)\u001b[0m\u001b[1;33m\u001b[0m\u001b[1;33m\u001b[0m\u001b[0m\n\u001b[0m\u001b[0;32m    679\u001b[0m \u001b[1;33m\u001b[0m\u001b[0m\n\u001b[0;32m    680\u001b[0m \u001b[1;33m\u001b[0m\u001b[0m\n",
      "\u001b[1;32m~\\Anaconda3\\lib\\site-packages\\pandas\\io\\parsers\\readers.py\u001b[0m in \u001b[0;36m_read\u001b[1;34m(filepath_or_buffer, kwds)\u001b[0m\n\u001b[0;32m    573\u001b[0m \u001b[1;33m\u001b[0m\u001b[0m\n\u001b[0;32m    574\u001b[0m     \u001b[1;31m# Create the parser.\u001b[0m\u001b[1;33m\u001b[0m\u001b[1;33m\u001b[0m\u001b[0m\n\u001b[1;32m--> 575\u001b[1;33m     \u001b[0mparser\u001b[0m \u001b[1;33m=\u001b[0m \u001b[0mTextFileReader\u001b[0m\u001b[1;33m(\u001b[0m\u001b[0mfilepath_or_buffer\u001b[0m\u001b[1;33m,\u001b[0m \u001b[1;33m**\u001b[0m\u001b[0mkwds\u001b[0m\u001b[1;33m)\u001b[0m\u001b[1;33m\u001b[0m\u001b[1;33m\u001b[0m\u001b[0m\n\u001b[0m\u001b[0;32m    576\u001b[0m \u001b[1;33m\u001b[0m\u001b[0m\n\u001b[0;32m    577\u001b[0m     \u001b[1;32mif\u001b[0m \u001b[0mchunksize\u001b[0m \u001b[1;32mor\u001b[0m \u001b[0miterator\u001b[0m\u001b[1;33m:\u001b[0m\u001b[1;33m\u001b[0m\u001b[1;33m\u001b[0m\u001b[0m\n",
      "\u001b[1;32m~\\Anaconda3\\lib\\site-packages\\pandas\\io\\parsers\\readers.py\u001b[0m in \u001b[0;36m__init__\u001b[1;34m(self, f, engine, **kwds)\u001b[0m\n\u001b[0;32m    930\u001b[0m \u001b[1;33m\u001b[0m\u001b[0m\n\u001b[0;32m    931\u001b[0m         \u001b[0mself\u001b[0m\u001b[1;33m.\u001b[0m\u001b[0mhandles\u001b[0m\u001b[1;33m:\u001b[0m \u001b[0mIOHandles\u001b[0m \u001b[1;33m|\u001b[0m \u001b[1;32mNone\u001b[0m \u001b[1;33m=\u001b[0m \u001b[1;32mNone\u001b[0m\u001b[1;33m\u001b[0m\u001b[1;33m\u001b[0m\u001b[0m\n\u001b[1;32m--> 932\u001b[1;33m         \u001b[0mself\u001b[0m\u001b[1;33m.\u001b[0m\u001b[0m_engine\u001b[0m \u001b[1;33m=\u001b[0m \u001b[0mself\u001b[0m\u001b[1;33m.\u001b[0m\u001b[0m_make_engine\u001b[0m\u001b[1;33m(\u001b[0m\u001b[0mf\u001b[0m\u001b[1;33m,\u001b[0m \u001b[0mself\u001b[0m\u001b[1;33m.\u001b[0m\u001b[0mengine\u001b[0m\u001b[1;33m)\u001b[0m\u001b[1;33m\u001b[0m\u001b[1;33m\u001b[0m\u001b[0m\n\u001b[0m\u001b[0;32m    933\u001b[0m \u001b[1;33m\u001b[0m\u001b[0m\n\u001b[0;32m    934\u001b[0m     \u001b[1;32mdef\u001b[0m \u001b[0mclose\u001b[0m\u001b[1;33m(\u001b[0m\u001b[0mself\u001b[0m\u001b[1;33m)\u001b[0m\u001b[1;33m:\u001b[0m\u001b[1;33m\u001b[0m\u001b[1;33m\u001b[0m\u001b[0m\n",
      "\u001b[1;32m~\\Anaconda3\\lib\\site-packages\\pandas\\io\\parsers\\readers.py\u001b[0m in \u001b[0;36m_make_engine\u001b[1;34m(self, f, engine)\u001b[0m\n\u001b[0;32m   1214\u001b[0m             \u001b[1;31m# \"Union[str, PathLike[str], ReadCsvBuffer[bytes], ReadCsvBuffer[str]]\"\u001b[0m\u001b[1;33m\u001b[0m\u001b[1;33m\u001b[0m\u001b[0m\n\u001b[0;32m   1215\u001b[0m             \u001b[1;31m# , \"str\", \"bool\", \"Any\", \"Any\", \"Any\", \"Any\", \"Any\"\u001b[0m\u001b[1;33m\u001b[0m\u001b[1;33m\u001b[0m\u001b[0m\n\u001b[1;32m-> 1216\u001b[1;33m             self.handles = get_handle(  # type: ignore[call-overload]\n\u001b[0m\u001b[0;32m   1217\u001b[0m                 \u001b[0mf\u001b[0m\u001b[1;33m,\u001b[0m\u001b[1;33m\u001b[0m\u001b[1;33m\u001b[0m\u001b[0m\n\u001b[0;32m   1218\u001b[0m                 \u001b[0mmode\u001b[0m\u001b[1;33m,\u001b[0m\u001b[1;33m\u001b[0m\u001b[1;33m\u001b[0m\u001b[0m\n",
      "\u001b[1;32m~\\Anaconda3\\lib\\site-packages\\pandas\\io\\common.py\u001b[0m in \u001b[0;36mget_handle\u001b[1;34m(path_or_buf, mode, encoding, compression, memory_map, is_text, errors, storage_options)\u001b[0m\n\u001b[0;32m    784\u001b[0m         \u001b[1;32mif\u001b[0m \u001b[0mioargs\u001b[0m\u001b[1;33m.\u001b[0m\u001b[0mencoding\u001b[0m \u001b[1;32mand\u001b[0m \u001b[1;34m\"b\"\u001b[0m \u001b[1;32mnot\u001b[0m \u001b[1;32min\u001b[0m \u001b[0mioargs\u001b[0m\u001b[1;33m.\u001b[0m\u001b[0mmode\u001b[0m\u001b[1;33m:\u001b[0m\u001b[1;33m\u001b[0m\u001b[1;33m\u001b[0m\u001b[0m\n\u001b[0;32m    785\u001b[0m             \u001b[1;31m# Encoding\u001b[0m\u001b[1;33m\u001b[0m\u001b[1;33m\u001b[0m\u001b[0m\n\u001b[1;32m--> 786\u001b[1;33m             handle = open(\n\u001b[0m\u001b[0;32m    787\u001b[0m                 \u001b[0mhandle\u001b[0m\u001b[1;33m,\u001b[0m\u001b[1;33m\u001b[0m\u001b[1;33m\u001b[0m\u001b[0m\n\u001b[0;32m    788\u001b[0m                 \u001b[0mioargs\u001b[0m\u001b[1;33m.\u001b[0m\u001b[0mmode\u001b[0m\u001b[1;33m,\u001b[0m\u001b[1;33m\u001b[0m\u001b[1;33m\u001b[0m\u001b[0m\n",
      "\u001b[1;31mFileNotFoundError\u001b[0m: [Errno 2] No such file or directory: 'C:\\\\Users\\\\woltersa\\\\Repos\\\\masterthesis_wolters\\\\3_data_pre-processing\\\\models_single_task\\\\data_artifacts\\\\data_set_e_spx_3-all.csv'"
     ]
    }
   ],
   "source": [
    "data_set = pd.read_csv(path_3 + 'data_artifacts' + slash + 'data_set_e_spx_3-' + vif + '.csv', index_col=0)\n",
    "data_set = data_set.drop(columns='fam_target')"
   ]
  },
  {
   "cell_type": "markdown",
   "id": "112a513b",
   "metadata": {},
   "source": [
    "## Time Series Cross Validation on Default Model"
   ]
  },
  {
   "cell_type": "code",
   "execution_count": null,
   "id": "e081923c",
   "metadata": {},
   "outputs": [],
   "source": [
    "default_param_model = tree.DecisionTreeRegressor()\n",
    "default_param_model.get_params()"
   ]
  },
  {
   "cell_type": "code",
   "execution_count": null,
   "id": "42c4296c",
   "metadata": {},
   "outputs": [],
   "source": [
    "default_param_model_scores = cross_validation (data_set, default_param_model, True)\n",
    "pd.DataFrame(default_param_model_scores).describe()"
   ]
  },
  {
   "cell_type": "code",
   "execution_count": null,
   "id": "64dfa63c",
   "metadata": {},
   "outputs": [],
   "source": [
    "ax = pd.DataFrame(default_param_model_scores).plot(figsize=(8,4))"
   ]
  },
  {
   "cell_type": "markdown",
   "id": "66d960c4",
   "metadata": {},
   "source": [
    "## Hyperparameter Optimization with Time Series Cross Validation\n",
    "- Bayesian optimization\n",
    "- https://scikit-optimize.github.io/stable/auto_examples/bayesian-optimization.html"
   ]
  },
  {
   "cell_type": "code",
   "execution_count": null,
   "id": "abfb5ebe",
   "metadata": {},
   "outputs": [],
   "source": [
    "# search space for the hyperparameters\n",
    "#     a = 0 -> ridge reg (shrink but not remove parameters, most variables are useful)\n",
    "#     a = 1 -> lasso reg (eliminates parameters, model contains lot of useless variables)\n",
    "#     lambda = 0 -> no penalty\n",
    "space = [space.Real(0.0001, 1, name='alpha'), \n",
    "         space.Real(0.0001, 1, name='l1_ratio')]\n",
    "\n",
    "# objective function to minimize\n",
    "def objective(params):\n",
    "    alpha, l1_ratio = params\n",
    "    model = MultiTaskElasticNet(alpha=alpha, l1_ratio=l1_ratio)\n",
    "    scores = cross_validation(data_set, model, True)\n",
    "    return np.mean(scores['mse_valid'])\n",
    "\n",
    "# perform the optimization\n",
    "result = gp_minimize(objective, space)\n",
    "\n",
    "# optimal point and function value\n",
    "print(\"Optimal point:\", result.x)\n",
    "print(\"Function value at optimal point:\", result.fun)\n",
    "ax = pd.DataFrame(result.func_vals).plot(figsize=(12,4))"
   ]
  },
  {
   "cell_type": "code",
   "execution_count": null,
   "id": "2a4f9b3c",
   "metadata": {},
   "outputs": [],
   "source": [
    "# safe to excel\n",
    "prelim_result = {'Model': [default_param_model],\n",
    "           'opt_params': [result.x],\n",
    "           'fun_min': [result.fun]\n",
    "          }\n",
    "\n",
    "display(pd.DataFrame(prelim_result))\n",
    "storage_name = str(default_param_model) + \"_\" + vif + str(datetime.today().day) + str(datetime.today().hour) + \".xlsx\"\n",
    "pd.DataFrame(prelim_result).to_excel(path + \"artifacts\" + slash + storage_name, index=None)"
   ]
  },
  {
   "cell_type": "markdown",
   "id": "944008a8",
   "metadata": {},
   "source": [
    "## Time Series Cross Validation on Optimal Model"
   ]
  },
  {
   "cell_type": "code",
   "execution_count": null,
   "id": "12d9fd11",
   "metadata": {},
   "outputs": [],
   "source": [
    "# ---------------- config opt model -----------------\n",
    "opt_model = MultiTaskElasticNet(alpha=0.001858680877495989, l1_ratio=0.9411703398848764)"
   ]
  },
  {
   "cell_type": "code",
   "execution_count": null,
   "id": "384b2456",
   "metadata": {},
   "outputs": [],
   "source": [
    "opt_model_tscv_scores = cross_validation(data_set, opt_model, True)\n",
    "pd.DataFrame(opt_model_tscv_scores).describe()"
   ]
  },
  {
   "cell_type": "code",
   "execution_count": null,
   "id": "67dff089",
   "metadata": {},
   "outputs": [],
   "source": [
    "ax = pd.DataFrame(opt_model_tscv_scores).plot(figsize=(8,4))"
   ]
  },
  {
   "cell_type": "markdown",
   "id": "8eab9d1b",
   "metadata": {},
   "source": [
    "## Model Performance on Test Set"
   ]
  },
  {
   "cell_type": "code",
   "execution_count": null,
   "id": "05ffb6be",
   "metadata": {},
   "outputs": [],
   "source": [
    "# default parameter model performance on test set (unseen data)\n",
    "default_param_model_test_shifted_scores = performance_test_shifted(data_set, default_param_model, True)\n",
    "display(pd.DataFrame(default_param_model_test_shifted_scores).describe())\n",
    "\n",
    "default_param_model_test_fixed_scores = performance_test_fixed(data_set, default_param_model, True)\n",
    "print(default_param_model_test_fixed_scores)"
   ]
  },
  {
   "cell_type": "code",
   "execution_count": null,
   "id": "49cfe40f",
   "metadata": {},
   "outputs": [],
   "source": [
    "# optimal parameter model performance on test set (unseen data)\n",
    "opt_model_test_shifted_scores = performance_test_shifted(data_set, opt_model, True)\n",
    "display(pd.DataFrame(opt_model_test_shifted_scores).describe())\n",
    "\n",
    "opt_model_test_fixed_scores = performance_test_fixed(data_set, opt_model, True)\n",
    "print(opt_model_test_fixed_scores)"
   ]
  },
  {
   "cell_type": "code",
   "execution_count": null,
   "id": "2970bd56",
   "metadata": {},
   "outputs": [],
   "source": [
    "ax = pd.DataFrame(opt_model_test_shifted_scores).plot(figsize=(8,4))"
   ]
  },
  {
   "cell_type": "code",
   "execution_count": null,
   "id": "b310dc84",
   "metadata": {},
   "outputs": [],
   "source": [
    "# safe to excel (parametric)\n",
    "results = {'Model': [default_param_model],\n",
    "           'vif': [vif],\n",
    "           'opt_params': [result.x],\n",
    "           'fun_min': [result.fun],\n",
    "           'mse_tscv': [pd.DataFrame(opt_model_tscv_scores).mse_valid.mean()],\n",
    "           'mae_tscv': [pd.DataFrame(opt_model_tscv_scores).mae_valid.mean()],\n",
    "           'r2_tscv': [pd.DataFrame(opt_model_tscv_scores).r2_valid.mean()],\n",
    "           'mse_test_shifted': [pd.DataFrame(opt_model_test_shifted_scores).mse_test.mean()],\n",
    "           'mae_test_shifted': [pd.DataFrame(opt_model_test_shifted_scores).mae_test.mean()],\n",
    "           'r2_test_shifted': [pd.DataFrame(opt_model_test_shifted_scores).r2_test.mean()],\n",
    "           'mse_test_fixed': [opt_model_test_fixed_scores['mse_test']],\n",
    "           'mae_test_fixed': [opt_model_test_fixed_scores['mae_test']],\n",
    "           'r2_test_fixed': [opt_model_test_fixed_scores['r2_test']],   \n",
    "            'opt_model': [opt_model.get_params()]\n",
    "          }\n",
    "\n",
    "display(pd.DataFrame(results))\n",
    "storage_name = str(default_param_model) + \"_\" + vif + str(datetime.today().day) + str(datetime.today().hour) + \".xlsx\"\n",
    "pd.DataFrame(results).to_excel(path + \"artifacts\" + slash + storage_name, index=None)"
   ]
  }
 ],
 "metadata": {
  "kernelspec": {
   "display_name": "Python 3 (ipykernel)",
   "language": "python",
   "name": "python3"
  },
  "language_info": {
   "codemirror_mode": {
    "name": "ipython",
    "version": 3
   },
   "file_extension": ".py",
   "mimetype": "text/x-python",
   "name": "python",
   "nbconvert_exporter": "python",
   "pygments_lexer": "ipython3",
   "version": "3.9.13"
  }
 },
 "nbformat": 4,
 "nbformat_minor": 5
}
