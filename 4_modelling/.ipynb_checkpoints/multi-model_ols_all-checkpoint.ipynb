{
 "cells": [
  {
   "cell_type": "markdown",
   "id": "10192a90",
   "metadata": {},
   "source": [
    "# Ordinary Least Squares\n",
    "https://scikit-learn.org/stable/modules/linear_model.html#ordinary-least-squares\n",
    "\n",
    "linear_model.LinearRegression()\n",
    "\n",
    "{'copy_X': True,   \n",
    " 'fit_intercept': True,    \n",
    " 'n_jobs': None,   \n",
    " 'normalize': 'deprecated',    \n",
    " 'positive': False}\n",
    " \n",
    " **_no hyperparameter tuning_**"
   ]
  },
  {
   "cell_type": "code",
   "execution_count": 1,
   "id": "7f5b0205",
   "metadata": {},
   "outputs": [],
   "source": [
    "# config 'all', 'vif_5' or 'vif_10'\n",
    "vif = 'all'"
   ]
  },
  {
   "cell_type": "code",
   "execution_count": 2,
   "id": "1630d5ac",
   "metadata": {},
   "outputs": [],
   "source": [
    "from datetime import datetime\n",
    "import matplotlib.pyplot as plt\n",
    "import numpy as np\n",
    "import pandas as pd\n",
    "import pathlib\n",
    "import platform\n",
    "import seaborn as sns\n",
    "from sklearn import linear_model\n",
    "from sklearn.linear_model import MultiTaskElasticNet\n",
    "from sklearn.metrics import mean_squared_error\n",
    "from sklearn.metrics import mean_absolute_error\n",
    "from sklearn.preprocessing import StandardScaler\n",
    "from skopt import gp_minimize, space\n",
    "import sys\n",
    "\n",
    "from validation import cross_validation\n",
    "from validation import performance_test_fixed\n",
    "from validation import performance_test_shifted\n",
    "\n",
    "date_format = \"%Y-%m-%d\"\n",
    "\n",
    "pd.options.display.max_columns = None\n",
    "pd.options.display.max_rows = None\n",
    "pd.options.display.max_colwidth = None"
   ]
  },
  {
   "cell_type": "code",
   "execution_count": 3,
   "id": "15964d92",
   "metadata": {},
   "outputs": [
    {
     "name": "stdout",
     "output_type": "stream",
     "text": [
      "OS in my system:  Windows\n"
     ]
    }
   ],
   "source": [
    "my_os = platform.system()\n",
    "print(\"OS in my system: \",my_os)\n",
    "\n",
    "if my_os == \"Windows\":\n",
    "    path = str(pathlib.Path().absolute()) + '\\\\'\n",
    "    slash = '\\\\'\n",
    "else:\n",
    "    path = str(pathlib.Path().absolute()) + '/'\n",
    "    slash = '/'\n",
    "\n",
    "path_3 = path.replace('4_modelling', '3_data_pre-processing')"
   ]
  },
  {
   "cell_type": "markdown",
   "id": "910f8ca5",
   "metadata": {},
   "source": [
    "## Load Data"
   ]
  },
  {
   "cell_type": "code",
   "execution_count": 4,
   "id": "c329743f",
   "metadata": {},
   "outputs": [],
   "source": [
    "data_set = pd.read_csv(path_3 + 'data_artifacts' + slash + 'data_set_e_spx_3-' + vif + '.csv', index_col=0)"
   ]
  },
  {
   "cell_type": "markdown",
   "id": "22befa88",
   "metadata": {},
   "source": [
    "## Time Series Cross Validation on Default/Optimal Model\n",
    "_optimal model = default model_"
   ]
  },
  {
   "cell_type": "code",
   "execution_count": 5,
   "id": "f5f1bcf2",
   "metadata": {},
   "outputs": [
    {
     "data": {
      "text/plain": [
       "{'copy_X': True,\n",
       " 'fit_intercept': True,\n",
       " 'n_jobs': None,\n",
       " 'normalize': 'deprecated',\n",
       " 'positive': False}"
      ]
     },
     "execution_count": 5,
     "metadata": {},
     "output_type": "execute_result"
    }
   ],
   "source": [
    "opt_model = linear_model.LinearRegression()\n",
    "opt_model.get_params()"
   ]
  },
  {
   "cell_type": "code",
   "execution_count": 6,
   "id": "c1897aed",
   "metadata": {},
   "outputs": [
    {
     "data": {
      "text/html": [
       "<div>\n",
       "<style scoped>\n",
       "    .dataframe tbody tr th:only-of-type {\n",
       "        vertical-align: middle;\n",
       "    }\n",
       "\n",
       "    .dataframe tbody tr th {\n",
       "        vertical-align: top;\n",
       "    }\n",
       "\n",
       "    .dataframe thead th {\n",
       "        text-align: right;\n",
       "    }\n",
       "</style>\n",
       "<table border=\"1\" class=\"dataframe\">\n",
       "  <thead>\n",
       "    <tr style=\"text-align: right;\">\n",
       "      <th></th>\n",
       "      <th>mse_train</th>\n",
       "      <th>mae_train</th>\n",
       "      <th>r2_train</th>\n",
       "      <th>mse_valid</th>\n",
       "      <th>mae_valid</th>\n",
       "      <th>r2_valid</th>\n",
       "    </tr>\n",
       "  </thead>\n",
       "  <tbody>\n",
       "    <tr>\n",
       "      <th>count</th>\n",
       "      <td>10.000000</td>\n",
       "      <td>10.000000</td>\n",
       "      <td>10.000000</td>\n",
       "      <td>10.000000</td>\n",
       "      <td>10.000000</td>\n",
       "      <td>10.000000</td>\n",
       "    </tr>\n",
       "    <tr>\n",
       "      <th>mean</th>\n",
       "      <td>0.107750</td>\n",
       "      <td>0.225581</td>\n",
       "      <td>0.196126</td>\n",
       "      <td>0.117434</td>\n",
       "      <td>0.236691</td>\n",
       "      <td>0.086996</td>\n",
       "    </tr>\n",
       "    <tr>\n",
       "      <th>std</th>\n",
       "      <td>0.001513</td>\n",
       "      <td>0.001673</td>\n",
       "      <td>0.004706</td>\n",
       "      <td>0.014775</td>\n",
       "      <td>0.014333</td>\n",
       "      <td>0.081780</td>\n",
       "    </tr>\n",
       "    <tr>\n",
       "      <th>min</th>\n",
       "      <td>0.105153</td>\n",
       "      <td>0.222242</td>\n",
       "      <td>0.189253</td>\n",
       "      <td>0.100056</td>\n",
       "      <td>0.216145</td>\n",
       "      <td>-0.110966</td>\n",
       "    </tr>\n",
       "    <tr>\n",
       "      <th>25%</th>\n",
       "      <td>0.107192</td>\n",
       "      <td>0.225121</td>\n",
       "      <td>0.193585</td>\n",
       "      <td>0.108136</td>\n",
       "      <td>0.226669</td>\n",
       "      <td>0.083473</td>\n",
       "    </tr>\n",
       "    <tr>\n",
       "      <th>50%</th>\n",
       "      <td>0.107812</td>\n",
       "      <td>0.225570</td>\n",
       "      <td>0.195197</td>\n",
       "      <td>0.109108</td>\n",
       "      <td>0.230914</td>\n",
       "      <td>0.104546</td>\n",
       "    </tr>\n",
       "    <tr>\n",
       "      <th>75%</th>\n",
       "      <td>0.108969</td>\n",
       "      <td>0.226742</td>\n",
       "      <td>0.199751</td>\n",
       "      <td>0.129247</td>\n",
       "      <td>0.248401</td>\n",
       "      <td>0.122048</td>\n",
       "    </tr>\n",
       "    <tr>\n",
       "      <th>max</th>\n",
       "      <td>0.109607</td>\n",
       "      <td>0.228088</td>\n",
       "      <td>0.203771</td>\n",
       "      <td>0.143787</td>\n",
       "      <td>0.259219</td>\n",
       "      <td>0.169350</td>\n",
       "    </tr>\n",
       "  </tbody>\n",
       "</table>\n",
       "</div>"
      ],
      "text/plain": [
       "       mse_train  mae_train   r2_train  mse_valid  mae_valid   r2_valid\n",
       "count  10.000000  10.000000  10.000000  10.000000  10.000000  10.000000\n",
       "mean    0.107750   0.225581   0.196126   0.117434   0.236691   0.086996\n",
       "std     0.001513   0.001673   0.004706   0.014775   0.014333   0.081780\n",
       "min     0.105153   0.222242   0.189253   0.100056   0.216145  -0.110966\n",
       "25%     0.107192   0.225121   0.193585   0.108136   0.226669   0.083473\n",
       "50%     0.107812   0.225570   0.195197   0.109108   0.230914   0.104546\n",
       "75%     0.108969   0.226742   0.199751   0.129247   0.248401   0.122048\n",
       "max     0.109607   0.228088   0.203771   0.143787   0.259219   0.169350"
      ]
     },
     "execution_count": 6,
     "metadata": {},
     "output_type": "execute_result"
    }
   ],
   "source": [
    "opt_model_scores = cross_validation (data_set, opt_model, 'multi_target')\n",
    "pd.DataFrame(opt_model_scores).describe()"
   ]
  },
  {
   "cell_type": "code",
   "execution_count": 7,
   "id": "9854ad13",
   "metadata": {},
   "outputs": [
    {
     "data": {
      "image/png": "[encoded data removed]",
      "text/plain": [
       "<Figure size 800x400 with 1 Axes>"
      ]
     },
     "metadata": {},
     "output_type": "display_data"
    }
   ],
   "source": [
    "ax = pd.DataFrame(opt_model_scores).plot(figsize=(8,4))"
   ]
  },
  {
   "cell_type": "markdown",
   "id": "87f55394",
   "metadata": {},
   "source": [
    "## Hyperparameter Optimization with Time Series Cross Validation\n",
    "_model does not require hyperparameter tuning -> model is edtimated from training sample only to enhance comparability among all used machine learning techniques_"
   ]
  },
  {
   "cell_type": "markdown",
   "id": "8d507593",
   "metadata": {},
   "source": [
    "## Model Performance on Test Set"
   ]
  },
  {
   "cell_type": "code",
   "execution_count": 8,
   "id": "507e624d",
   "metadata": {},
   "outputs": [
    {
     "data": {
      "text/html": [
       "<div>\n",
       "<style scoped>\n",
       "    .dataframe tbody tr th:only-of-type {\n",
       "        vertical-align: middle;\n",
       "    }\n",
       "\n",
       "    .dataframe tbody tr th {\n",
       "        vertical-align: top;\n",
       "    }\n",
       "\n",
       "    .dataframe thead th {\n",
       "        text-align: right;\n",
       "    }\n",
       "</style>\n",
       "<table border=\"1\" class=\"dataframe\">\n",
       "  <thead>\n",
       "    <tr style=\"text-align: right;\">\n",
       "      <th></th>\n",
       "      <th>mse_test</th>\n",
       "      <th>mae_test</th>\n",
       "      <th>r2_test</th>\n",
       "    </tr>\n",
       "  </thead>\n",
       "  <tbody>\n",
       "    <tr>\n",
       "      <th>count</th>\n",
       "      <td>10.000000</td>\n",
       "      <td>10.000000</td>\n",
       "      <td>10.000000</td>\n",
       "    </tr>\n",
       "    <tr>\n",
       "      <th>mean</th>\n",
       "      <td>0.116286</td>\n",
       "      <td>0.235112</td>\n",
       "      <td>0.104165</td>\n",
       "    </tr>\n",
       "    <tr>\n",
       "      <th>std</th>\n",
       "      <td>0.015822</td>\n",
       "      <td>0.015642</td>\n",
       "      <td>0.054977</td>\n",
       "    </tr>\n",
       "    <tr>\n",
       "      <th>min</th>\n",
       "      <td>0.100044</td>\n",
       "      <td>0.216587</td>\n",
       "      <td>-0.001184</td>\n",
       "    </tr>\n",
       "    <tr>\n",
       "      <th>25%</th>\n",
       "      <td>0.105944</td>\n",
       "      <td>0.224631</td>\n",
       "      <td>0.080910</td>\n",
       "    </tr>\n",
       "    <tr>\n",
       "      <th>50%</th>\n",
       "      <td>0.109669</td>\n",
       "      <td>0.230020</td>\n",
       "      <td>0.098975</td>\n",
       "    </tr>\n",
       "    <tr>\n",
       "      <th>75%</th>\n",
       "      <td>0.130283</td>\n",
       "      <td>0.249200</td>\n",
       "      <td>0.151609</td>\n",
       "    </tr>\n",
       "    <tr>\n",
       "      <th>max</th>\n",
       "      <td>0.142047</td>\n",
       "      <td>0.258978</td>\n",
       "      <td>0.168852</td>\n",
       "    </tr>\n",
       "  </tbody>\n",
       "</table>\n",
       "</div>"
      ],
      "text/plain": [
       "        mse_test   mae_test    r2_test\n",
       "count  10.000000  10.000000  10.000000\n",
       "mean    0.116286   0.235112   0.104165\n",
       "std     0.015822   0.015642   0.054977\n",
       "min     0.100044   0.216587  -0.001184\n",
       "25%     0.105944   0.224631   0.080910\n",
       "50%     0.109669   0.230020   0.098975\n",
       "75%     0.130283   0.249200   0.151609\n",
       "max     0.142047   0.258978   0.168852"
      ]
     },
     "metadata": {},
     "output_type": "display_data"
    },
    {
     "name": "stdout",
     "output_type": "stream",
     "text": [
      "{'mse_test': 0.11560237044433834, 'mae_test': 0.23438765611434723, 'r2_test': 0.08739823360454224}\n"
     ]
    }
   ],
   "source": [
    "# optimal parameter model performance on test set (unseen data)\n",
    "opt_model_test_shifted_scores = performance_test_shifted(data_set, opt_model, 'multi_target')\n",
    "display(pd.DataFrame(opt_model_test_shifted_scores).describe())\n",
    "\n",
    "opt_model_test_fixed_scores = performance_test_fixed(data_set, opt_model, 'multi_target')\n",
    "print(opt_model_test_fixed_scores)"
   ]
  },
  {
   "cell_type": "code",
   "execution_count": null,
   "id": "455c6448",
   "metadata": {},
   "outputs": [],
   "source": [
    "ax = pd.DataFrame(opt_model_test_shifted_scores).plot(figsize=(8,4))"
   ]
  },
  {
   "cell_type": "code",
   "execution_count": null,
   "id": "f545de48",
   "metadata": {},
   "outputs": [],
   "source": [
    "# safe to excel (non-parametric)\n",
    "results = {'Model': [opt_model],\n",
    "           'vif': [vif],\n",
    "           'opt_params': ['non-parametric'],\n",
    "           'fun_min': ['non-parametric'],\n",
    "           'mse_tscv': [pd.DataFrame(opt_model_scores).mse_valid.mean()],\n",
    "           'mae_tscv': [pd.DataFrame(opt_model_scores).mae_valid.mean()],\n",
    "           'r2_tscv': [pd.DataFrame(opt_model_scores).r2_valid.mean()],\n",
    "           'mse_test_shifte': [pd.DataFrame(opt_model_test_shifted_scores).mse_test.mean()],\n",
    "           'mae_test_shifted': [pd.DataFrame(opt_model_test_shifted_scores).mae_test.mean()],\n",
    "           'r2_test_shifted': [pd.DataFrame(opt_model_test_shifted_scores).r2_test.mean()],\n",
    "           'mse_test_fixed': [opt_model_test_fixed_scores['mse_test']],\n",
    "           'mae_test_fixed': [opt_model_test_fixed_scores['mae_test']],\n",
    "           'r2_test_fixed': [opt_model_test_fixed_scores['r2_test']],   \n",
    "            'opt_model': [opt_model.get_params()]\n",
    "          }\n",
    "\n",
    "display(pd.DataFrame(results))\n",
    "storage_name = str(opt_model) + \"_\" + vif + str(datetime.today().day) + str(datetime.today().hour) + \".xlsx\"\n",
    "pd.DataFrame(results).to_excel(path + \"artifacts\" + slash + storage_name, index=None)"
   ]
  }
 ],
 "metadata": {
  "kernelspec": {
   "display_name": "Python 3 (ipykernel)",
   "language": "python",
   "name": "python3"
  },
  "language_info": {
   "codemirror_mode": {
    "name": "ipython",
    "version": 3
   },
   "file_extension": ".py",
   "mimetype": "text/x-python",
   "name": "python",
   "nbconvert_exporter": "python",
   "pygments_lexer": "ipython3",
   "version": "3.9.13"
  }
 },
 "nbformat": 4,
 "nbformat_minor": 5
}
