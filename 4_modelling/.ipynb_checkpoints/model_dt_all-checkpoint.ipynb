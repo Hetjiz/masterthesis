{
 "cells": [
  {
   "cell_type": "markdown",
   "id": "73085038",
   "metadata": {},
   "source": [
    "# Decision Tree\n",
    "This is a linear model that is trained to minimize the sum of two different objective functions: one for the categorical target variable and one for the numerical target variable.\n",
    "\n",
    "https://scikit-learn.org/stable/modules/generated/sklearn.linear_model.MultiTaskElasticNet.html#sklearn.linear_model.MultiTaskElasticNet\n",
    "\n",
    "MultiTaskElasticNet()\n",
    "\n",
    "{'alpha': 1.0,   \n",
    " 'copy_X': True,   \n",
    " 'fit_intercept': True,   \n",
    " 'l1_ratio': 0.5,   \n",
    " 'max_iter': 1000,   \n",
    " 'normalize': 'deprecated',   \n",
    " 'random_state': None,   \n",
    " 'selection': 'cyclic',   \n",
    " 'tol': 0.0001,    \n",
    " 'warm_start': False}\n",
    " \n",
    "**_bayesian hyperparameter tuning_**"
   ]
  },
  {
   "cell_type": "code",
   "execution_count": 1,
   "id": "eda41918",
   "metadata": {},
   "outputs": [],
   "source": [
    "# config 'all', 'vif_5' or 'vif_10'\n",
    "vif = 'all'"
   ]
  },
  {
   "cell_type": "code",
   "execution_count": 2,
   "id": "1630d5ac",
   "metadata": {},
   "outputs": [],
   "source": [
    "from datetime import datetime\n",
    "import matplotlib.pyplot as plt\n",
    "import numpy as np\n",
    "import pandas as pd\n",
    "import pathlib\n",
    "import platform\n",
    "import seaborn as sns\n",
    "from sklearn import linear_model\n",
    "from sklearn import tree\n",
    "from sklearn.linear_model import MultiTaskElasticNet\n",
    "from sklearn.metrics import mean_squared_error\n",
    "from sklearn.metrics import mean_absolute_error\n",
    "from sklearn.preprocessing import StandardScaler\n",
    "from skopt import gp_minimize, space\n",
    "import sys\n",
    "\n",
    "from validation import cross_validation\n",
    "from validation import performance_test_fixed\n",
    "from validation import performance_test_shifted\n",
    "\n",
    "date_format = \"%Y-%m-%d\"\n",
    "\n",
    "pd.options.display.max_columns = None\n",
    "pd.options.display.max_rows = None\n",
    "pd.options.display.max_colwidth = None"
   ]
  },
  {
   "cell_type": "code",
   "execution_count": 3,
   "id": "15964d92",
   "metadata": {},
   "outputs": [
    {
     "name": "stdout",
     "output_type": "stream",
     "text": [
      "OS in my system:  Windows\n"
     ]
    }
   ],
   "source": [
    "my_os = platform.system()\n",
    "print(\"OS in my system: \",my_os)\n",
    "\n",
    "if my_os == \"Windows\":\n",
    "    path = str(pathlib.Path().absolute()) + '\\\\'\n",
    "    slash = '\\\\'\n",
    "else:\n",
    "    path = str(pathlib.Path().absolute()) + '/'\n",
    "    slash = '/'\n",
    "\n",
    "path_3 = path.replace('4_modelling', '3_data_pre-processing')"
   ]
  },
  {
   "cell_type": "markdown",
   "id": "910f8ca5",
   "metadata": {},
   "source": [
    "## Load Data"
   ]
  },
  {
   "cell_type": "code",
   "execution_count": 7,
   "id": "c329743f",
   "metadata": {},
   "outputs": [],
   "source": [
    "data_set = pd.read_csv(path_3 + 'data_artifacts' + slash + 'data_set_e_spx_3-' + vif + '.csv', index_col=0)\n",
    "data_set = data_set.drop(columns='fam_target')"
   ]
  },
  {
   "cell_type": "markdown",
   "id": "112a513b",
   "metadata": {},
   "source": [
    "## Time Series Cross Validation on Default Model"
   ]
  },
  {
   "cell_type": "code",
   "execution_count": 5,
   "id": "e081923c",
   "metadata": {},
   "outputs": [
    {
     "data": {
      "text/plain": [
       "{'ccp_alpha': 0.0,\n",
       " 'criterion': 'squared_error',\n",
       " 'max_depth': None,\n",
       " 'max_features': None,\n",
       " 'max_leaf_nodes': None,\n",
       " 'min_impurity_decrease': 0.0,\n",
       " 'min_samples_leaf': 1,\n",
       " 'min_samples_split': 2,\n",
       " 'min_weight_fraction_leaf': 0.0,\n",
       " 'random_state': None,\n",
       " 'splitter': 'best'}"
      ]
     },
     "execution_count": 5,
     "metadata": {},
     "output_type": "execute_result"
    }
   ],
   "source": [
    "default_param_model = tree.DecisionTreeRegressor()\n",
    "default_param_model.get_params()"
   ]
  },
  {
   "cell_type": "code",
   "execution_count": 8,
   "id": "42c4296c",
   "metadata": {},
   "outputs": [
    {
     "data": {
      "text/html": [
       "<div>\n",
       "<style scoped>\n",
       "    .dataframe tbody tr th:only-of-type {\n",
       "        vertical-align: middle;\n",
       "    }\n",
       "\n",
       "    .dataframe tbody tr th {\n",
       "        vertical-align: top;\n",
       "    }\n",
       "\n",
       "    .dataframe thead th {\n",
       "        text-align: right;\n",
       "    }\n",
       "</style>\n",
       "<table border=\"1\" class=\"dataframe\">\n",
       "  <thead>\n",
       "    <tr style=\"text-align: right;\">\n",
       "      <th></th>\n",
       "      <th>mse_train</th>\n",
       "      <th>mae_train</th>\n",
       "      <th>r2_train</th>\n",
       "      <th>mse_valid</th>\n",
       "      <th>mae_valid</th>\n",
       "      <th>r2_valid</th>\n",
       "    </tr>\n",
       "  </thead>\n",
       "  <tbody>\n",
       "    <tr>\n",
       "      <th>count</th>\n",
       "      <td>1.000000e+01</td>\n",
       "      <td>1.000000e+01</td>\n",
       "      <td>10.0</td>\n",
       "      <td>10.000000</td>\n",
       "      <td>10.000000</td>\n",
       "      <td>10.000000</td>\n",
       "    </tr>\n",
       "    <tr>\n",
       "      <th>mean</th>\n",
       "      <td>1.235667e-32</td>\n",
       "      <td>9.174149e-18</td>\n",
       "      <td>1.0</td>\n",
       "      <td>0.213433</td>\n",
       "      <td>0.228145</td>\n",
       "      <td>-0.793197</td>\n",
       "    </tr>\n",
       "    <tr>\n",
       "      <th>std</th>\n",
       "      <td>6.037926e-33</td>\n",
       "      <td>2.466727e-18</td>\n",
       "      <td>0.0</td>\n",
       "      <td>0.016218</td>\n",
       "      <td>0.013419</td>\n",
       "      <td>0.218331</td>\n",
       "    </tr>\n",
       "    <tr>\n",
       "      <th>min</th>\n",
       "      <td>6.359156e-33</td>\n",
       "      <td>5.964709e-18</td>\n",
       "      <td>1.0</td>\n",
       "      <td>0.191034</td>\n",
       "      <td>0.209046</td>\n",
       "      <td>-1.292965</td>\n",
       "    </tr>\n",
       "    <tr>\n",
       "      <th>25%</th>\n",
       "      <td>8.280220e-33</td>\n",
       "      <td>7.017161e-18</td>\n",
       "      <td>1.0</td>\n",
       "      <td>0.199473</td>\n",
       "      <td>0.216482</td>\n",
       "      <td>-0.832071</td>\n",
       "    </tr>\n",
       "    <tr>\n",
       "      <th>50%</th>\n",
       "      <td>1.067339e-32</td>\n",
       "      <td>9.202602e-18</td>\n",
       "      <td>1.0</td>\n",
       "      <td>0.214114</td>\n",
       "      <td>0.229841</td>\n",
       "      <td>-0.702581</td>\n",
       "    </tr>\n",
       "    <tr>\n",
       "      <th>75%</th>\n",
       "      <td>1.377540e-32</td>\n",
       "      <td>1.083977e-17</td>\n",
       "      <td>1.0</td>\n",
       "      <td>0.225561</td>\n",
       "      <td>0.237936</td>\n",
       "      <td>-0.661028</td>\n",
       "    </tr>\n",
       "    <tr>\n",
       "      <th>max</th>\n",
       "      <td>2.473212e-32</td>\n",
       "      <td>1.330478e-17</td>\n",
       "      <td>1.0</td>\n",
       "      <td>0.240212</td>\n",
       "      <td>0.249738</td>\n",
       "      <td>-0.612192</td>\n",
       "    </tr>\n",
       "  </tbody>\n",
       "</table>\n",
       "</div>"
      ],
      "text/plain": [
       "          mse_train     mae_train  r2_train  mse_valid  mae_valid   r2_valid\n",
       "count  1.000000e+01  1.000000e+01      10.0  10.000000  10.000000  10.000000\n",
       "mean   1.235667e-32  9.174149e-18       1.0   0.213433   0.228145  -0.793197\n",
       "std    6.037926e-33  2.466727e-18       0.0   0.016218   0.013419   0.218331\n",
       "min    6.359156e-33  5.964709e-18       1.0   0.191034   0.209046  -1.292965\n",
       "25%    8.280220e-33  7.017161e-18       1.0   0.199473   0.216482  -0.832071\n",
       "50%    1.067339e-32  9.202602e-18       1.0   0.214114   0.229841  -0.702581\n",
       "75%    1.377540e-32  1.083977e-17       1.0   0.225561   0.237936  -0.661028\n",
       "max    2.473212e-32  1.330478e-17       1.0   0.240212   0.249738  -0.612192"
      ]
     },
     "execution_count": 8,
     "metadata": {},
     "output_type": "execute_result"
    }
   ],
   "source": [
    "default_param_model_scores = cross_validation (data_set, default_param_model, True)\n",
    "pd.DataFrame(default_param_model_scores).describe()"
   ]
  },
  {
   "cell_type": "code",
   "execution_count": 9,
   "id": "64dfa63c",
   "metadata": {},
   "outputs": [
    {
     "data": {
      "image/png": "[encoded data removed]",
      "text/plain": [
       "<Figure size 800x400 with 1 Axes>"
      ]
     },
     "metadata": {},
     "output_type": "display_data"
    }
   ],
   "source": [
    "ax = pd.DataFrame(default_param_model_scores).plot(figsize=(8,4))"
   ]
  },
  {
   "cell_type": "markdown",
   "id": "66d960c4",
   "metadata": {},
   "source": [
    "## Hyperparameter Optimization with Time Series Cross Validation\n",
    "- Bayesian optimization\n",
    "- https://scikit-optimize.github.io/stable/auto_examples/bayesian-optimization.html"
   ]
  },
  {
   "cell_type": "code",
   "execution_count": 8,
   "id": "abfb5ebe",
   "metadata": {},
   "outputs": [
    {
     "name": "stderr",
     "output_type": "stream",
     "text": [
      "/Users/4NX1/opt/anaconda3/lib/python3.9/site-packages/sklearn/linear_model/_coordinate_descent.py:2441: ConvergenceWarning: Objective did not converge. You might want to increase the number of iterations. Duality gap: 3446.138395326542, tolerance: 1.4862279330972903\n",
      "  ) = cd_fast.enet_coordinate_descent_multi_task(\n",
      "/Users/4NX1/opt/anaconda3/lib/python3.9/site-packages/sklearn/linear_model/_coordinate_descent.py:2441: ConvergenceWarning: Objective did not converge. You might want to increase the number of iterations. Duality gap: 4011.880495590921, tolerance: 1.80744621250674\n",
      "  ) = cd_fast.enet_coordinate_descent_multi_task(\n",
      "/Users/4NX1/opt/anaconda3/lib/python3.9/site-packages/sklearn/linear_model/_coordinate_descent.py:2441: ConvergenceWarning: Objective did not converge. You might want to increase the number of iterations. Duality gap: 4241.784144537901, tolerance: 2.0304403071172494\n",
      "  ) = cd_fast.enet_coordinate_descent_multi_task(\n",
      "/Users/4NX1/opt/anaconda3/lib/python3.9/site-packages/sklearn/linear_model/_coordinate_descent.py:2441: ConvergenceWarning: Objective did not converge. You might want to increase the number of iterations. Duality gap: 4456.473599120065, tolerance: 2.1776771374960067\n",
      "  ) = cd_fast.enet_coordinate_descent_multi_task(\n",
      "/Users/4NX1/opt/anaconda3/lib/python3.9/site-packages/sklearn/linear_model/_coordinate_descent.py:2441: ConvergenceWarning: Objective did not converge. You might want to increase the number of iterations. Duality gap: 4662.269284261235, tolerance: 2.419674466318486\n",
      "  ) = cd_fast.enet_coordinate_descent_multi_task(\n",
      "/Users/4NX1/opt/anaconda3/lib/python3.9/site-packages/sklearn/linear_model/_coordinate_descent.py:2441: ConvergenceWarning: Objective did not converge. You might want to increase the number of iterations. Duality gap: 4905.939473663033, tolerance: 2.539146781565879\n",
      "  ) = cd_fast.enet_coordinate_descent_multi_task(\n",
      "/Users/4NX1/opt/anaconda3/lib/python3.9/site-packages/sklearn/linear_model/_coordinate_descent.py:2441: ConvergenceWarning: Objective did not converge. You might want to increase the number of iterations. Duality gap: 5233.916517954885, tolerance: 2.635121635122628\n",
      "  ) = cd_fast.enet_coordinate_descent_multi_task(\n",
      "/Users/4NX1/opt/anaconda3/lib/python3.9/site-packages/sklearn/linear_model/_coordinate_descent.py:2441: ConvergenceWarning: Objective did not converge. You might want to increase the number of iterations. Duality gap: 5652.359761618967, tolerance: 2.7400288496294363\n",
      "  ) = cd_fast.enet_coordinate_descent_multi_task(\n",
      "/Users/4NX1/opt/anaconda3/lib/python3.9/site-packages/sklearn/linear_model/_coordinate_descent.py:2441: ConvergenceWarning: Objective did not converge. You might want to increase the number of iterations. Duality gap: 6246.137305961333, tolerance: 2.9233035686316695\n",
      "  ) = cd_fast.enet_coordinate_descent_multi_task(\n",
      "/Users/4NX1/opt/anaconda3/lib/python3.9/site-packages/sklearn/linear_model/_coordinate_descent.py:2441: ConvergenceWarning: Objective did not converge. You might want to increase the number of iterations. Duality gap: 6597.265796881567, tolerance: 3.041051092498289\n",
      "  ) = cd_fast.enet_coordinate_descent_multi_task(\n",
      "/Users/4NX1/opt/anaconda3/lib/python3.9/site-packages/skopt/optimizer/optimizer.py:449: UserWarning: The objective has been evaluated at this point before.\n",
      "  warnings.warn(\"The objective has been evaluated \"\n"
     ]
    },
    {
     "name": "stdout",
     "output_type": "stream",
     "text": [
      "Optimal point: [0.001858680877495989, 0.9411703398848764]\n",
      "Function value at optimal point: 0.11700647966024305\n"
     ]
    },
    {
     "data": {
      "image/png": "[encoded data removed]",
      "text/plain": [
       "<Figure size 864x288 with 1 Axes>"
      ]
     },
     "metadata": {
      "needs_background": "light"
     },
     "output_type": "display_data"
    }
   ],
   "source": [
    "# search space for the hyperparameters\n",
    "#     a = 0 -> ridge reg (shrink but not remove parameters, most variables are useful)\n",
    "#     a = 1 -> lasso reg (eliminates parameters, model contains lot of useless variables)\n",
    "#     lambda = 0 -> no penalty\n",
    "space = [space.Real(0.0001, 1, name='alpha'), \n",
    "         space.Real(0.0001, 1, name='l1_ratio')]\n",
    "\n",
    "# objective function to minimize\n",
    "def objective(params):\n",
    "    alpha, l1_ratio = params\n",
    "    model = MultiTaskElasticNet(alpha=alpha, l1_ratio=l1_ratio)\n",
    "    scores = cross_validation(data_set, model, True)\n",
    "    return np.mean(scores['mse_valid'])\n",
    "\n",
    "# perform the optimization\n",
    "result = gp_minimize(objective, space)\n",
    "\n",
    "# optimal point and function value\n",
    "print(\"Optimal point:\", result.x)\n",
    "print(\"Function value at optimal point:\", result.fun)\n",
    "ax = pd.DataFrame(result.func_vals).plot(figsize=(12,4))"
   ]
  },
  {
   "cell_type": "code",
   "execution_count": 9,
   "id": "2a4f9b3c",
   "metadata": {},
   "outputs": [
    {
     "data": {
      "text/html": [
       "<div>\n",
       "<style scoped>\n",
       "    .dataframe tbody tr th:only-of-type {\n",
       "        vertical-align: middle;\n",
       "    }\n",
       "\n",
       "    .dataframe tbody tr th {\n",
       "        vertical-align: top;\n",
       "    }\n",
       "\n",
       "    .dataframe thead th {\n",
       "        text-align: right;\n",
       "    }\n",
       "</style>\n",
       "<table border=\"1\" class=\"dataframe\">\n",
       "  <thead>\n",
       "    <tr style=\"text-align: right;\">\n",
       "      <th></th>\n",
       "      <th>Model</th>\n",
       "      <th>opt_params</th>\n",
       "      <th>fun_min</th>\n",
       "    </tr>\n",
       "  </thead>\n",
       "  <tbody>\n",
       "    <tr>\n",
       "      <th>0</th>\n",
       "      <td>MultiTaskElasticNet()</td>\n",
       "      <td>[0.001858680877495989, 0.9411703398848764]</td>\n",
       "      <td>0.117006</td>\n",
       "    </tr>\n",
       "  </tbody>\n",
       "</table>\n",
       "</div>"
      ],
      "text/plain": [
       "                   Model                                  opt_params   fun_min\n",
       "0  MultiTaskElasticNet()  [0.001858680877495989, 0.9411703398848764]  0.117006"
      ]
     },
     "metadata": {},
     "output_type": "display_data"
    }
   ],
   "source": [
    "# safe to excel\n",
    "prelim_result = {'Model': [default_param_model],\n",
    "           'opt_params': [result.x],\n",
    "           'fun_min': [result.fun]\n",
    "          }\n",
    "\n",
    "display(pd.DataFrame(prelim_result))\n",
    "storage_name = str(default_param_model) + \"_\" + vif + str(datetime.today().day) + str(datetime.today().hour) + \".xlsx\"\n",
    "pd.DataFrame(prelim_result).to_excel(path + \"artifacts\" + slash + storage_name, index=None)"
   ]
  },
  {
   "cell_type": "markdown",
   "id": "944008a8",
   "metadata": {},
   "source": [
    "## Time Series Cross Validation on Optimal Model"
   ]
  },
  {
   "cell_type": "code",
   "execution_count": 17,
   "id": "12d9fd11",
   "metadata": {},
   "outputs": [],
   "source": [
    "# ---------------- config opt model -----------------\n",
    "opt_model = MultiTaskElasticNet(alpha=0.001858680877495989, l1_ratio=0.9411703398848764)"
   ]
  },
  {
   "cell_type": "code",
   "execution_count": 18,
   "id": "384b2456",
   "metadata": {},
   "outputs": [
    {
     "data": {
      "text/html": [
       "<div>\n",
       "<style scoped>\n",
       "    .dataframe tbody tr th:only-of-type {\n",
       "        vertical-align: middle;\n",
       "    }\n",
       "\n",
       "    .dataframe tbody tr th {\n",
       "        vertical-align: top;\n",
       "    }\n",
       "\n",
       "    .dataframe thead th {\n",
       "        text-align: right;\n",
       "    }\n",
       "</style>\n",
       "<table border=\"1\" class=\"dataframe\">\n",
       "  <thead>\n",
       "    <tr style=\"text-align: right;\">\n",
       "      <th></th>\n",
       "      <th>mse_train</th>\n",
       "      <th>mae_train</th>\n",
       "      <th>r2_train</th>\n",
       "      <th>mse_valid</th>\n",
       "      <th>mae_valid</th>\n",
       "      <th>r2_valid</th>\n",
       "    </tr>\n",
       "  </thead>\n",
       "  <tbody>\n",
       "    <tr>\n",
       "      <th>count</th>\n",
       "      <td>10.000000</td>\n",
       "      <td>10.000000</td>\n",
       "      <td>10.000000</td>\n",
       "      <td>10.000000</td>\n",
       "      <td>10.000000</td>\n",
       "      <td>10.000000</td>\n",
       "    </tr>\n",
       "    <tr>\n",
       "      <th>mean</th>\n",
       "      <td>0.108031</td>\n",
       "      <td>0.226005</td>\n",
       "      <td>0.194011</td>\n",
       "      <td>0.117006</td>\n",
       "      <td>0.236533</td>\n",
       "      <td>0.089956</td>\n",
       "    </tr>\n",
       "    <tr>\n",
       "      <th>std</th>\n",
       "      <td>0.001509</td>\n",
       "      <td>0.001676</td>\n",
       "      <td>0.004750</td>\n",
       "      <td>0.014762</td>\n",
       "      <td>0.014429</td>\n",
       "      <td>0.081471</td>\n",
       "    </tr>\n",
       "    <tr>\n",
       "      <th>min</th>\n",
       "      <td>0.105437</td>\n",
       "      <td>0.222649</td>\n",
       "      <td>0.187070</td>\n",
       "      <td>0.099788</td>\n",
       "      <td>0.216220</td>\n",
       "      <td>-0.109299</td>\n",
       "    </tr>\n",
       "    <tr>\n",
       "      <th>25%</th>\n",
       "      <td>0.107474</td>\n",
       "      <td>0.225598</td>\n",
       "      <td>0.191436</td>\n",
       "      <td>0.107373</td>\n",
       "      <td>0.225865</td>\n",
       "      <td>0.088411</td>\n",
       "    </tr>\n",
       "    <tr>\n",
       "      <th>50%</th>\n",
       "      <td>0.108087</td>\n",
       "      <td>0.226003</td>\n",
       "      <td>0.193107</td>\n",
       "      <td>0.108789</td>\n",
       "      <td>0.230967</td>\n",
       "      <td>0.104402</td>\n",
       "    </tr>\n",
       "    <tr>\n",
       "      <th>75%</th>\n",
       "      <td>0.109239</td>\n",
       "      <td>0.227072</td>\n",
       "      <td>0.197706</td>\n",
       "      <td>0.129582</td>\n",
       "      <td>0.248795</td>\n",
       "      <td>0.125576</td>\n",
       "    </tr>\n",
       "    <tr>\n",
       "      <th>max</th>\n",
       "      <td>0.109882</td>\n",
       "      <td>0.228565</td>\n",
       "      <td>0.201625</td>\n",
       "      <td>0.143055</td>\n",
       "      <td>0.258839</td>\n",
       "      <td>0.171944</td>\n",
       "    </tr>\n",
       "  </tbody>\n",
       "</table>\n",
       "</div>"
      ],
      "text/plain": [
       "       mse_train  mae_train   r2_train  mse_valid  mae_valid   r2_valid\n",
       "count  10.000000  10.000000  10.000000  10.000000  10.000000  10.000000\n",
       "mean    0.108031   0.226005   0.194011   0.117006   0.236533   0.089956\n",
       "std     0.001509   0.001676   0.004750   0.014762   0.014429   0.081471\n",
       "min     0.105437   0.222649   0.187070   0.099788   0.216220  -0.109299\n",
       "25%     0.107474   0.225598   0.191436   0.107373   0.225865   0.088411\n",
       "50%     0.108087   0.226003   0.193107   0.108789   0.230967   0.104402\n",
       "75%     0.109239   0.227072   0.197706   0.129582   0.248795   0.125576\n",
       "max     0.109882   0.228565   0.201625   0.143055   0.258839   0.171944"
      ]
     },
     "execution_count": 18,
     "metadata": {},
     "output_type": "execute_result"
    }
   ],
   "source": [
    "opt_model_tscv_scores = cross_validation(data_set, opt_model, True)\n",
    "pd.DataFrame(opt_model_tscv_scores).describe()"
   ]
  },
  {
   "cell_type": "code",
   "execution_count": 19,
   "id": "67dff089",
   "metadata": {},
   "outputs": [
    {
     "data": {
      "image/png": "[encoded data removed]",
      "text/plain": [
       "<Figure size 576x288 with 1 Axes>"
      ]
     },
     "metadata": {
      "needs_background": "light"
     },
     "output_type": "display_data"
    }
   ],
   "source": [
    "ax = pd.DataFrame(opt_model_tscv_scores).plot(figsize=(8,4))"
   ]
  },
  {
   "cell_type": "markdown",
   "id": "8eab9d1b",
   "metadata": {},
   "source": [
    "## Model Performance on Test Set"
   ]
  },
  {
   "cell_type": "code",
   "execution_count": 20,
   "id": "05ffb6be",
   "metadata": {},
   "outputs": [
    {
     "data": {
      "text/html": [
       "<div>\n",
       "<style scoped>\n",
       "    .dataframe tbody tr th:only-of-type {\n",
       "        vertical-align: middle;\n",
       "    }\n",
       "\n",
       "    .dataframe tbody tr th {\n",
       "        vertical-align: top;\n",
       "    }\n",
       "\n",
       "    .dataframe thead th {\n",
       "        text-align: right;\n",
       "    }\n",
       "</style>\n",
       "<table border=\"1\" class=\"dataframe\">\n",
       "  <thead>\n",
       "    <tr style=\"text-align: right;\">\n",
       "      <th></th>\n",
       "      <th>mse_test</th>\n",
       "      <th>mae_test</th>\n",
       "      <th>r2_test</th>\n",
       "    </tr>\n",
       "  </thead>\n",
       "  <tbody>\n",
       "    <tr>\n",
       "      <th>count</th>\n",
       "      <td>10.000000</td>\n",
       "      <td>10.000000</td>\n",
       "      <td>10.000000</td>\n",
       "    </tr>\n",
       "    <tr>\n",
       "      <th>mean</th>\n",
       "      <td>0.160355</td>\n",
       "      <td>0.266145</td>\n",
       "      <td>0.040033</td>\n",
       "    </tr>\n",
       "    <tr>\n",
       "      <th>std</th>\n",
       "      <td>0.021871</td>\n",
       "      <td>0.015728</td>\n",
       "      <td>0.062783</td>\n",
       "    </tr>\n",
       "    <tr>\n",
       "      <th>min</th>\n",
       "      <td>0.137663</td>\n",
       "      <td>0.248845</td>\n",
       "      <td>-0.109413</td>\n",
       "    </tr>\n",
       "    <tr>\n",
       "      <th>25%</th>\n",
       "      <td>0.145891</td>\n",
       "      <td>0.256136</td>\n",
       "      <td>0.014554</td>\n",
       "    </tr>\n",
       "    <tr>\n",
       "      <th>50%</th>\n",
       "      <td>0.153393</td>\n",
       "      <td>0.260481</td>\n",
       "      <td>0.053337</td>\n",
       "    </tr>\n",
       "    <tr>\n",
       "      <th>75%</th>\n",
       "      <td>0.172767</td>\n",
       "      <td>0.276613</td>\n",
       "      <td>0.086675</td>\n",
       "    </tr>\n",
       "    <tr>\n",
       "      <th>max</th>\n",
       "      <td>0.208926</td>\n",
       "      <td>0.298000</td>\n",
       "      <td>0.097274</td>\n",
       "    </tr>\n",
       "  </tbody>\n",
       "</table>\n",
       "</div>"
      ],
      "text/plain": [
       "        mse_test   mae_test    r2_test\n",
       "count  10.000000  10.000000  10.000000\n",
       "mean    0.160355   0.266145   0.040033\n",
       "std     0.021871   0.015728   0.062783\n",
       "min     0.137663   0.248845  -0.109413\n",
       "25%     0.145891   0.256136   0.014554\n",
       "50%     0.153393   0.260481   0.053337\n",
       "75%     0.172767   0.276613   0.086675\n",
       "max     0.208926   0.298000   0.097274"
      ]
     },
     "metadata": {},
     "output_type": "display_data"
    },
    {
     "name": "stdout",
     "output_type": "stream",
     "text": [
      "{'mse_test': 0.1538942058007105, 'mae_test': 0.26555709077372125, 'r2_test': 0.0409083796964292}\n"
     ]
    }
   ],
   "source": [
    "# default parameter model performance on test set (unseen data)\n",
    "default_param_model_test_shifted_scores = performance_test_shifted(data_set, default_param_model, True)\n",
    "display(pd.DataFrame(default_param_model_test_shifted_scores).describe())\n",
    "\n",
    "default_param_model_test_fixed_scores = performance_test_fixed(data_set, default_param_model, True)\n",
    "print(default_param_model_test_fixed_scores)"
   ]
  },
  {
   "cell_type": "code",
   "execution_count": 21,
   "id": "49cfe40f",
   "metadata": {},
   "outputs": [
    {
     "data": {
      "text/html": [
       "<div>\n",
       "<style scoped>\n",
       "    .dataframe tbody tr th:only-of-type {\n",
       "        vertical-align: middle;\n",
       "    }\n",
       "\n",
       "    .dataframe tbody tr th {\n",
       "        vertical-align: top;\n",
       "    }\n",
       "\n",
       "    .dataframe thead th {\n",
       "        text-align: right;\n",
       "    }\n",
       "</style>\n",
       "<table border=\"1\" class=\"dataframe\">\n",
       "  <thead>\n",
       "    <tr style=\"text-align: right;\">\n",
       "      <th></th>\n",
       "      <th>mse_test</th>\n",
       "      <th>mae_test</th>\n",
       "      <th>r2_test</th>\n",
       "    </tr>\n",
       "  </thead>\n",
       "  <tbody>\n",
       "    <tr>\n",
       "      <th>count</th>\n",
       "      <td>10.000000</td>\n",
       "      <td>10.000000</td>\n",
       "      <td>10.000000</td>\n",
       "    </tr>\n",
       "    <tr>\n",
       "      <th>mean</th>\n",
       "      <td>0.115877</td>\n",
       "      <td>0.235019</td>\n",
       "      <td>0.107551</td>\n",
       "    </tr>\n",
       "    <tr>\n",
       "      <th>std</th>\n",
       "      <td>0.015866</td>\n",
       "      <td>0.015793</td>\n",
       "      <td>0.054559</td>\n",
       "    </tr>\n",
       "    <tr>\n",
       "      <th>min</th>\n",
       "      <td>0.099802</td>\n",
       "      <td>0.216489</td>\n",
       "      <td>0.006210</td>\n",
       "    </tr>\n",
       "    <tr>\n",
       "      <th>25%</th>\n",
       "      <td>0.105513</td>\n",
       "      <td>0.224344</td>\n",
       "      <td>0.079894</td>\n",
       "    </tr>\n",
       "    <tr>\n",
       "      <th>50%</th>\n",
       "      <td>0.108934</td>\n",
       "      <td>0.229509</td>\n",
       "      <td>0.104214</td>\n",
       "    </tr>\n",
       "    <tr>\n",
       "      <th>75%</th>\n",
       "      <td>0.129847</td>\n",
       "      <td>0.248770</td>\n",
       "      <td>0.155764</td>\n",
       "    </tr>\n",
       "    <tr>\n",
       "      <th>max</th>\n",
       "      <td>0.142356</td>\n",
       "      <td>0.259465</td>\n",
       "      <td>0.170841</td>\n",
       "    </tr>\n",
       "  </tbody>\n",
       "</table>\n",
       "</div>"
      ],
      "text/plain": [
       "        mse_test   mae_test    r2_test\n",
       "count  10.000000  10.000000  10.000000\n",
       "mean    0.115877   0.235019   0.107551\n",
       "std     0.015866   0.015793   0.054559\n",
       "min     0.099802   0.216489   0.006210\n",
       "25%     0.105513   0.224344   0.079894\n",
       "50%     0.108934   0.229509   0.104214\n",
       "75%     0.129847   0.248770   0.155764\n",
       "max     0.142356   0.259465   0.170841"
      ]
     },
     "metadata": {},
     "output_type": "display_data"
    },
    {
     "name": "stdout",
     "output_type": "stream",
     "text": [
      "{'mse_test': 0.11510765610940504, 'mae_test': 0.2340276602065941, 'r2_test': 0.09191732174377307}\n"
     ]
    }
   ],
   "source": [
    "# optimal parameter model performance on test set (unseen data)\n",
    "opt_model_test_shifted_scores = performance_test_shifted(data_set, opt_model, True)\n",
    "display(pd.DataFrame(opt_model_test_shifted_scores).describe())\n",
    "\n",
    "opt_model_test_fixed_scores = performance_test_fixed(data_set, opt_model, True)\n",
    "print(opt_model_test_fixed_scores)"
   ]
  },
  {
   "cell_type": "code",
   "execution_count": 22,
   "id": "2970bd56",
   "metadata": {},
   "outputs": [
    {
     "data": {
      "image/png": "[encoded data removed]",
      "text/plain": [
       "<Figure size 576x288 with 1 Axes>"
      ]
     },
     "metadata": {
      "needs_background": "light"
     },
     "output_type": "display_data"
    }
   ],
   "source": [
    "ax = pd.DataFrame(opt_model_test_shifted_scores).plot(figsize=(8,4))"
   ]
  },
  {
   "cell_type": "code",
   "execution_count": 24,
   "id": "b310dc84",
   "metadata": {},
   "outputs": [
    {
     "data": {
      "text/html": [
       "<div>\n",
       "<style scoped>\n",
       "    .dataframe tbody tr th:only-of-type {\n",
       "        vertical-align: middle;\n",
       "    }\n",
       "\n",
       "    .dataframe tbody tr th {\n",
       "        vertical-align: top;\n",
       "    }\n",
       "\n",
       "    .dataframe thead th {\n",
       "        text-align: right;\n",
       "    }\n",
       "</style>\n",
       "<table border=\"1\" class=\"dataframe\">\n",
       "  <thead>\n",
       "    <tr style=\"text-align: right;\">\n",
       "      <th></th>\n",
       "      <th>Model</th>\n",
       "      <th>vif</th>\n",
       "      <th>opt_params</th>\n",
       "      <th>fun_min</th>\n",
       "      <th>mse_tscv</th>\n",
       "      <th>mae_tscv</th>\n",
       "      <th>r2_tscv</th>\n",
       "      <th>mse_test_shifted</th>\n",
       "      <th>mae_test_shifted</th>\n",
       "      <th>r2_test_shifted</th>\n",
       "      <th>mse_test_fixed</th>\n",
       "      <th>mae_test_fixed</th>\n",
       "      <th>r2_test_fixed</th>\n",
       "      <th>opt_model</th>\n",
       "    </tr>\n",
       "  </thead>\n",
       "  <tbody>\n",
       "    <tr>\n",
       "      <th>0</th>\n",
       "      <td>MultiTaskElasticNet()</td>\n",
       "      <td>all</td>\n",
       "      <td>[0.001858680877495989, 0.9411703398848764]</td>\n",
       "      <td>0.117006</td>\n",
       "      <td>0.117006</td>\n",
       "      <td>0.236533</td>\n",
       "      <td>0.089956</td>\n",
       "      <td>0.115877</td>\n",
       "      <td>0.235019</td>\n",
       "      <td>0.107551</td>\n",
       "      <td>0.115108</td>\n",
       "      <td>0.234028</td>\n",
       "      <td>0.091917</td>\n",
       "      <td>{'alpha': 0.001858680877495989, 'copy_X': True, 'fit_intercept': True, 'l1_ratio': 0.9411703398848764, 'max_iter': 1000, 'normalize': 'deprecated', 'random_state': None, 'selection': 'cyclic', 'tol': 0.0001, 'warm_start': False}</td>\n",
       "    </tr>\n",
       "  </tbody>\n",
       "</table>\n",
       "</div>"
      ],
      "text/plain": [
       "                   Model  vif                                  opt_params  \\\n",
       "0  MultiTaskElasticNet()  all  [0.001858680877495989, 0.9411703398848764]   \n",
       "\n",
       "    fun_min  mse_tscv  mae_tscv   r2_tscv  mse_test_shifted  mae_test_shifted  \\\n",
       "0  0.117006  0.117006  0.236533  0.089956          0.115877          0.235019   \n",
       "\n",
       "   r2_test_shifted  mse_test_fixed  mae_test_fixed  r2_test_fixed  \\\n",
       "0         0.107551        0.115108        0.234028       0.091917   \n",
       "\n",
       "                                                                                                                                                                                                                              opt_model  \n",
       "0  {'alpha': 0.001858680877495989, 'copy_X': True, 'fit_intercept': True, 'l1_ratio': 0.9411703398848764, 'max_iter': 1000, 'normalize': 'deprecated', 'random_state': None, 'selection': 'cyclic', 'tol': 0.0001, 'warm_start': False}  "
      ]
     },
     "metadata": {},
     "output_type": "display_data"
    }
   ],
   "source": [
    "# safe to excel (parametric)\n",
    "results = {'Model': [default_param_model],\n",
    "           'vif': [vif],\n",
    "           'opt_params': [result.x],\n",
    "           'fun_min': [result.fun],\n",
    "           'mse_tscv': [pd.DataFrame(opt_model_tscv_scores).mse_valid.mean()],\n",
    "           'mae_tscv': [pd.DataFrame(opt_model_tscv_scores).mae_valid.mean()],\n",
    "           'r2_tscv': [pd.DataFrame(opt_model_tscv_scores).r2_valid.mean()],\n",
    "           'mse_test_shifted': [pd.DataFrame(opt_model_test_shifted_scores).mse_test.mean()],\n",
    "           'mae_test_shifted': [pd.DataFrame(opt_model_test_shifted_scores).mae_test.mean()],\n",
    "           'r2_test_shifted': [pd.DataFrame(opt_model_test_shifted_scores).r2_test.mean()],\n",
    "           'mse_test_fixed': [opt_model_test_fixed_scores['mse_test']],\n",
    "           'mae_test_fixed': [opt_model_test_fixed_scores['mae_test']],\n",
    "           'r2_test_fixed': [opt_model_test_fixed_scores['r2_test']],   \n",
    "            'opt_model': [opt_model.get_params()]\n",
    "          }\n",
    "\n",
    "display(pd.DataFrame(results))\n",
    "storage_name = str(default_param_model) + \"_\" + vif + str(datetime.today().day) + str(datetime.today().hour) + \".xlsx\"\n",
    "pd.DataFrame(results).to_excel(path + \"artifacts\" + slash + storage_name, index=None)"
   ]
  }
 ],
 "metadata": {
  "kernelspec": {
   "display_name": "Python 3 (ipykernel)",
   "language": "python",
   "name": "python3"
  },
  "language_info": {
   "codemirror_mode": {
    "name": "ipython",
    "version": 3
   },
   "file_extension": ".py",
   "mimetype": "text/x-python",
   "name": "python",
   "nbconvert_exporter": "python",
   "pygments_lexer": "ipython3",
   "version": "3.9.13"
  }
 },
 "nbformat": 4,
 "nbformat_minor": 5
}
