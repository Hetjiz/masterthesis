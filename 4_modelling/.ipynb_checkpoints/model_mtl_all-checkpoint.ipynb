{
 "cells": [
  {
   "cell_type": "markdown",
   "id": "73085038",
   "metadata": {},
   "source": [
    "# Multi-Task Lasso\n",
    "This is another linear model that is trained to minimize the sum of two different objective functions, similar to Multi-Task Elastic Net.\n",
    "\n",
    "https://scikit-learn.org/stable/modules/linear_model.html#multi-task-lasso\n",
    "\n",
    "MultiTaskLasso()\n",
    "\n",
    "{'alpha': 1.0,   \n",
    " 'copy_X': True,   \n",
    " 'fit_intercept': True,   \n",
    " 'max_iter': 1000,   \n",
    " 'normalize': 'deprecated',   \n",
    " 'random_state': None,   \n",
    " 'selection': 'cyclic',   \n",
    " 'tol': 0.0001,   \n",
    " 'warm_start': False}"
   ]
  },
  {
   "cell_type": "code",
   "execution_count": null,
   "id": "eda41918",
   "metadata": {},
   "outputs": [],
   "source": [
    "# config 'all', 'vif_5' or 'vif_10'\n",
    "vif = 'all'"
   ]
  },
  {
   "cell_type": "code",
   "execution_count": null,
   "id": "1630d5ac",
   "metadata": {},
   "outputs": [],
   "source": [
    "from datetime import datetime\n",
    "import matplotlib.pyplot as plt\n",
    "import numpy as np\n",
    "import pandas as pd\n",
    "import pathlib\n",
    "import platform\n",
    "import seaborn as sns\n",
    "from sklearn import linear_model\n",
    "from sklearn.linear_model import MultiTaskElasticNet\n",
    "from sklearn.linear_model import MultiTaskLasso\n",
    "from sklearn.metrics import mean_squared_error\n",
    "from sklearn.metrics import mean_absolute_error\n",
    "from sklearn.preprocessing import StandardScaler\n",
    "from skopt import gp_minimize, space\n",
    "import sys\n",
    "\n",
    "from validation import cross_validation\n",
    "from validation import performance_test_fixed\n",
    "from validation import performance_test_shifted\n",
    "\n",
    "date_format = \"%Y-%m-%d\"\n",
    "\n",
    "pd.options.display.max_columns = None\n",
    "pd.options.display.max_rows = None\n",
    "pd.options.display.max_colwidth = None"
   ]
  },
  {
   "cell_type": "code",
   "execution_count": null,
   "id": "15964d92",
   "metadata": {},
   "outputs": [],
   "source": [
    "my_os = platform.system()\n",
    "print(\"OS in my system: \",my_os)\n",
    "\n",
    "if my_os == \"Windows\":\n",
    "    path = str(pathlib.Path().absolute()) + '\\\\'\n",
    "    slash = '\\\\'\n",
    "else:\n",
    "    path = str(pathlib.Path().absolute()) + '/'\n",
    "    slash = '/'\n",
    "\n",
    "path_3 = path.replace('4_modelling', '3_data_pre-processing')"
   ]
  },
  {
   "cell_type": "markdown",
   "id": "910f8ca5",
   "metadata": {},
   "source": [
    "## Load Data"
   ]
  },
  {
   "cell_type": "code",
   "execution_count": null,
   "id": "c329743f",
   "metadata": {},
   "outputs": [],
   "source": [
    "data_set = pd.read_csv(path_3 + 'data_artifacts' + slash + 'data_set_e_spx_3-' + vif + '.csv', index_col=0)"
   ]
  },
  {
   "cell_type": "markdown",
   "id": "112a513b",
   "metadata": {},
   "source": [
    "## Time Series Cross Validation on Default Model"
   ]
  },
  {
   "cell_type": "code",
   "execution_count": null,
   "id": "e081923c",
   "metadata": {},
   "outputs": [],
   "source": [
    "default_param_model = MultiTaskLasso(alpha=0.8)\n",
    "default_param_model.get_params()"
   ]
  },
  {
   "cell_type": "code",
   "execution_count": null,
   "id": "42c4296c",
   "metadata": {},
   "outputs": [],
   "source": [
    "default_param_model_scores = cross_validation (data_set, default_param_model, True)\n",
    "pd.DataFrame(default_param_model_scores).describe()"
   ]
  },
  {
   "cell_type": "code",
   "execution_count": null,
   "id": "64dfa63c",
   "metadata": {},
   "outputs": [],
   "source": [
    "ax = pd.DataFrame(default_param_model_scores).plot(figsize=(8,4))"
   ]
  },
  {
   "cell_type": "markdown",
   "id": "66d960c4",
   "metadata": {},
   "source": [
    "## Hyperparameter Optimization with Time Series Cross Validation\n",
    "- Bayesian optimization\n",
    "- https://scikit-optimize.github.io/stable/auto_examples/bayesian-optimization.html"
   ]
  },
  {
   "cell_type": "code",
   "execution_count": null,
   "id": "abfb5ebe",
   "metadata": {},
   "outputs": [],
   "source": [
    "#%debug\n",
    "# search space for the hyperparameters\n",
    "#space = [space.Real(0.9, 1, name='alpha'), \n",
    " #        space.Real(0.9, 1, name='l1_ratio')]\n",
    "space = [(0,1)]\n",
    "\n",
    "# objective function to minimize\n",
    "def objective(params):\n",
    "    alpha = params\n",
    "    model = MultiTaskLasso(alpha=alpha)\n",
    "    scores = cross_validation(data_set, model, True)\n",
    "    return np.mean(scores['mse_valid'])\n",
    "\n",
    "# perform the optimization\n",
    "result = gp_minimize(objective, space)\n",
    "\n",
    "# optimal point and function value\n",
    "print(\"Optimal point:\", result.x)\n",
    "print(\"Function value at optimal point:\", result.fun)\n",
    "ax = pd.DataFrame(result.func_vals).plot(figsize=(12,4))"
   ]
  },
  {
   "cell_type": "code",
   "execution_count": null,
   "id": "2a4f9b3c",
   "metadata": {},
   "outputs": [],
   "source": [
    "# safe to excel\n",
    "prelim_result = {'Model': [default_param_model],\n",
    "           'opt_params': [result.x],\n",
    "           'fun_min': [result.fun]\n",
    "          }\n",
    "\n",
    "display(pd.DataFrame(prelim_result))\n",
    "storage_name = str(default_param_model) + str(datetime.today().day) + str(datetime.today().hour) +\".xlsx\"\n",
    "pd.DataFrame(prelim_result).to_excel(path + \"artifacts\" + slash + storage_name, index=None)"
   ]
  },
  {
   "cell_type": "markdown",
   "id": "944008a8",
   "metadata": {},
   "source": [
    "## Time Series Cross Validation on Optimal Model"
   ]
  },
  {
   "cell_type": "code",
   "execution_count": null,
   "id": "12d9fd11",
   "metadata": {},
   "outputs": [],
   "source": [
    "# ---------------- config opt model -----------------\n",
    "opt_model = MultiTaskLasso(alpha=0.9, l1_ratio=0.9)"
   ]
  },
  {
   "cell_type": "code",
   "execution_count": null,
   "id": "384b2456",
   "metadata": {},
   "outputs": [],
   "source": [
    "opt_model_tscv_scores = cross_validation (data_set, opt_model, True)\n",
    "pd.DataFrame(opt_model_tscv_scores).describe()"
   ]
  },
  {
   "cell_type": "code",
   "execution_count": null,
   "id": "67dff089",
   "metadata": {},
   "outputs": [],
   "source": [
    "ax = pd.DataFrame(opt_model_tscv_scores).plot(figsize=(8,4))"
   ]
  },
  {
   "cell_type": "markdown",
   "id": "8eab9d1b",
   "metadata": {},
   "source": [
    "## Model Performance on Test Set"
   ]
  },
  {
   "cell_type": "code",
   "execution_count": null,
   "id": "05ffb6be",
   "metadata": {},
   "outputs": [],
   "source": [
    "# default parameter model performance on test set (unseen data)\n",
    "default_param_model_test_shifted_scores = performance_test_shifted(data_set, default_param_model, True)\n",
    "display(pd.DataFrame(default_param_model_test_shifted_scores).describe())\n",
    "\n",
    "default_param_model_test_fixed_scores = performance_test_fixed(data_set, default_param_model, True)\n",
    "print(default_param_model_test_fixed_scores)"
   ]
  },
  {
   "cell_type": "code",
   "execution_count": null,
   "id": "49cfe40f",
   "metadata": {},
   "outputs": [],
   "source": [
    "# optimal parameter model performance on test set (unseen data)\n",
    "opt_model_test_shifted_scores = performance_test_shifted(data_set, opt_model, True)\n",
    "display(pd.DataFrame(opt_model_test_shifted_scores).describe())\n",
    "\n",
    "opt_model_test_fixed_scores = performance_test_fixed(data_set, opt_model, True)\n",
    "print(opt_model_test_fixed_scores)"
   ]
  },
  {
   "cell_type": "code",
   "execution_count": null,
   "id": "2970bd56",
   "metadata": {},
   "outputs": [],
   "source": [
    "ax = pd.DataFrame(opt_model_test_shifted_scores).plot(figsize=(8,4))"
   ]
  },
  {
   "cell_type": "code",
   "execution_count": null,
   "id": "b310dc84",
   "metadata": {},
   "outputs": [],
   "source": [
    "# safe to excel (parametric)\n",
    "results = {'Model': [default_param_model],\n",
    "           'vif': [vif],\n",
    "           'opt_params': [result.x],\n",
    "           'fun_min': [result.fun],\n",
    "           'mse_tscv': [pd.DataFrame(opt_model_tscv_scores).mse_valid.mean()],\n",
    "           'mae_tscv': [pd.DataFrame(opt_model_tscv_scores).mae_valid.mean()],\n",
    "           'r2_tscv': [pd.DataFrame(opt_model_tscv_scores).r2_valid.mean()],\n",
    "           'mse_test_shifte': [pd.DataFrame(opt_model_test_shifted_scores).mse_test.mean()],\n",
    "           'mae_test_shifted': [pd.DataFrame(opt_model_test_shifted_scores).mae_test.mean()],\n",
    "           'r2_test_shifted': [pd.DataFrame(opt_model_test_shifted_scores).r2_test.mean()],\n",
    "           'mse_test_fixed': [opt_model_test_fixed_scores['mse_test']],\n",
    "           'mae_test_fixed': [opt_model_test_fixed_scores['mae_test']],\n",
    "           'r2_test_fixed': [opt_model_test_fixed_scores['r2_test']],   \n",
    "            'opt_model': [opt_model.get_params()]\n",
    "          }\n",
    "\n",
    "display(pd.DataFrame(results))\n",
    "storage_name = str(opt_model) + \"_\" + vif + str(datetime.today().day) + str(datetime.today().hour) + \".xlsx\"\n",
    "pd.DataFrame(results).to_excel(path + \"artifacts\" + slash + storage_name, index=None)"
   ]
  }
 ],
 "metadata": {
  "kernelspec": {
   "display_name": "Python 3 (ipykernel)",
   "language": "python",
   "name": "python3"
  },
  "language_info": {
   "codemirror_mode": {
    "name": "ipython",
    "version": 3
   },
   "file_extension": ".py",
   "mimetype": "text/x-python",
   "name": "python",
   "nbconvert_exporter": "python",
   "pygments_lexer": "ipython3",
   "version": "3.9.13"
  }
 },
 "nbformat": 4,
 "nbformat_minor": 5
}
