{
 "cells": [
  {
   "cell_type": "markdown",
   "id": "8d8b2ce4",
   "metadata": {},
   "source": [
    "# Multi-Task Gaussian Process\n",
    "\n",
    "This is a non-parametric model that can be used for multi-task learning. It can be used for both classification and regression tasks.   \n",
    "https://scikit-learn.org/stable/modules/gaussian_process.html\n",
    "\n",
    "gaussian_process.GaussianProcessRegressor()   \n",
    "\n",
    "**_no hyperparameter tuning_**"
   ]
  },
  {
   "cell_type": "markdown",
   "id": "ebe12cc3",
   "metadata": {},
   "source": [
    "https://towardsdatascience.com/gaussian-process-kernels-96bafb4dd63e    \n",
    "https://www.youtube.com/watch?v=QvcHrwXS4_U&ab_channel=JFL"
   ]
  },
  {
   "cell_type": "markdown",
   "id": "3edaa8a7",
   "metadata": {},
   "source": [
    "# ---- TODO: Check for hyperparam tuning"
   ]
  },
  {
   "cell_type": "code",
   "execution_count": 1,
   "id": "26a6ed89",
   "metadata": {},
   "outputs": [],
   "source": [
    "# config 'all', 'vif_5' or 'vif_10'\n",
    "vif = 'all'"
   ]
  },
  {
   "cell_type": "code",
   "execution_count": 2,
   "id": "c37b01b3",
   "metadata": {},
   "outputs": [],
   "source": [
    "from datetime import datetime\n",
    "import matplotlib.pyplot as plt\n",
    "import numpy as np\n",
    "import pandas as pd\n",
    "import pathlib\n",
    "import platform\n",
    "import seaborn as sns\n",
    "from sklearn.gaussian_process import GaussianProcessRegressor\n",
    "from sklearn.gaussian_process.kernels import DotProduct, WhiteKernel\n",
    "#https://scikit-learn.org/stable/modules/classes.html#module-sklearn.gaussian_process\n",
    "from sklearn.metrics import mean_squared_error\n",
    "from sklearn.metrics import mean_absolute_error\n",
    "from sklearn.preprocessing import StandardScaler\n",
    "from skopt import gp_minimize, space\n",
    "import sys\n",
    "\n",
    "from validation import cross_validation\n",
    "from validation import performance_test_fixed\n",
    "from validation import performance_test_shifted\n",
    "\n",
    "date_format = \"%Y-%m-%d\"\n",
    "\n",
    "pd.options.display.max_columns = None\n",
    "pd.options.display.max_rows = None\n",
    "pd.options.display.max_colwidth = None"
   ]
  },
  {
   "cell_type": "code",
   "execution_count": 3,
   "id": "f66a838e",
   "metadata": {},
   "outputs": [
    {
     "name": "stdout",
     "output_type": "stream",
     "text": [
      "OS in my system:  Windows\n"
     ]
    }
   ],
   "source": [
    "my_os = platform.system()\n",
    "print(\"OS in my system: \",my_os)\n",
    "\n",
    "if my_os == \"Windows\":\n",
    "    path = str(pathlib.Path().absolute()) + '\\\\'\n",
    "    slash = '\\\\'\n",
    "else:\n",
    "    path = str(pathlib.Path().absolute()) + '/'\n",
    "    slash = '/'\n",
    "\n",
    "path_3 = path.replace('4_modelling', '3_data_pre-processing')"
   ]
  },
  {
   "cell_type": "markdown",
   "id": "910f8ca5",
   "metadata": {},
   "source": [
    "## Load Data"
   ]
  },
  {
   "cell_type": "code",
   "execution_count": 4,
   "id": "c329743f",
   "metadata": {},
   "outputs": [],
   "source": [
    "data = pd.read_csv(path_3 + 'data_artifacts' + slash + 'data_set_e_spx_3-' + vif + '.csv', index_col=0)"
   ]
  },
  {
   "cell_type": "markdown",
   "id": "20a19307",
   "metadata": {},
   "source": [
    "# ----------------------------------------------------\n",
    "# FIRST TRY WITH MODEL"
   ]
  },
  {
   "cell_type": "code",
   "execution_count": null,
   "id": "fb4ee0bf",
   "metadata": {},
   "outputs": [],
   "source": []
  },
  {
   "cell_type": "code",
   "execution_count": null,
   "id": "ba15a2b8",
   "metadata": {},
   "outputs": [],
   "source": []
  },
  {
   "cell_type": "code",
   "execution_count": 5,
   "id": "8c09f5a7",
   "metadata": {},
   "outputs": [],
   "source": [
    "multi_target = False"
   ]
  },
  {
   "cell_type": "code",
   "execution_count": 6,
   "id": "ffece340",
   "metadata": {},
   "outputs": [],
   "source": [
    "X_head_drop = ['tau_target', 'symbol', 'ric', 'year', 'fam_target_clayton', 'fam_target_frank', 'fam_target_gaussian',\n",
    "            'fam_target_gumbel', 'fam_target_indep', 'fam_target_joe', 'fam_target_student']\n",
    "y_head_multi_target = ['tau_target', 'fam_target_clayton', 'fam_target_frank', 'fam_target_gaussian', 'fam_target_gumbel',\n",
    "                    'fam_target_indep', 'fam_target_joe', 'fam_target_student']\n",
    "y_head_single_target = ['tau_target']"
   ]
  },
  {
   "cell_type": "code",
   "execution_count": 7,
   "id": "745645d9",
   "metadata": {},
   "outputs": [],
   "source": [
    "# train test split\n",
    "train = data[(data['year'] >= (2000)) & (data['year'] <= (2018))]\n",
    "test = data[(data['year'] >= (2019)) & (data['year'] <= (2020))]\n",
    "\n",
    "X_train = train.drop(columns=X_head_drop)\n",
    "X_test = test.drop(columns=X_head_drop)\n",
    "\n",
    "if multi_target == False:\n",
    "    y_train = train[y_head_single_target]\n",
    "    y_test = test[y_head_single_target]\n",
    "else:\n",
    "    y_train = train[y_head_multi_target]\n",
    "    y_test = test[y_head_multi_target]"
   ]
  },
  {
   "cell_type": "code",
   "execution_count": null,
   "id": "8e636b6b",
   "metadata": {},
   "outputs": [],
   "source": [
    "kernel = DotProduct()\n",
    "gp = GaussianProcessRegressor(kernel=kernel, random_state=0, n_restarts_optimizer=5)\n",
    "gp.fit(X_train, y_train)\n",
    "\n",
    "# Return the coefficient of determination R^2 of the prediction.\n",
    "gp.score(X_train, y_train)"
   ]
  },
  {
   "cell_type": "code",
   "execution_count": null,
   "id": "948c0681",
   "metadata": {},
   "outputs": [],
   "source": [
    "gp.get_params()"
   ]
  },
  {
   "cell_type": "code",
   "execution_count": null,
   "id": "02b27858",
   "metadata": {},
   "outputs": [],
   "source": [
    "gp.predict()"
   ]
  },
  {
   "cell_type": "code",
   "execution_count": null,
   "id": "4b20ce9b",
   "metadata": {},
   "outputs": [],
   "source": []
  },
  {
   "cell_type": "code",
   "execution_count": null,
   "id": "330fe503",
   "metadata": {},
   "outputs": [],
   "source": []
  },
  {
   "cell_type": "code",
   "execution_count": null,
   "id": "9ed48e75",
   "metadata": {},
   "outputs": [],
   "source": []
  },
  {
   "cell_type": "code",
   "execution_count": null,
   "id": "27df5523",
   "metadata": {},
   "outputs": [],
   "source": []
  },
  {
   "cell_type": "code",
   "execution_count": null,
   "id": "7701317d",
   "metadata": {},
   "outputs": [],
   "source": []
  },
  {
   "cell_type": "markdown",
   "id": "87de92f6",
   "metadata": {},
   "source": [
    "You can implement a multi-task Gaussian process (MTGP) in Python using the GPy library. Here's an outline of the steps:\n",
    "- Install GPy library: You can install GPy using the following command: pip install GPy\n",
    "- Load data: Load your multi-task data into a numpy array.\n",
    "- Define task covariance structure: Decide on the covariance structure between tasks (e.g. full, diagonal, or low-rank).\n",
    "- Define GP model: Define the MTGP model using GPy's gp_multitask_regression or gpmulti class, specifying the covariance structure and data.\n",
    "- Fit the model: Fit the MTGP model to the data using the .fit() method.\n",
    "- Predict: Use the .predict() method to make predictions for new data points."
   ]
  },
  {
   "cell_type": "code",
   "execution_count": null,
   "id": "576a8356",
   "metadata": {},
   "outputs": [],
   "source": [
    "import GPy\n",
    "import numpy as np\n",
    "\n",
    "# Load data\n",
    "X = np.random.rand(100, 1)\n",
    "Y = np.sin(X) + np.random.randn(100, 1) * 0.05\n",
    "\n",
    "# Define task covariance structure\n",
    "task_cov = GPy.kern.RBF(input_dim=1)\n",
    "\n",
    "# Define GP model\n",
    "m = GPy.models.gp_multitask_regression([X] * 2, [Y] * 2, task_covariance_structure=task_cov)\n",
    "\n",
    "# Fit the model\n",
    "m.optimize()\n",
    "\n",
    "# Predict\n",
    "x_new = np.linspace(0, 1, 10)[:, np.newaxis]\n",
    "y_pred, y_var = m.predict(x_new)\n"
   ]
  },
  {
   "cell_type": "markdown",
   "id": "da7f70db",
   "metadata": {},
   "source": [
    "or\n",
    "\n",
    "https://docs.gpytorch.ai/en/stable/examples/03_Multitask_Exact_GPs/Multitask_GP_Regression.html"
   ]
  }
 ],
 "metadata": {
  "kernelspec": {
   "display_name": "Python 3 (ipykernel)",
   "language": "python",
   "name": "python3"
  },
  "language_info": {
   "codemirror_mode": {
    "name": "ipython",
    "version": 3
   },
   "file_extension": ".py",
   "mimetype": "text/x-python",
   "name": "python",
   "nbconvert_exporter": "python",
   "pygments_lexer": "ipython3",
   "version": "3.9.13"
  }
 },
 "nbformat": 4,
 "nbformat_minor": 5
}
