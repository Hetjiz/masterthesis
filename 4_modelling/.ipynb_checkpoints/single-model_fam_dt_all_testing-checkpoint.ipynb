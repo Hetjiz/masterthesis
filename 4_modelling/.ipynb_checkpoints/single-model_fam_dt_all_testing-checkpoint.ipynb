{
 "cells": [
  {
   "cell_type": "markdown",
   "id": "73085038",
   "metadata": {},
   "source": [
    "# Decision Tree (copula family)\n",
    "This is a simple, yet powerful algorithm that can be used for both regression and classification problems. It works well with categorical data, as well as data with non-linear relationships.\n",
    "\n",
    "https://scikit-learn.org/stable/modules/tree.html#classification\n",
    "\n",
    "tree.DecisionTreeClassifier()\n",
    "\n",
    "{'ccp_alpha': 0.0,   \n",
    " 'class_weight': None,   \n",
    " 'criterion': 'gini',   \n",
    " 'max_depth': None,   \n",
    " 'max_features': None,   \n",
    " 'max_leaf_nodes': None,   \n",
    " 'min_impurity_decrease': 0.0,   \n",
    " 'min_samples_leaf': 1,   \n",
    " 'min_samples_split': 2,   \n",
    " 'min_weight_fraction_leaf': 0.0,   \n",
    " 'random_state': None,   \n",
    " 'splitter': 'best'}   \n",
    " \n",
    "**_bayesian hyperparameter tuning_**"
   ]
  },
  {
   "cell_type": "code",
   "execution_count": 1,
   "id": "eda41918",
   "metadata": {},
   "outputs": [],
   "source": [
    "# config 'all', 'vif_5' or 'vif_10'\n",
    "vif = 'all'"
   ]
  },
  {
   "cell_type": "code",
   "execution_count": 2,
   "id": "1630d5ac",
   "metadata": {},
   "outputs": [],
   "source": [
    "from datetime import datetime\n",
    "import matplotlib.pyplot as plt\n",
    "import numpy as np\n",
    "import pandas as pd\n",
    "import pathlib\n",
    "import platform\n",
    "import seaborn as sns\n",
    "from sklearn import linear_model\n",
    "from sklearn import tree\n",
    "from sklearn.metrics import mean_squared_error\n",
    "from sklearn.metrics import mean_absolute_error\n",
    "from sklearn.preprocessing import StandardScaler\n",
    "from skopt import gp_minimize, space\n",
    "from skopt.space import Real, Integer\n",
    "import sys\n",
    "\n",
    "from validation import cross_validation\n",
    "from validation import performance_test_fixed\n",
    "from validation import performance_test_shifted\n",
    "\n",
    "date_format = \"%Y-%m-%d\"\n",
    "\n",
    "pd.options.display.max_columns = None\n",
    "pd.options.display.max_rows = None\n",
    "pd.options.display.max_colwidth = None"
   ]
  },
  {
   "cell_type": "code",
   "execution_count": 3,
   "id": "15964d92",
   "metadata": {},
   "outputs": [
    {
     "name": "stdout",
     "output_type": "stream",
     "text": [
      "OS in my system:  Windows\n"
     ]
    }
   ],
   "source": [
    "my_os = platform.system()\n",
    "print(\"OS in my system: \",my_os)\n",
    "\n",
    "if my_os == \"Windows\":\n",
    "    path = str(pathlib.Path().absolute()) + '\\\\'\n",
    "    slash = '\\\\'\n",
    "else:\n",
    "    path = str(pathlib.Path().absolute()) + '/'\n",
    "    slash = '/'\n",
    "\n",
    "path_3 = path.replace('4_modelling', '3_data_pre-processing')"
   ]
  },
  {
   "cell_type": "markdown",
   "id": "910f8ca5",
   "metadata": {},
   "source": [
    "## Load Data"
   ]
  },
  {
   "cell_type": "code",
   "execution_count": 4,
   "id": "c329743f",
   "metadata": {},
   "outputs": [],
   "source": [
    "data_set = pd.read_csv(path_3 + 'data_artifacts' + slash + 'data_set_e_spx_3-' + vif + '.csv', index_col=0)"
   ]
  },
  {
   "cell_type": "code",
   "execution_count": 5,
   "id": "e9382709",
   "metadata": {},
   "outputs": [],
   "source": [
    "data = data_set.copy()\n",
    "\n",
    "X_head_drop = ['tau_target', 'symbol', 'ric', 'year', 'fam_target_clayton', 'fam_target_frank', 'fam_target_gaussian',\n",
    "            'fam_target_gumbel', 'fam_target_indep', 'fam_target_joe', 'fam_target_student', 'fam_target']\n",
    "y_head_multi_target = ['tau_target', 'fam_target_clayton', 'fam_target_frank', 'fam_target_gaussian', 'fam_target_gumbel',\n",
    "                    'fam_target_indep', 'fam_target_joe', 'fam_target_student']\n",
    "y_head_tau = ['tau_target']\n",
    "y_head_fam = ['fam_target_clayton', 'fam_target_frank', 'fam_target_gaussian', 'fam_target_gumbel', 'fam_target_indep', 'fam_target_joe', 'fam_target_student']\n",
    "\n",
    "target = 'fam_target'"
   ]
  },
  {
   "cell_type": "code",
   "execution_count": 6,
   "id": "cb53dd31",
   "metadata": {},
   "outputs": [],
   "source": [
    "model = tree.DecisionTreeClassifier(max_depth=4,\n",
    "                                  min_samples_split=98,\n",
    "                                  min_samples_leaf=49)"
   ]
  },
  {
   "cell_type": "code",
   "execution_count": 7,
   "id": "df429dd2",
   "metadata": {},
   "outputs": [],
   "source": [
    "from sklearn.metrics import accuracy_score\n",
    "from sklearn.metrics import mean_squared_error\n",
    "from sklearn.metrics import mean_absolute_error\n",
    "from sklearn.metrics import r2_score\n",
    "from sklearn.metrics import roc_auc_score"
   ]
  },
  {
   "cell_type": "markdown",
   "id": "112a513b",
   "metadata": {},
   "source": [
    "## Time Series Cross Validation on Default Model"
   ]
  },
  {
   "cell_type": "code",
   "execution_count": null,
   "id": "236f31b7",
   "metadata": {},
   "outputs": [],
   "source": []
  },
  {
   "cell_type": "code",
   "execution_count": 17,
   "id": "f5601223",
   "metadata": {},
   "outputs": [],
   "source": [
    "# train validation splits (10 years -> 10 folds)\n",
    "train_subset = data[(data['year'] >= (2007)) & (data['year'] <= (2008))]\n",
    "# print('Test' + str(2000+i) + '' + str(2000+7+i))\n",
    "valid_subset = data[data['year'] == (2009)]\n",
    "# print('Valid' + str(2000+8+i))\n",
    "\n",
    "X_train = train_subset.drop(columns=X_head_drop)\n",
    "X_valid = valid_subset.drop(columns=X_head_drop)\n",
    "\n",
    "if target == 'multi_target':\n",
    "    y_train = train_subset[y_head_multi_target]\n",
    "    y_valid = valid_subset[y_head_multi_target]\n",
    "elif target == 'tau_target':\n",
    "    y_train = train_subset[y_head_tau]\n",
    "    y_valid = valid_subset[y_head_tau]\n",
    "else:\n",
    "    y_train = train_subset[y_head_fam]\n",
    "    y_valid = valid_subset[y_head_fam]"
   ]
  },
  {
   "cell_type": "code",
   "execution_count": 18,
   "id": "0dc4d51a",
   "metadata": {},
   "outputs": [
    {
     "data": {
      "text/plain": [
       "array([[0, 0, 0, ..., 0, 0, 1],\n",
       "       [0, 0, 0, ..., 0, 0, 1],\n",
       "       [0, 1, 0, ..., 0, 0, 0],\n",
       "       ...,\n",
       "       [0, 0, 0, ..., 0, 0, 1],\n",
       "       [0, 0, 0, ..., 0, 0, 1],\n",
       "       [0, 0, 0, ..., 1, 0, 0]], dtype=int64)"
      ]
     },
     "execution_count": 18,
     "metadata": {},
     "output_type": "execute_result"
    }
   ],
   "source": [
    "model = tree.DecisionTreeClassifier()\n",
    "model.fit(X_train, y_train)\n",
    "pred_valid = model.predict(X_valid)\n",
    "pred_valid"
   ]
  },
  {
   "cell_type": "code",
   "execution_count": 19,
   "id": "1e73a54d",
   "metadata": {},
   "outputs": [
    {
     "data": {
      "text/plain": [
       "0.5694826839820637"
      ]
     },
     "execution_count": 19,
     "metadata": {},
     "output_type": "execute_result"
    }
   ],
   "source": [
    "auc_valid_clas = roc_auc_score(y_valid, pred_valid, multi_class='ovr', average='macro')\n",
    "auc_valid_clas"
   ]
  },
  {
   "cell_type": "code",
   "execution_count": 21,
   "id": "abbb1f1a",
   "metadata": {},
   "outputs": [
    {
     "ename": "NameError",
     "evalue": "name 'score' is not defined",
     "output_type": "error",
     "traceback": [
      "\u001b[1;31m---------------------------------------------------------------------------\u001b[0m",
      "\u001b[1;31mNameError\u001b[0m                                 Traceback (most recent call last)",
      "\u001b[1;32m~\\AppData\\Local\\Temp\\ipykernel_7884\\1250284497.py\u001b[0m in \u001b[0;36m<module>\u001b[1;34m\u001b[0m\n\u001b[0;32m     83\u001b[0m     }\n\u001b[0;32m     84\u001b[0m \u001b[1;33m\u001b[0m\u001b[0m\n\u001b[1;32m---> 85\u001b[1;33m \u001b[0mprint\u001b[0m\u001b[1;33m(\u001b[0m\u001b[0mscore\u001b[0m\u001b[1;33m)\u001b[0m\u001b[1;33m\u001b[0m\u001b[1;33m\u001b[0m\u001b[0m\n\u001b[0m",
      "\u001b[1;31mNameError\u001b[0m: name 'score' is not defined"
     ]
    }
   ],
   "source": [
    "mse_train_annual = []\n",
    "mae_train_annual = []\n",
    "r2_train_annual = []\n",
    "acc_train_annual = []\n",
    "auc_train_annual = []\n",
    "mse_valid_annual = []\n",
    "mae_valid_annual = []\n",
    "r2_valid_annual = []\n",
    "acc_valid_annual = []\n",
    "auc_valid_annual =[]\n",
    "\n",
    "for i in range(10):\n",
    "    # train validation splits (10 years -> 10 folds)\n",
    "    train_subset = data[(data['year'] >= (2000+i)) & (data['year'] <= (2000+7+i))]\n",
    "    # print('Test' + str(2000+i) + '' + str(2000+7+i))\n",
    "    valid_subset = data[data['year'] == (2000+8+i)]\n",
    "    # print('Valid' + str(2000+8+i))\n",
    "\n",
    "    X_train = train_subset.drop(columns=X_head_drop)\n",
    "    X_valid = valid_subset.drop(columns=X_head_drop)\n",
    "\n",
    "    if target == 'multi_target':\n",
    "        y_train = train_subset[y_head_multi_target]\n",
    "        y_valid = valid_subset[y_head_multi_target]\n",
    "    elif target == 'tau_target':\n",
    "        y_train = train_subset[y_head_tau]\n",
    "        y_valid = valid_subset[y_head_tau]\n",
    "    else:\n",
    "        y_train = train_subset[y_head_fam]\n",
    "        y_valid = valid_subset[y_head_fam]\n",
    "\n",
    "    # model estimation: fit model on ith fold train_subset\n",
    "    model.fit(X_train, y_train)\n",
    "\n",
    "    # forecast: predict next observation \n",
    "    pred_train = model.predict(X_train)\n",
    "    #print(pred_train)\n",
    "    pred_valid = model.predict(X_valid)\n",
    "    #print(pred_valid)\n",
    "\n",
    "    # calculate scores\n",
    "    if target == 'fam_target':\n",
    "        acc_train = accuracy_score(y_train, pred_train)\n",
    "        auc_train = roc_auc_score(y_train, pred_train, multi_class='ovr', average='macro')\n",
    "        acc_valid = accuracy_score(y_valid, pred_valid)\n",
    "        auc_valid = roc_auc_score(y_valid, pred_valid, multi_class='ovr', average='macro')\n",
    "\n",
    "        acc_train_annual.append(acc_train)\n",
    "        auc_train_annual.append(auc_train)\n",
    "        acc_valid_annual.append(acc_valid)\n",
    "        auc_valid_annual.append(auc_valid)\n",
    "\n",
    "    else:\n",
    "        mse_train = mean_squared_error(y_train, pred_train)\n",
    "        mae_train = mean_absolute_error(y_train, pred_train)\n",
    "        r2_train = r2_score(y_train, pred_train)\n",
    "        mse_valid = mean_squared_error(y_valid, pred_valid)\n",
    "        mae_valid = mean_absolute_error(y_valid, pred_valid)\n",
    "        r2_valid = r2_score(y_valid, pred_valid)\n",
    "\n",
    "        mse_train_annual.append(mse_train)\n",
    "        mae_train_annual.append(mae_train)\n",
    "        r2_train_annual.append(r2_train)\n",
    "        mse_valid_annual.append(mse_valid)\n",
    "        mae_valid_annual.append(mae_valid)\n",
    "        r2_valid_annual.append(r2_valid)\n",
    "\n",
    "if target == 'fam_target':\n",
    "    scores = {\n",
    "        'acc_train': acc_train_annual,\n",
    "        'auc_train': auc_train_annual,\n",
    "        'acc_valid': acc_valid_annual,\n",
    "        'auc_valid': auc_valid_annual\n",
    "    }\n",
    "else:\n",
    "    scores = {\n",
    "        'mse_train': mse_train_annual,\n",
    "        'mae_train': mae_train_annual,\n",
    "        'r2_train': r2_train_annual,\n",
    "        'mse_valid': mse_valid_annual,\n",
    "        'mae_valid': mae_valid_annual,\n",
    "        'r2_valid': r2_valid_annual\n",
    "    }\n",
    "\n",
    "print(score)\n"
   ]
  },
  {
   "cell_type": "code",
   "execution_count": 22,
   "id": "d00f7e47",
   "metadata": {},
   "outputs": [
    {
     "name": "stdout",
     "output_type": "stream",
     "text": [
      "{'acc_test': [0.30586283185840707, 0.358908341915551, 0.28054298642533937, 0.2837967401725791, 0.2626962142197599, 0.2768630849220104, 0.3206429780033841, 0.2808333333333333, 0.3433208489388265, 0.3157010915197313], 'auc_test': [0.5595775373721555, 0.5760460257548419, 0.5587482137885573, 0.5611465009990747, 0.5439520626288716, 0.5614332915945185, 0.571585861166832, 0.5606833543291556, 0.5760054848779027, 0.5631017269829012]}\n"
     ]
    }
   ],
   "source": [
    "opt_model = model\n",
    "\n",
    "X_head_drop = ['tau_target', 'symbol', 'ric', 'year', 'fam_target_clayton', 'fam_target_frank', 'fam_target_gaussian',\n",
    "            'fam_target_gumbel', 'fam_target_indep', 'fam_target_joe', 'fam_target_student', 'fam_target']\n",
    "y_head_multi_target = ['tau_target', 'fam_target_clayton', 'fam_target_frank', 'fam_target_gaussian', 'fam_target_gumbel',\n",
    "                    'fam_target_indep', 'fam_target_joe', 'fam_target_student']\n",
    "y_head_tau = ['tau_target']\n",
    "y_head_fam = ['fam_target_clayton', 'fam_target_frank', 'fam_target_gaussian', 'fam_target_gumbel', 'fam_target_indep', 'fam_target_joe', 'fam_target_student']\n",
    "\n",
    "target = 'fam_target'\n",
    "data = data_set.copy()\n",
    "\n",
    "mse_test_annual = []\n",
    "mae_test_annual = []\n",
    "r2_test_annual = []\n",
    "acc_test_annual = []\n",
    "auc_test_annual = []\n",
    "\n",
    "for i in range (10):\n",
    "    # test splits (10 years -> 10 folds)\n",
    "    train = data[(data['year'] >= (2000+i)) & (data['year'] <= (2000+8+i))]\n",
    "    test = data[(data['year']) == (2000+8+2+i)]\n",
    "\n",
    "    X_train = train.drop(columns=X_head_drop)\n",
    "    X_test = test.drop(columns=X_head_drop)\n",
    "\n",
    "    if target == 'multi_target':\n",
    "        y_train = train[y_head_multi_target]\n",
    "        y_test = test[y_head_multi_target]\n",
    "    elif target == 'tau_target':\n",
    "        y_train = train[y_head_tau]\n",
    "        y_test = test[y_head_tau]\n",
    "    else:\n",
    "        y_train = train[y_head_fam]\n",
    "        y_test = test[y_head_fam]\n",
    "\n",
    "    # fit model on train data\n",
    "    opt_model.fit(X_train, y_train)\n",
    "\n",
    "    # forecast on test data\n",
    "    pred = opt_model.predict(X_test)\n",
    "\n",
    "    # calculate score\n",
    "    if target == 'fam_target':\n",
    "        acc_test = accuracy_score(y_test, pred)\n",
    "        auc_test = roc_auc_score(y_test, pred, multi_class='ovr', average='macro')\n",
    "\n",
    "        acc_test_annual.append(acc_test)\n",
    "        auc_test_annual.append(auc_test)\n",
    "\n",
    "    else:\n",
    "        mse_test = mean_squared_error(y_test, pred)\n",
    "        mae_test = mean_absolute_error(y_test, pred)\n",
    "        r2_test = r2_score(y_test, pred)\n",
    "\n",
    "        mse_test_annual.append(mse_test)\n",
    "        mae_test_annual.append(mae_test)\n",
    "        r2_test_annual.append(r2_test)\n",
    "\n",
    "if target == 'fam_target':\n",
    "    scores = {\n",
    "        'acc_test': acc_test_annual,\n",
    "        'auc_test': auc_test_annual\n",
    "    }\n",
    "else:\n",
    "    scores = {\n",
    "        'mse_test': mse_test_annual,\n",
    "        'mae_test': mae_test_annual,\n",
    "        'r2_test': r2_test_annual\n",
    "    }\n",
    "\n",
    "print(scores)"
   ]
  },
  {
   "cell_type": "code",
   "execution_count": null,
   "id": "d47ca8c8",
   "metadata": {},
   "outputs": [],
   "source": []
  },
  {
   "cell_type": "code",
   "execution_count": null,
   "id": "e8950814",
   "metadata": {},
   "outputs": [],
   "source": []
  },
  {
   "cell_type": "code",
   "execution_count": null,
   "id": "78e865e3",
   "metadata": {},
   "outputs": [],
   "source": []
  },
  {
   "cell_type": "code",
   "execution_count": null,
   "id": "1962b75b",
   "metadata": {},
   "outputs": [],
   "source": []
  },
  {
   "cell_type": "code",
   "execution_count": null,
   "id": "ce1df881",
   "metadata": {},
   "outputs": [],
   "source": []
  },
  {
   "cell_type": "code",
   "execution_count": null,
   "id": "7597bd21",
   "metadata": {},
   "outputs": [],
   "source": []
  },
  {
   "cell_type": "code",
   "execution_count": null,
   "id": "2934b1b0",
   "metadata": {},
   "outputs": [],
   "source": []
  },
  {
   "cell_type": "code",
   "execution_count": null,
   "id": "ecafe1f9",
   "metadata": {},
   "outputs": [],
   "source": []
  },
  {
   "cell_type": "code",
   "execution_count": null,
   "id": "e081923c",
   "metadata": {},
   "outputs": [],
   "source": [
    "default_param_model = tree.DecisionTreeClassifier()\n",
    "default_param_model.get_params()"
   ]
  },
  {
   "cell_type": "code",
   "execution_count": null,
   "id": "42c4296c",
   "metadata": {},
   "outputs": [],
   "source": [
    "default_param_model_scores = cross_validation(data_set, default_param_model, 'fam_target')\n",
    "pd.DataFrame(default_param_model_scores).describe()"
   ]
  },
  {
   "cell_type": "code",
   "execution_count": null,
   "id": "5874c669",
   "metadata": {},
   "outputs": [],
   "source": [
    "# tree.plot_tree(default_param_model, fontsize=4)\n",
    "\n",
    "# import graphviz\n",
    "# dot_data = tree.export_graphviz(model, out_file=None, filled=True, rounded=True,special_characters=True)  \n",
    "# graph = graphviz.Source(dot_data)  \n",
    "# graph"
   ]
  },
  {
   "cell_type": "code",
   "execution_count": null,
   "id": "64dfa63c",
   "metadata": {},
   "outputs": [],
   "source": [
    "ax = pd.DataFrame(default_param_model_scores).plot(figsize=(8,4))"
   ]
  },
  {
   "cell_type": "markdown",
   "id": "66d960c4",
   "metadata": {},
   "source": [
    "## Hyperparameter Optimization with Time Series Cross Validation\n",
    "- Bayesian optimization\n",
    "- https://scikit-optimize.github.io/stable/auto_examples/bayesian-optimization.html"
   ]
  },
  {
   "cell_type": "code",
   "execution_count": null,
   "id": "abfb5ebe",
   "metadata": {},
   "outputs": [],
   "source": [
    "# search space for the hyperparameters\n",
    "space = [Integer(1, 20, name='max_depth'),\n",
    "         Integer(2, 100, name='min_samples_split'),\n",
    "         Integer(1, 100, name='min_samples_leaf')]\n",
    "\n",
    "# objective function to minimize\n",
    "def objective(params):\n",
    "    max_depth, min_samples_split, min_samples_leaf = params\n",
    "    model = tree.DecisionTreeClassifier(max_depth=int(max_depth),\n",
    "                                  min_samples_split=int(min_samples_split),\n",
    "                                  min_samples_leaf=int(min_samples_leaf))\n",
    "    scores = cross_validation(data_set, model, 'fam_target')\n",
    "    return np.mean(scores['acc_valid'])\n",
    "\n",
    "# perform the optimization\n",
    "result = gp_minimize(objective, space)\n",
    "\n",
    "# optimal point and function value\n",
    "print(\"Optimal point:\", result.x)\n",
    "print(\"Function value at optimal point:\", result.fun)\n",
    "ax = pd.DataFrame(result.func_vals).plot(figsize=(12,4))"
   ]
  },
  {
   "cell_type": "code",
   "execution_count": null,
   "id": "2a4f9b3c",
   "metadata": {},
   "outputs": [],
   "source": [
    "# safe to excel\n",
    "prelim_result = {'Model': [default_param_model],\n",
    "           'opt_params': [result.x],\n",
    "           'fun_min': [result.fun]\n",
    "          }\n",
    "\n",
    "display(pd.DataFrame(prelim_result))\n",
    "storage_name = str(default_param_model) + \"_\" + vif + str(datetime.today().day) + str(datetime.today().hour) + \".xlsx\"\n",
    "pd.DataFrame(prelim_result).to_excel(path + \"artifacts\" + slash + storage_name, index=None)"
   ]
  },
  {
   "cell_type": "markdown",
   "id": "944008a8",
   "metadata": {},
   "source": [
    "## Time Series Cross Validation on Optimal Model"
   ]
  },
  {
   "cell_type": "code",
   "execution_count": null,
   "id": "12d9fd11",
   "metadata": {},
   "outputs": [],
   "source": [
    "# ---------------- config opt model -----------------\n",
    "opt_model = tree.DecisionTreeClassifier()(max_depth=4,\n",
    "                                  min_samples_split=98,\n",
    "                                  min_samples_leaf=49)"
   ]
  },
  {
   "cell_type": "code",
   "execution_count": null,
   "id": "384b2456",
   "metadata": {},
   "outputs": [],
   "source": [
    "%debug\n",
    "opt_model_tscv_scores = cross_validation(data_set, opt_model, 'fam_target')\n",
    "pd.DataFrame(opt_model_tscv_scores).describe()"
   ]
  },
  {
   "cell_type": "code",
   "execution_count": null,
   "id": "67dff089",
   "metadata": {},
   "outputs": [],
   "source": [
    "ax = pd.DataFrame(opt_model_tscv_scores).plot(figsize=(8,4))"
   ]
  },
  {
   "cell_type": "markdown",
   "id": "8eab9d1b",
   "metadata": {},
   "source": [
    "## Model Performance on Test Set"
   ]
  },
  {
   "cell_type": "code",
   "execution_count": null,
   "id": "05ffb6be",
   "metadata": {},
   "outputs": [],
   "source": [
    "# default parameter model performance on test set (unseen data)\n",
    "default_param_model_test_shifted_scores = performance_test_shifted(data_set, default_param_model, 'fam_target')\n",
    "display(pd.DataFrame(default_param_model_test_shifted_scores).describe())\n",
    "\n",
    "default_param_model_test_fixed_scores = performance_test_fixed(data_set, default_param_model, 'fam_target')\n",
    "print(default_param_model_test_fixed_scores)"
   ]
  },
  {
   "cell_type": "code",
   "execution_count": null,
   "id": "49cfe40f",
   "metadata": {},
   "outputs": [],
   "source": [
    "%debug\n",
    "# optimal parameter model performance on test set (unseen data)\n",
    "opt_model_test_shifted_scores = performance_test_shifted(data_set, opt_model, 'fam_target')\n",
    "display(pd.DataFrame(opt_model_test_shifted_scores).describe())\n",
    "\n",
    "opt_model_test_fixed_scores = performance_test_fixed(data_set, opt_model, 'fam_target')\n",
    "print(opt_model_test_fixed_scores)"
   ]
  },
  {
   "cell_type": "code",
   "execution_count": null,
   "id": "2970bd56",
   "metadata": {},
   "outputs": [],
   "source": [
    "ax = pd.DataFrame(opt_model_test_shifted_scores).plot(figsize=(8,4))"
   ]
  },
  {
   "cell_type": "code",
   "execution_count": null,
   "id": "b310dc84",
   "metadata": {},
   "outputs": [],
   "source": [
    "# safe to excel (parametric)\n",
    "results = {'Model': [default_param_model],\n",
    "           'vif': [vif],\n",
    "           'opt_params': [result.x],\n",
    "           'fun_min': [result.fun],\n",
    "           'mse_tscv': [pd.DataFrame(opt_model_tscv_scores).mse_valid.mean()],\n",
    "           'mae_tscv': [pd.DataFrame(opt_model_tscv_scores).mae_valid.mean()],\n",
    "           'r2_tscv': [pd.DataFrame(opt_model_tscv_scores).r2_valid.mean()],\n",
    "           'mse_test_shifted': [pd.DataFrame(opt_model_test_shifted_scores).mse_test.mean()],\n",
    "           'mae_test_shifted': [pd.DataFrame(opt_model_test_shifted_scores).mae_test.mean()],\n",
    "           'r2_test_shifted': [pd.DataFrame(opt_model_test_shifted_scores).r2_test.mean()],\n",
    "           'mse_test_fixed': [opt_model_test_fixed_scores['mse_test']],\n",
    "           'mae_test_fixed': [opt_model_test_fixed_scores['mae_test']],\n",
    "           'r2_test_fixed': [opt_model_test_fixed_scores['r2_test']],   \n",
    "            'opt_model': [opt_model.get_params()]\n",
    "          }\n",
    "\n",
    "display(pd.DataFrame(results))\n",
    "storage_name = str(default_param_model) + \"_\" + vif + str(datetime.today().day) + str(datetime.today().hour) + \".xlsx\"\n",
    "pd.DataFrame(results).to_excel(path + \"artifacts\" + slash + storage_name, index=None)"
   ]
  },
  {
   "cell_type": "code",
   "execution_count": null,
   "id": "50180fad",
   "metadata": {},
   "outputs": [],
   "source": []
  }
 ],
 "metadata": {
  "kernelspec": {
   "display_name": "Python 3 (ipykernel)",
   "language": "python",
   "name": "python3"
  },
  "language_info": {
   "codemirror_mode": {
    "name": "ipython",
    "version": 3
   },
   "file_extension": ".py",
   "mimetype": "text/x-python",
   "name": "python",
   "nbconvert_exporter": "python",
   "pygments_lexer": "ipython3",
   "version": "3.9.13"
  }
 },
 "nbformat": 4,
 "nbformat_minor": 5
}
