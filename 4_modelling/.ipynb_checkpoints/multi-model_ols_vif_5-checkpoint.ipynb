{
 "cells": [
  {
   "cell_type": "markdown",
   "id": "4c131a3d",
   "metadata": {},
   "source": [
    "# Ordinary Least Squares (vif 5)\n",
    "https://scikit-learn.org/stable/modules/linear_model.html#ordinary-least-squares\n",
    "\n",
    "linear_model.LinearRegression()\n",
    "\n",
    "{'copy_X': True,   \n",
    " 'fit_intercept': True,    \n",
    " 'n_jobs': None,   \n",
    " 'normalize': 'deprecated',    \n",
    " 'positive': False}\n",
    " \n",
    " **_no hyperparameter tuning_**"
   ]
  },
  {
   "cell_type": "code",
   "execution_count": 1,
   "id": "10885acc",
   "metadata": {},
   "outputs": [],
   "source": [
    "# config 'all', 'vif_5' or 'vif_10'\n",
    "vif = 'vif_5'"
   ]
  },
  {
   "cell_type": "code",
   "execution_count": 2,
   "id": "1630d5ac",
   "metadata": {},
   "outputs": [],
   "source": [
    "from datetime import datetime\n",
    "import matplotlib.pyplot as plt\n",
    "import numpy as np\n",
    "import pandas as pd\n",
    "import pathlib\n",
    "import platform\n",
    "import seaborn as sns\n",
    "from sklearn import linear_model\n",
    "from sklearn.linear_model import MultiTaskElasticNet\n",
    "from sklearn.metrics import mean_squared_error\n",
    "from sklearn.metrics import mean_absolute_error\n",
    "from sklearn.preprocessing import StandardScaler\n",
    "from skopt import gp_minimize, space\n",
    "import sys\n",
    "\n",
    "from validation import cross_validation\n",
    "from validation import performance_test_fixed\n",
    "from validation import performance_test_shifted\n",
    "\n",
    "date_format = \"%Y-%m-%d\"\n",
    "\n",
    "pd.options.display.max_columns = None\n",
    "pd.options.display.max_rows = None\n",
    "pd.options.display.max_colwidth = None"
   ]
  },
  {
   "cell_type": "code",
   "execution_count": 3,
   "id": "15964d92",
   "metadata": {},
   "outputs": [
    {
     "name": "stdout",
     "output_type": "stream",
     "text": [
      "OS in my system:  Windows\n"
     ]
    }
   ],
   "source": [
    "my_os = platform.system()\n",
    "print(\"OS in my system: \",my_os)\n",
    "\n",
    "if my_os == \"Windows\":\n",
    "    path = str(pathlib.Path().absolute()) + '\\\\'\n",
    "    slash = '\\\\'\n",
    "else:\n",
    "    path = str(pathlib.Path().absolute()) + '/'\n",
    "    slash = '/'\n",
    "\n",
    "path_3 = path.replace('4_modelling', '3_data_pre-processing')"
   ]
  },
  {
   "cell_type": "markdown",
   "id": "910f8ca5",
   "metadata": {},
   "source": [
    "## Load Data"
   ]
  },
  {
   "cell_type": "code",
   "execution_count": 4,
   "id": "c329743f",
   "metadata": {},
   "outputs": [],
   "source": [
    "data_set = pd.read_csv(path_3 + 'data_artifacts' + slash + 'data_set_e_spx_3-' + vif + '.csv', index_col=0)"
   ]
  },
  {
   "cell_type": "markdown",
   "id": "22befa88",
   "metadata": {},
   "source": [
    "## Time Series Cross Validation on Default/Optimal Model\n",
    "_optimal model = default model_"
   ]
  },
  {
   "cell_type": "code",
   "execution_count": 5,
   "id": "f5f1bcf2",
   "metadata": {},
   "outputs": [
    {
     "data": {
      "text/plain": [
       "{'copy_X': True,\n",
       " 'fit_intercept': True,\n",
       " 'n_jobs': None,\n",
       " 'normalize': 'deprecated',\n",
       " 'positive': False}"
      ]
     },
     "execution_count": 5,
     "metadata": {},
     "output_type": "execute_result"
    }
   ],
   "source": [
    "opt_model = linear_model.LinearRegression()\n",
    "opt_model.get_params()"
   ]
  },
  {
   "cell_type": "code",
   "execution_count": 6,
   "id": "c1897aed",
   "metadata": {},
   "outputs": [
    {
     "data": {
      "text/html": [
       "<div>\n",
       "<style scoped>\n",
       "    .dataframe tbody tr th:only-of-type {\n",
       "        vertical-align: middle;\n",
       "    }\n",
       "\n",
       "    .dataframe tbody tr th {\n",
       "        vertical-align: top;\n",
       "    }\n",
       "\n",
       "    .dataframe thead th {\n",
       "        text-align: right;\n",
       "    }\n",
       "</style>\n",
       "<table border=\"1\" class=\"dataframe\">\n",
       "  <thead>\n",
       "    <tr style=\"text-align: right;\">\n",
       "      <th></th>\n",
       "      <th>mse_train</th>\n",
       "      <th>mae_train</th>\n",
       "      <th>r2_train</th>\n",
       "      <th>mse_valid</th>\n",
       "      <th>mae_valid</th>\n",
       "      <th>r2_valid</th>\n",
       "    </tr>\n",
       "  </thead>\n",
       "  <tbody>\n",
       "    <tr>\n",
       "      <th>count</th>\n",
       "      <td>10.000000</td>\n",
       "      <td>10.000000</td>\n",
       "      <td>10.000000</td>\n",
       "      <td>10.000000</td>\n",
       "      <td>10.000000</td>\n",
       "      <td>10.000000</td>\n",
       "    </tr>\n",
       "    <tr>\n",
       "      <th>mean</th>\n",
       "      <td>0.108360</td>\n",
       "      <td>0.226666</td>\n",
       "      <td>0.191731</td>\n",
       "      <td>0.117596</td>\n",
       "      <td>0.237838</td>\n",
       "      <td>0.082366</td>\n",
       "    </tr>\n",
       "    <tr>\n",
       "      <th>std</th>\n",
       "      <td>0.001462</td>\n",
       "      <td>0.001658</td>\n",
       "      <td>0.004303</td>\n",
       "      <td>0.014318</td>\n",
       "      <td>0.013867</td>\n",
       "      <td>0.083629</td>\n",
       "    </tr>\n",
       "    <tr>\n",
       "      <th>min</th>\n",
       "      <td>0.105731</td>\n",
       "      <td>0.223361</td>\n",
       "      <td>0.184881</td>\n",
       "      <td>0.100649</td>\n",
       "      <td>0.217054</td>\n",
       "      <td>-0.122486</td>\n",
       "    </tr>\n",
       "    <tr>\n",
       "      <th>25%</th>\n",
       "      <td>0.107917</td>\n",
       "      <td>0.226129</td>\n",
       "      <td>0.189160</td>\n",
       "      <td>0.108969</td>\n",
       "      <td>0.228320</td>\n",
       "      <td>0.078553</td>\n",
       "    </tr>\n",
       "    <tr>\n",
       "      <th>50%</th>\n",
       "      <td>0.108441</td>\n",
       "      <td>0.226693</td>\n",
       "      <td>0.190961</td>\n",
       "      <td>0.109456</td>\n",
       "      <td>0.232857</td>\n",
       "      <td>0.099647</td>\n",
       "    </tr>\n",
       "    <tr>\n",
       "      <th>75%</th>\n",
       "      <td>0.109539</td>\n",
       "      <td>0.227568</td>\n",
       "      <td>0.194742</td>\n",
       "      <td>0.129231</td>\n",
       "      <td>0.248127</td>\n",
       "      <td>0.118085</td>\n",
       "    </tr>\n",
       "    <tr>\n",
       "      <th>max</th>\n",
       "      <td>0.110027</td>\n",
       "      <td>0.229569</td>\n",
       "      <td>0.198588</td>\n",
       "      <td>0.143759</td>\n",
       "      <td>0.259981</td>\n",
       "      <td>0.165930</td>\n",
       "    </tr>\n",
       "  </tbody>\n",
       "</table>\n",
       "</div>"
      ],
      "text/plain": [
       "       mse_train  mae_train   r2_train  mse_valid  mae_valid   r2_valid\n",
       "count  10.000000  10.000000  10.000000  10.000000  10.000000  10.000000\n",
       "mean    0.108360   0.226666   0.191731   0.117596   0.237838   0.082366\n",
       "std     0.001462   0.001658   0.004303   0.014318   0.013867   0.083629\n",
       "min     0.105731   0.223361   0.184881   0.100649   0.217054  -0.122486\n",
       "25%     0.107917   0.226129   0.189160   0.108969   0.228320   0.078553\n",
       "50%     0.108441   0.226693   0.190961   0.109456   0.232857   0.099647\n",
       "75%     0.109539   0.227568   0.194742   0.129231   0.248127   0.118085\n",
       "max     0.110027   0.229569   0.198588   0.143759   0.259981   0.165930"
      ]
     },
     "execution_count": 6,
     "metadata": {},
     "output_type": "execute_result"
    }
   ],
   "source": [
    "opt_model_scores = cross_validation (data_set, opt_model, 'multi_target')\n",
    "pd.DataFrame(opt_model_scores).describe()"
   ]
  },
  {
   "cell_type": "code",
   "execution_count": 7,
   "id": "9854ad13",
   "metadata": {},
   "outputs": [
    {
     "data": {
      "image/png": "[encoded data removed]",
      "text/plain": [
       "<Figure size 800x400 with 1 Axes>"
      ]
     },
     "metadata": {},
     "output_type": "display_data"
    }
   ],
   "source": [
    "ax = pd.DataFrame(opt_model_scores).plot(figsize=(8,4))"
   ]
  },
  {
   "cell_type": "markdown",
   "id": "87f55394",
   "metadata": {},
   "source": [
    "## Hyperparameter Optimization with Time Series Cross Validation\n",
    "_model does not require hyperparameter tuning -> model is edtimated from training sample only to enhance comparability among all used machine learning techniques_"
   ]
  },
  {
   "cell_type": "markdown",
   "id": "8d507593",
   "metadata": {},
   "source": [
    "## Model Performance on Test Set"
   ]
  },
  {
   "cell_type": "code",
   "execution_count": 8,
   "id": "507e624d",
   "metadata": {},
   "outputs": [
    {
     "data": {
      "text/html": [
       "<div>\n",
       "<style scoped>\n",
       "    .dataframe tbody tr th:only-of-type {\n",
       "        vertical-align: middle;\n",
       "    }\n",
       "\n",
       "    .dataframe tbody tr th {\n",
       "        vertical-align: top;\n",
       "    }\n",
       "\n",
       "    .dataframe thead th {\n",
       "        text-align: right;\n",
       "    }\n",
       "</style>\n",
       "<table border=\"1\" class=\"dataframe\">\n",
       "  <thead>\n",
       "    <tr style=\"text-align: right;\">\n",
       "      <th></th>\n",
       "      <th>mse_test</th>\n",
       "      <th>mae_test</th>\n",
       "      <th>r2_test</th>\n",
       "    </tr>\n",
       "  </thead>\n",
       "  <tbody>\n",
       "    <tr>\n",
       "      <th>count</th>\n",
       "      <td>10.000000</td>\n",
       "      <td>10.000000</td>\n",
       "      <td>10.000000</td>\n",
       "    </tr>\n",
       "    <tr>\n",
       "      <th>mean</th>\n",
       "      <td>0.116918</td>\n",
       "      <td>0.236513</td>\n",
       "      <td>0.097739</td>\n",
       "    </tr>\n",
       "    <tr>\n",
       "      <th>std</th>\n",
       "      <td>0.015369</td>\n",
       "      <td>0.015177</td>\n",
       "      <td>0.055752</td>\n",
       "    </tr>\n",
       "    <tr>\n",
       "      <th>min</th>\n",
       "      <td>0.100691</td>\n",
       "      <td>0.217578</td>\n",
       "      <td>-0.008940</td>\n",
       "    </tr>\n",
       "    <tr>\n",
       "      <th>25%</th>\n",
       "      <td>0.107118</td>\n",
       "      <td>0.226471</td>\n",
       "      <td>0.070569</td>\n",
       "    </tr>\n",
       "    <tr>\n",
       "      <th>50%</th>\n",
       "      <td>0.110877</td>\n",
       "      <td>0.232107</td>\n",
       "      <td>0.096145</td>\n",
       "    </tr>\n",
       "    <tr>\n",
       "      <th>75%</th>\n",
       "      <td>0.129924</td>\n",
       "      <td>0.249289</td>\n",
       "      <td>0.143354</td>\n",
       "    </tr>\n",
       "    <tr>\n",
       "      <th>max</th>\n",
       "      <td>0.142503</td>\n",
       "      <td>0.259023</td>\n",
       "      <td>0.165659</td>\n",
       "    </tr>\n",
       "  </tbody>\n",
       "</table>\n",
       "</div>"
      ],
      "text/plain": [
       "        mse_test   mae_test    r2_test\n",
       "count  10.000000  10.000000  10.000000\n",
       "mean    0.116918   0.236513   0.097739\n",
       "std     0.015369   0.015177   0.055752\n",
       "min     0.100691   0.217578  -0.008940\n",
       "25%     0.107118   0.226471   0.070569\n",
       "50%     0.110877   0.232107   0.096145\n",
       "75%     0.129924   0.249289   0.143354\n",
       "max     0.142503   0.259023   0.165659"
      ]
     },
     "metadata": {},
     "output_type": "display_data"
    },
    {
     "name": "stdout",
     "output_type": "stream",
     "text": [
      "{'mse_test': 0.11568634653491797, 'mae_test': 0.2350240110975936, 'r2_test': 0.08916824460564084}\n"
     ]
    }
   ],
   "source": [
    "# optimal parameter model performance on test set (unseen data)\n",
    "opt_model_test_shifted_scores = performance_test_shifted(data_set, opt_model, 'multi_target')\n",
    "display(pd.DataFrame(opt_model_test_shifted_scores).describe())\n",
    "\n",
    "opt_model_test_fixed_scores = performance_test_fixed(data_set, opt_model, 'multi_target')\n",
    "print(opt_model_test_fixed_scores)"
   ]
  },
  {
   "cell_type": "code",
   "execution_count": 9,
   "id": "455c6448",
   "metadata": {},
   "outputs": [
    {
     "data": {
      "image/png": "[encoded data removed]",
      "text/plain": [
       "<Figure size 800x400 with 1 Axes>"
      ]
     },
     "metadata": {},
     "output_type": "display_data"
    }
   ],
   "source": [
    "ax = pd.DataFrame(opt_model_test_shifted_scores).plot(figsize=(8,4))"
   ]
  },
  {
   "cell_type": "code",
   "execution_count": 10,
   "id": "f545de48",
   "metadata": {},
   "outputs": [
    {
     "data": {
      "text/html": [
       "<div>\n",
       "<style scoped>\n",
       "    .dataframe tbody tr th:only-of-type {\n",
       "        vertical-align: middle;\n",
       "    }\n",
       "\n",
       "    .dataframe tbody tr th {\n",
       "        vertical-align: top;\n",
       "    }\n",
       "\n",
       "    .dataframe thead th {\n",
       "        text-align: right;\n",
       "    }\n",
       "</style>\n",
       "<table border=\"1\" class=\"dataframe\">\n",
       "  <thead>\n",
       "    <tr style=\"text-align: right;\">\n",
       "      <th></th>\n",
       "      <th>Model</th>\n",
       "      <th>vif</th>\n",
       "      <th>opt_params</th>\n",
       "      <th>fun_min</th>\n",
       "      <th>mse_tscv</th>\n",
       "      <th>mae_tscv</th>\n",
       "      <th>r2_tscv</th>\n",
       "      <th>mse_test_shifte</th>\n",
       "      <th>mae_test_shifted</th>\n",
       "      <th>r2_test_shifted</th>\n",
       "      <th>mse_test_fixed</th>\n",
       "      <th>mae_test_fixed</th>\n",
       "      <th>r2_test_fixed</th>\n",
       "      <th>opt_model</th>\n",
       "    </tr>\n",
       "  </thead>\n",
       "  <tbody>\n",
       "    <tr>\n",
       "      <th>0</th>\n",
       "      <td>LinearRegression()</td>\n",
       "      <td>vif_5</td>\n",
       "      <td>non-parametric</td>\n",
       "      <td>non-parametric</td>\n",
       "      <td>0.117596</td>\n",
       "      <td>0.237838</td>\n",
       "      <td>0.082366</td>\n",
       "      <td>0.116918</td>\n",
       "      <td>0.236513</td>\n",
       "      <td>0.097739</td>\n",
       "      <td>0.115686</td>\n",
       "      <td>0.235024</td>\n",
       "      <td>0.089168</td>\n",
       "      <td>{'copy_X': True, 'fit_intercept': True, 'n_jobs': None, 'normalize': 'deprecated', 'positive': False}</td>\n",
       "    </tr>\n",
       "  </tbody>\n",
       "</table>\n",
       "</div>"
      ],
      "text/plain": [
       "                Model    vif      opt_params         fun_min  mse_tscv  \\\n",
       "0  LinearRegression()  vif_5  non-parametric  non-parametric  0.117596   \n",
       "\n",
       "   mae_tscv   r2_tscv  mse_test_shifte  mae_test_shifted  r2_test_shifted  \\\n",
       "0  0.237838  0.082366         0.116918          0.236513         0.097739   \n",
       "\n",
       "   mse_test_fixed  mae_test_fixed  r2_test_fixed  \\\n",
       "0        0.115686        0.235024       0.089168   \n",
       "\n",
       "                                                                                               opt_model  \n",
       "0  {'copy_X': True, 'fit_intercept': True, 'n_jobs': None, 'normalize': 'deprecated', 'positive': False}  "
      ]
     },
     "metadata": {},
     "output_type": "display_data"
    }
   ],
   "source": [
    "# safe to excel (non-parametric)\n",
    "# (vif5)\n",
    "results = {'Model': [opt_model],\n",
    "           'vif': vif,\n",
    "           'opt_params': ['non-parametric'],\n",
    "           'fun_min': ['non-parametric'],\n",
    "           'mse_tscv': [pd.DataFrame(opt_model_scores).mse_valid.mean()],\n",
    "           'mae_tscv': [pd.DataFrame(opt_model_scores).mae_valid.mean()],\n",
    "           'r2_tscv': [pd.DataFrame(opt_model_scores).r2_valid.mean()],\n",
    "           'mse_test_shifte': [pd.DataFrame(opt_model_test_shifted_scores).mse_test.mean()],\n",
    "           'mae_test_shifted': [pd.DataFrame(opt_model_test_shifted_scores).mae_test.mean()],\n",
    "           'r2_test_shifted': [pd.DataFrame(opt_model_test_shifted_scores).r2_test.mean()],\n",
    "           'mse_test_fixed': [opt_model_test_fixed_scores['mse_test']],\n",
    "           'mae_test_fixed': [opt_model_test_fixed_scores['mae_test']],\n",
    "           'r2_test_fixed': [opt_model_test_fixed_scores['r2_test']],   \n",
    "            'opt_model': [opt_model.get_params()]\n",
    "          }\n",
    "\n",
    "display(pd.DataFrame(results))\n",
    "storage_name = str(opt_model) + \"_\" + vif + str(datetime.today().day) + str(datetime.today().hour) + \".xlsx\"\n",
    "pd.DataFrame(results).to_excel(path + \"artifacts\" + slash + storage_name, index=None)"
   ]
  }
 ],
 "metadata": {
  "kernelspec": {
   "display_name": "Python 3 (ipykernel)",
   "language": "python",
   "name": "python3"
  },
  "language_info": {
   "codemirror_mode": {
    "name": "ipython",
    "version": 3
   },
   "file_extension": ".py",
   "mimetype": "text/x-python",
   "name": "python",
   "nbconvert_exporter": "python",
   "pygments_lexer": "ipython3",
   "version": "3.9.13"
  }
 },
 "nbformat": 4,
 "nbformat_minor": 5
}
