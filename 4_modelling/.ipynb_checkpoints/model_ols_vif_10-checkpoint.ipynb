{
 "cells": [
  {
   "cell_type": "markdown",
   "id": "4c131a3d",
   "metadata": {},
   "source": [
    "# Ordinary Least Squares (vif 10)\n",
    "https://scikit-learn.org/stable/modules/linear_model.html#ordinary-least-squares\n",
    "\n",
    "linear_model.LinearRegression()\n",
    "\n",
    "{'copy_X': True,   \n",
    " 'fit_intercept': True,    \n",
    " 'n_jobs': None,   \n",
    " 'normalize': 'deprecated',    \n",
    " 'positive': False}\n",
    " \n",
    " **_no hyperparameter tuning_**"
   ]
  },
  {
   "cell_type": "code",
   "execution_count": 1,
   "id": "e0dcc2c6",
   "metadata": {},
   "outputs": [],
   "source": [
    "# config 'all', 'vif_5' or 'vif_10'\n",
    "vif = 'vif_10'"
   ]
  },
  {
   "cell_type": "code",
   "execution_count": 2,
   "id": "1630d5ac",
   "metadata": {},
   "outputs": [],
   "source": [
    "from datetime import datetime\n",
    "import matplotlib.pyplot as plt\n",
    "import numpy as np\n",
    "import pandas as pd\n",
    "import pathlib\n",
    "import platform\n",
    "import seaborn as sns\n",
    "from sklearn import linear_model\n",
    "from sklearn.linear_model import MultiTaskElasticNet\n",
    "from sklearn.metrics import mean_squared_error\n",
    "from sklearn.metrics import mean_absolute_error\n",
    "from sklearn.preprocessing import StandardScaler\n",
    "from skopt import gp_minimize, space\n",
    "import sys\n",
    "\n",
    "from validation import cross_validation\n",
    "from validation import performance_test_fixed\n",
    "from validation import performance_test_shifted\n",
    "\n",
    "date_format = \"%Y-%m-%d\"\n",
    "\n",
    "pd.options.display.max_columns = None\n",
    "pd.options.display.max_rows = None\n",
    "pd.options.display.max_colwidth = None"
   ]
  },
  {
   "cell_type": "code",
   "execution_count": 3,
   "id": "15964d92",
   "metadata": {},
   "outputs": [
    {
     "name": "stdout",
     "output_type": "stream",
     "text": [
      "OS in my system:  Windows\n"
     ]
    }
   ],
   "source": [
    "my_os = platform.system()\n",
    "print(\"OS in my system: \",my_os)\n",
    "\n",
    "if my_os == \"Windows\":\n",
    "    path = str(pathlib.Path().absolute()) + '\\\\'\n",
    "    slash = '\\\\'\n",
    "else:\n",
    "    path = str(pathlib.Path().absolute()) + '/'\n",
    "    slash = '/'\n",
    "\n",
    "path_3 = path.replace('4_modelling', '3_data_pre-processing')"
   ]
  },
  {
   "cell_type": "markdown",
   "id": "910f8ca5",
   "metadata": {},
   "source": [
    "## Load Data"
   ]
  },
  {
   "cell_type": "code",
   "execution_count": 4,
   "id": "c329743f",
   "metadata": {},
   "outputs": [],
   "source": [
    "data_set = pd.read_csv(path_3 + 'data_artifacts' + slash + 'data_set_e_spx_3-' + vif + '.csv', index_col=0)"
   ]
  },
  {
   "cell_type": "markdown",
   "id": "22befa88",
   "metadata": {},
   "source": [
    "## Time Series Cross Validation on Default/Optimal Model\n",
    "_optimal model = default model_"
   ]
  },
  {
   "cell_type": "code",
   "execution_count": 5,
   "id": "f5f1bcf2",
   "metadata": {},
   "outputs": [
    {
     "data": {
      "text/plain": [
       "{'copy_X': True,\n",
       " 'fit_intercept': True,\n",
       " 'n_jobs': None,\n",
       " 'normalize': 'deprecated',\n",
       " 'positive': False}"
      ]
     },
     "execution_count": 5,
     "metadata": {},
     "output_type": "execute_result"
    }
   ],
   "source": [
    "opt_model = linear_model.LinearRegression()\n",
    "opt_model.get_params()"
   ]
  },
  {
   "cell_type": "code",
   "execution_count": 6,
   "id": "c1897aed",
   "metadata": {},
   "outputs": [
    {
     "data": {
      "text/html": [
       "<div>\n",
       "<style scoped>\n",
       "    .dataframe tbody tr th:only-of-type {\n",
       "        vertical-align: middle;\n",
       "    }\n",
       "\n",
       "    .dataframe tbody tr th {\n",
       "        vertical-align: top;\n",
       "    }\n",
       "\n",
       "    .dataframe thead th {\n",
       "        text-align: right;\n",
       "    }\n",
       "</style>\n",
       "<table border=\"1\" class=\"dataframe\">\n",
       "  <thead>\n",
       "    <tr style=\"text-align: right;\">\n",
       "      <th></th>\n",
       "      <th>mse_train</th>\n",
       "      <th>mae_train</th>\n",
       "      <th>r2_train</th>\n",
       "      <th>mse_valid</th>\n",
       "      <th>mae_valid</th>\n",
       "      <th>r2_valid</th>\n",
       "    </tr>\n",
       "  </thead>\n",
       "  <tbody>\n",
       "    <tr>\n",
       "      <th>count</th>\n",
       "      <td>10.000000</td>\n",
       "      <td>10.000000</td>\n",
       "      <td>10.000000</td>\n",
       "      <td>10.000000</td>\n",
       "      <td>10.000000</td>\n",
       "      <td>10.000000</td>\n",
       "    </tr>\n",
       "    <tr>\n",
       "      <th>mean</th>\n",
       "      <td>0.108216</td>\n",
       "      <td>0.226469</td>\n",
       "      <td>0.192738</td>\n",
       "      <td>0.117574</td>\n",
       "      <td>0.237636</td>\n",
       "      <td>0.083092</td>\n",
       "    </tr>\n",
       "    <tr>\n",
       "      <th>std</th>\n",
       "      <td>0.001476</td>\n",
       "      <td>0.001686</td>\n",
       "      <td>0.004416</td>\n",
       "      <td>0.014412</td>\n",
       "      <td>0.013954</td>\n",
       "      <td>0.083084</td>\n",
       "    </tr>\n",
       "    <tr>\n",
       "      <th>min</th>\n",
       "      <td>0.105576</td>\n",
       "      <td>0.223099</td>\n",
       "      <td>0.185846</td>\n",
       "      <td>0.100548</td>\n",
       "      <td>0.216926</td>\n",
       "      <td>-0.120031</td>\n",
       "    </tr>\n",
       "    <tr>\n",
       "      <th>25%</th>\n",
       "      <td>0.107762</td>\n",
       "      <td>0.225955</td>\n",
       "      <td>0.190344</td>\n",
       "      <td>0.108952</td>\n",
       "      <td>0.228078</td>\n",
       "      <td>0.079223</td>\n",
       "    </tr>\n",
       "    <tr>\n",
       "      <th>50%</th>\n",
       "      <td>0.108303</td>\n",
       "      <td>0.226551</td>\n",
       "      <td>0.191784</td>\n",
       "      <td>0.109274</td>\n",
       "      <td>0.232239</td>\n",
       "      <td>0.100136</td>\n",
       "    </tr>\n",
       "    <tr>\n",
       "      <th>75%</th>\n",
       "      <td>0.109395</td>\n",
       "      <td>0.227418</td>\n",
       "      <td>0.195808</td>\n",
       "      <td>0.129105</td>\n",
       "      <td>0.248109</td>\n",
       "      <td>0.119094</td>\n",
       "    </tr>\n",
       "    <tr>\n",
       "      <th>max</th>\n",
       "      <td>0.109916</td>\n",
       "      <td>0.229332</td>\n",
       "      <td>0.199906</td>\n",
       "      <td>0.143924</td>\n",
       "      <td>0.260036</td>\n",
       "      <td>0.166539</td>\n",
       "    </tr>\n",
       "  </tbody>\n",
       "</table>\n",
       "</div>"
      ],
      "text/plain": [
       "       mse_train  mae_train   r2_train  mse_valid  mae_valid   r2_valid\n",
       "count  10.000000  10.000000  10.000000  10.000000  10.000000  10.000000\n",
       "mean    0.108216   0.226469   0.192738   0.117574   0.237636   0.083092\n",
       "std     0.001476   0.001686   0.004416   0.014412   0.013954   0.083084\n",
       "min     0.105576   0.223099   0.185846   0.100548   0.216926  -0.120031\n",
       "25%     0.107762   0.225955   0.190344   0.108952   0.228078   0.079223\n",
       "50%     0.108303   0.226551   0.191784   0.109274   0.232239   0.100136\n",
       "75%     0.109395   0.227418   0.195808   0.129105   0.248109   0.119094\n",
       "max     0.109916   0.229332   0.199906   0.143924   0.260036   0.166539"
      ]
     },
     "execution_count": 6,
     "metadata": {},
     "output_type": "execute_result"
    }
   ],
   "source": [
    "opt_model_scores = cross_validation (data_set, opt_model, True)\n",
    "pd.DataFrame(opt_model_scores).describe()"
   ]
  },
  {
   "cell_type": "code",
   "execution_count": 7,
   "id": "9854ad13",
   "metadata": {},
   "outputs": [
    {
     "data": {
      "image/png": "[encoded data removed]",
      "text/plain": [
       "<Figure size 800x400 with 1 Axes>"
      ]
     },
     "metadata": {},
     "output_type": "display_data"
    }
   ],
   "source": [
    "ax = pd.DataFrame(opt_model_scores).plot(figsize=(8,4))"
   ]
  },
  {
   "cell_type": "markdown",
   "id": "87f55394",
   "metadata": {},
   "source": [
    "## Hyperparameter Optimization with Time Series Cross Validation\n",
    "_model does not require hyperparameter tuning -> model is edtimated from training sample only to enhance comparability among all used machine learning techniques_"
   ]
  },
  {
   "cell_type": "markdown",
   "id": "8d507593",
   "metadata": {},
   "source": [
    "## Model Performance on Test Set"
   ]
  },
  {
   "cell_type": "code",
   "execution_count": 8,
   "id": "507e624d",
   "metadata": {},
   "outputs": [
    {
     "data": {
      "text/html": [
       "<div>\n",
       "<style scoped>\n",
       "    .dataframe tbody tr th:only-of-type {\n",
       "        vertical-align: middle;\n",
       "    }\n",
       "\n",
       "    .dataframe tbody tr th {\n",
       "        vertical-align: top;\n",
       "    }\n",
       "\n",
       "    .dataframe thead th {\n",
       "        text-align: right;\n",
       "    }\n",
       "</style>\n",
       "<table border=\"1\" class=\"dataframe\">\n",
       "  <thead>\n",
       "    <tr style=\"text-align: right;\">\n",
       "      <th></th>\n",
       "      <th>mse_test</th>\n",
       "      <th>mae_test</th>\n",
       "      <th>r2_test</th>\n",
       "    </tr>\n",
       "  </thead>\n",
       "  <tbody>\n",
       "    <tr>\n",
       "      <th>count</th>\n",
       "      <td>10.000000</td>\n",
       "      <td>10.000000</td>\n",
       "      <td>10.000000</td>\n",
       "    </tr>\n",
       "    <tr>\n",
       "      <th>mean</th>\n",
       "      <td>0.116832</td>\n",
       "      <td>0.236270</td>\n",
       "      <td>0.098804</td>\n",
       "    </tr>\n",
       "    <tr>\n",
       "      <th>std</th>\n",
       "      <td>0.015423</td>\n",
       "      <td>0.015222</td>\n",
       "      <td>0.054941</td>\n",
       "    </tr>\n",
       "    <tr>\n",
       "      <th>min</th>\n",
       "      <td>0.100581</td>\n",
       "      <td>0.217450</td>\n",
       "      <td>-0.006720</td>\n",
       "    </tr>\n",
       "    <tr>\n",
       "      <th>25%</th>\n",
       "      <td>0.106959</td>\n",
       "      <td>0.226163</td>\n",
       "      <td>0.074136</td>\n",
       "    </tr>\n",
       "    <tr>\n",
       "      <th>50%</th>\n",
       "      <td>0.110774</td>\n",
       "      <td>0.231858</td>\n",
       "      <td>0.095849</td>\n",
       "    </tr>\n",
       "    <tr>\n",
       "      <th>75%</th>\n",
       "      <td>0.130071</td>\n",
       "      <td>0.249235</td>\n",
       "      <td>0.144534</td>\n",
       "    </tr>\n",
       "    <tr>\n",
       "      <th>max</th>\n",
       "      <td>0.142336</td>\n",
       "      <td>0.258964</td>\n",
       "      <td>0.166030</td>\n",
       "    </tr>\n",
       "  </tbody>\n",
       "</table>\n",
       "</div>"
      ],
      "text/plain": [
       "        mse_test   mae_test    r2_test\n",
       "count  10.000000  10.000000  10.000000\n",
       "mean    0.116832   0.236270   0.098804\n",
       "std     0.015423   0.015222   0.054941\n",
       "min     0.100581   0.217450  -0.006720\n",
       "25%     0.106959   0.226163   0.074136\n",
       "50%     0.110774   0.231858   0.095849\n",
       "75%     0.130071   0.249235   0.144534\n",
       "max     0.142336   0.258964   0.166030"
      ]
     },
     "metadata": {},
     "output_type": "display_data"
    },
    {
     "name": "stdout",
     "output_type": "stream",
     "text": [
      "{'mse_test': 0.11569062054251378, 'mae_test': 0.23491092229104135, 'r2_test': 0.08902841067587187}\n"
     ]
    }
   ],
   "source": [
    "# optimal parameter model performance on test set (unseen data)\n",
    "opt_model_test_shifted_scores = performance_test_shifted(data_set, opt_model, True)\n",
    "display(pd.DataFrame(opt_model_test_shifted_scores).describe())\n",
    "\n",
    "opt_model_test_fixed_scores = performance_test_fixed(data_set, opt_model, True)\n",
    "print(opt_model_test_fixed_scores)"
   ]
  },
  {
   "cell_type": "code",
   "execution_count": 9,
   "id": "455c6448",
   "metadata": {},
   "outputs": [
    {
     "data": {
      "image/png": "[encoded data removed]",
      "text/plain": [
       "<Figure size 800x400 with 1 Axes>"
      ]
     },
     "metadata": {},
     "output_type": "display_data"
    }
   ],
   "source": [
    "ax = pd.DataFrame(opt_model_test_shifted_scores).plot(figsize=(8,4))"
   ]
  },
  {
   "cell_type": "code",
   "execution_count": 10,
   "id": "f545de48",
   "metadata": {},
   "outputs": [
    {
     "data": {
      "text/html": [
       "<div>\n",
       "<style scoped>\n",
       "    .dataframe tbody tr th:only-of-type {\n",
       "        vertical-align: middle;\n",
       "    }\n",
       "\n",
       "    .dataframe tbody tr th {\n",
       "        vertical-align: top;\n",
       "    }\n",
       "\n",
       "    .dataframe thead th {\n",
       "        text-align: right;\n",
       "    }\n",
       "</style>\n",
       "<table border=\"1\" class=\"dataframe\">\n",
       "  <thead>\n",
       "    <tr style=\"text-align: right;\">\n",
       "      <th></th>\n",
       "      <th>Model</th>\n",
       "      <th>vif</th>\n",
       "      <th>opt_params</th>\n",
       "      <th>fun_min</th>\n",
       "      <th>mse_tscv</th>\n",
       "      <th>mae_tscv</th>\n",
       "      <th>r2_tscv</th>\n",
       "      <th>mse_test_shifte</th>\n",
       "      <th>mae_test_shifted</th>\n",
       "      <th>r2_test_shifted</th>\n",
       "      <th>mse_test_fixed</th>\n",
       "      <th>mae_test_fixed</th>\n",
       "      <th>r2_test_fixed</th>\n",
       "      <th>opt_model</th>\n",
       "    </tr>\n",
       "  </thead>\n",
       "  <tbody>\n",
       "    <tr>\n",
       "      <th>0</th>\n",
       "      <td>LinearRegression()</td>\n",
       "      <td>vif_10</td>\n",
       "      <td>non-parametric</td>\n",
       "      <td>non-parametric</td>\n",
       "      <td>0.117574</td>\n",
       "      <td>0.237636</td>\n",
       "      <td>0.083092</td>\n",
       "      <td>0.116832</td>\n",
       "      <td>0.23627</td>\n",
       "      <td>0.098804</td>\n",
       "      <td>0.115691</td>\n",
       "      <td>0.234911</td>\n",
       "      <td>0.089028</td>\n",
       "      <td>{'copy_X': True, 'fit_intercept': True, 'n_jobs': None, 'normalize': 'deprecated', 'positive': False}</td>\n",
       "    </tr>\n",
       "  </tbody>\n",
       "</table>\n",
       "</div>"
      ],
      "text/plain": [
       "                Model     vif      opt_params         fun_min  mse_tscv  \\\n",
       "0  LinearRegression()  vif_10  non-parametric  non-parametric  0.117574   \n",
       "\n",
       "   mae_tscv   r2_tscv  mse_test_shifte  mae_test_shifted  r2_test_shifted  \\\n",
       "0  0.237636  0.083092         0.116832           0.23627         0.098804   \n",
       "\n",
       "   mse_test_fixed  mae_test_fixed  r2_test_fixed  \\\n",
       "0        0.115691        0.234911       0.089028   \n",
       "\n",
       "                                                                                               opt_model  \n",
       "0  {'copy_X': True, 'fit_intercept': True, 'n_jobs': None, 'normalize': 'deprecated', 'positive': False}  "
      ]
     },
     "metadata": {},
     "output_type": "display_data"
    }
   ],
   "source": [
    "# safe to excel (non-parametric)\n",
    "# (vif10)\n",
    "results = {'Model': [opt_model],\n",
    "           'vif': [vif],\n",
    "           'opt_params': ['non-parametric'],\n",
    "           'fun_min': ['non-parametric'],\n",
    "           'mse_tscv': [pd.DataFrame(opt_model_scores).mse_valid.mean()],\n",
    "           'mae_tscv': [pd.DataFrame(opt_model_scores).mae_valid.mean()],\n",
    "           'r2_tscv': [pd.DataFrame(opt_model_scores).r2_valid.mean()],\n",
    "           'mse_test_shifte': [pd.DataFrame(opt_model_test_shifted_scores).mse_test.mean()],\n",
    "           'mae_test_shifted': [pd.DataFrame(opt_model_test_shifted_scores).mae_test.mean()],\n",
    "           'r2_test_shifted': [pd.DataFrame(opt_model_test_shifted_scores).r2_test.mean()],\n",
    "           'mse_test_fixed': [opt_model_test_fixed_scores['mse_test']],\n",
    "           'mae_test_fixed': [opt_model_test_fixed_scores['mae_test']],\n",
    "           'r2_test_fixed': [opt_model_test_fixed_scores['r2_test']],   \n",
    "            'opt_model': [opt_model.get_params()]\n",
    "          }\n",
    "\n",
    "display(pd.DataFrame(results))\n",
    "storage_name = str(opt_model) + \"_\" + vif + str(datetime.today().day) + str(datetime.today().hour) + \".xlsx\"\n",
    "pd.DataFrame(results).to_excel(path + \"artifacts\" + slash + storage_name, index=None)"
   ]
  }
 ],
 "metadata": {
  "kernelspec": {
   "display_name": "Python 3 (ipykernel)",
   "language": "python",
   "name": "python3"
  },
  "language_info": {
   "codemirror_mode": {
    "name": "ipython",
    "version": 3
   },
   "file_extension": ".py",
   "mimetype": "text/x-python",
   "name": "python",
   "nbconvert_exporter": "python",
   "pygments_lexer": "ipython3",
   "version": "3.9.13"
  }
 },
 "nbformat": 4,
 "nbformat_minor": 5
}
